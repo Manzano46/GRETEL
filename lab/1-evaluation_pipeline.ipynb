{
 "cells": [
  {
   "cell_type": "markdown",
   "metadata": {},
   "source": [
    "### Setting paths and imports"
   ]
  },
  {
   "cell_type": "code",
   "execution_count": 1,
   "metadata": {},
   "outputs": [],
   "source": [
    "import sys\n",
    "import os\n",
    "import pandas as pd\n",
    "\n",
    "module_path = os.path.abspath(os.path.join('..'))\n",
    "sys.path.append(module_path)\n",
    "module_path\n",
    "\n",
    "os.chdir(module_path)\n",
    "\n",
    "# from src.evaluation.evaluator_manager import EvaluatorManager\n",
    "# from src.evaluation.future.evaluator_manager_do import EvaluatorManager as PairedEvaluatorManager\n",
    "from src.utils.context import Context\n",
    "from src.data_analysis.future.data_analyzer import DataAnalyzer as data_analyzer\n",
    "\n",
    "from src.evaluation.future.evaluator_manager_triplets import EvaluatorManager\n",
    "\n",
    "config_f_name = 'generate_minimize/asd/dcm/dcm-dummy/generate_minimize0.jsonc'"
   ]
  },
  {
   "cell_type": "markdown",
   "metadata": {},
   "source": [
    "### Evaluating the explainer"
   ]
  },
  {
   "cell_type": "code",
   "execution_count": 2,
   "metadata": {},
   "outputs": [
    {
     "name": "stdout",
     "output_type": "stream",
     "text": [
      "Generating context for: d:\\escuela\\4to\\Tesis\\repo\\GRETEL\\lab\\config\\generate_minimize/asd/dcm/dcm-dummy/generate_minimize0.jsonc\n",
      "2024-12-26 14:37:23,75056401 | INFO | 21684 - Executing: d:\\escuela\\4to\\Tesis\\repo\\GRETEL\\lab\\config\\generate_minimize/asd/dcm/dcm-dummy/generate_minimize0.jsonc Run: 1\n",
      "2024-12-26 14:37:24,75056423 | INFO | 21684 - Creating the evaluation manager....................................\n",
      "2024-12-26 14:37:24,75056443 | INFO | 21684 - Creating the evaluators......................................................\n",
      "2024-12-26 14:37:24,75056553 | INFO | 21684 - Loading: ASD-15273954d84e872cf0b021cd4477bfdc\n",
      "2024-12-26 14:37:24,75056658 | INFO | 21684 - Created: ASD-15273954d84e872cf0b021cd4477bfdc\n",
      "2024-12-26 14:37:24,75056739 | INFO | 21684 - Loading: ASDOracle-9e4f3586dc330143b7849fc540b25739\n",
      "2024-12-26 14:37:24,75056820 | INFO | 21684 - Created: ASDOracle-9e4f3586dc330143b7849fc540b25739\n",
      "2024-12-26 14:37:24,75056892 | INFO | 21684 - Instantiating: src.explainer.future.search.dcm.DCM\n",
      "2024-12-26 14:37:24,75057015 | INFO | 21684 - Creating: DCM-2b2b05d8662f5261a9c9fb2a0a572cc1\n",
      "2024-12-26 14:37:24,75057062 | INFO | 21684 - DCM trained in: 0.0 secs\n"
     ]
    },
    {
     "ename": "KeyboardInterrupt",
     "evalue": "",
     "output_type": "error",
     "traceback": [
      "\u001b[1;31m---------------------------------------------------------------------------\u001b[0m",
      "\u001b[1;31mKeyboardInterrupt\u001b[0m                         Traceback (most recent call last)",
      "Cell \u001b[1;32mIn[2], line 12\u001b[0m\n\u001b[0;32m      9\u001b[0m context\u001b[38;5;241m.\u001b[39mlogger\u001b[38;5;241m.\u001b[39minfo(\u001b[38;5;124m\"\u001b[39m\u001b[38;5;124mCreating the evaluation manager....................................\u001b[39m\u001b[38;5;124m\"\u001b[39m)\n\u001b[0;32m     11\u001b[0m context\u001b[38;5;241m.\u001b[39mlogger\u001b[38;5;241m.\u001b[39minfo(\u001b[38;5;124m\"\u001b[39m\u001b[38;5;124mCreating the evaluators......................................................\u001b[39m\u001b[38;5;124m\"\u001b[39m)\n\u001b[1;32m---> 12\u001b[0m eval_manager \u001b[38;5;241m=\u001b[39m \u001b[43mEvaluatorManager\u001b[49m\u001b[43m(\u001b[49m\u001b[43mcontext\u001b[49m\u001b[43m)\u001b[49m\n\u001b[0;32m     14\u001b[0m context\u001b[38;5;241m.\u001b[39mlogger\u001b[38;5;241m.\u001b[39minfo(\n\u001b[0;32m     15\u001b[0m     \u001b[38;5;124m\"\u001b[39m\u001b[38;5;124mEvaluating the explainers.............................................................\u001b[39m\u001b[38;5;124m\"\u001b[39m\n\u001b[0;32m     16\u001b[0m )\n\u001b[0;32m     17\u001b[0m eval_manager\u001b[38;5;241m.\u001b[39mevaluate()\n",
      "File \u001b[1;32md:\\escuela\\4to\\Tesis\\repo\\GRETEL\\src\\evaluation\\future\\evaluator_manager_triplets.py:28\u001b[0m, in \u001b[0;36mEvaluatorManager.__init__\u001b[1;34m(self, context)\u001b[0m\n\u001b[0;32m     25\u001b[0m \u001b[38;5;28mself\u001b[39m\u001b[38;5;241m.\u001b[39mcontext\u001b[38;5;241m.\u001b[39mfactories[\u001b[38;5;124m'\u001b[39m\u001b[38;5;124mevaluators\u001b[39m\u001b[38;5;124m'\u001b[39m] \u001b[38;5;241m=\u001b[39m EvaluatorFactory(context)\n\u001b[0;32m     26\u001b[0m \u001b[38;5;66;03m# self.context.factories['metrics'] = EvaluationMetricFactory(context.conf)\u001b[39;00m\n\u001b[1;32m---> 28\u001b[0m \u001b[38;5;28;43mself\u001b[39;49m\u001b[38;5;241;43m.\u001b[39;49m\u001b[43m_create_evaluators\u001b[49m\u001b[43m(\u001b[49m\u001b[43m)\u001b[49m\n",
      "File \u001b[1;32md:\\escuela\\4to\\Tesis\\repo\\GRETEL\\src\\evaluation\\future\\evaluator_manager_triplets.py:52\u001b[0m, in \u001b[0;36mEvaluatorManager._create_evaluators\u001b[1;34m(self)\u001b[0m\n\u001b[0;32m     50\u001b[0m dataset \u001b[38;5;241m=\u001b[39m \u001b[38;5;28mself\u001b[39m\u001b[38;5;241m.\u001b[39mcontext\u001b[38;5;241m.\u001b[39mfactories[\u001b[38;5;124m'\u001b[39m\u001b[38;5;124mdatasets\u001b[39m\u001b[38;5;124m'\u001b[39m]\u001b[38;5;241m.\u001b[39mget_dataset(triplet_snippet[\u001b[38;5;124m'\u001b[39m\u001b[38;5;124mdataset\u001b[39m\u001b[38;5;124m'\u001b[39m])\n\u001b[0;32m     51\u001b[0m oracle \u001b[38;5;241m=\u001b[39m \u001b[38;5;28mself\u001b[39m\u001b[38;5;241m.\u001b[39mcontext\u001b[38;5;241m.\u001b[39mfactories[\u001b[38;5;124m'\u001b[39m\u001b[38;5;124moracles\u001b[39m\u001b[38;5;124m'\u001b[39m]\u001b[38;5;241m.\u001b[39mget_oracle(triplet_snippet[\u001b[38;5;124m'\u001b[39m\u001b[38;5;124moracle\u001b[39m\u001b[38;5;124m'\u001b[39m], dataset)\n\u001b[1;32m---> 52\u001b[0m explainer \u001b[38;5;241m=\u001b[39m \u001b[38;5;28;43mself\u001b[39;49m\u001b[38;5;241;43m.\u001b[39;49m\u001b[43mcontext\u001b[49m\u001b[38;5;241;43m.\u001b[39;49m\u001b[43mfactories\u001b[49m\u001b[43m[\u001b[49m\u001b[38;5;124;43m'\u001b[39;49m\u001b[38;5;124;43mexplainers\u001b[39;49m\u001b[38;5;124;43m'\u001b[39;49m\u001b[43m]\u001b[49m\u001b[38;5;241;43m.\u001b[39;49m\u001b[43mget_explainer\u001b[49m\u001b[43m(\u001b[49m\u001b[43mtriplet_snippet\u001b[49m\u001b[43m[\u001b[49m\u001b[38;5;124;43m'\u001b[39;49m\u001b[38;5;124;43mexplainer\u001b[39;49m\u001b[38;5;124;43m'\u001b[39;49m\u001b[43m]\u001b[49m\u001b[43m,\u001b[49m\u001b[43m \u001b[49m\u001b[43mdataset\u001b[49m\u001b[43m,\u001b[49m\u001b[43m \u001b[49m\u001b[43moracle\u001b[49m\u001b[43m)\u001b[49m\n\u001b[0;32m     53\u001b[0m evaluator \u001b[38;5;241m=\u001b[39m \u001b[38;5;28mself\u001b[39m\u001b[38;5;241m.\u001b[39mcontext\u001b[38;5;241m.\u001b[39mfactories[\u001b[38;5;124m'\u001b[39m\u001b[38;5;124mevaluators\u001b[39m\u001b[38;5;124m'\u001b[39m]\u001b[38;5;241m.\u001b[39mget_evaluator(evaluator_snippet\u001b[38;5;241m=\u001b[39mevaluator_conf, \n\u001b[0;32m     54\u001b[0m                                                                dataset\u001b[38;5;241m=\u001b[39mdataset, \n\u001b[0;32m     55\u001b[0m                                                                oracle\u001b[38;5;241m=\u001b[39moracle,\n\u001b[1;32m   (...)\u001b[0m\n\u001b[0;32m     58\u001b[0m                                                                results_store_path\u001b[38;5;241m=\u001b[39m\u001b[38;5;28mself\u001b[39m\u001b[38;5;241m.\u001b[39m_output_store_path,\n\u001b[0;32m     59\u001b[0m                                                                run_number\u001b[38;5;241m=\u001b[39m\u001b[38;5;28mself\u001b[39m\u001b[38;5;241m.\u001b[39mcontext\u001b[38;5;241m.\u001b[39mrun_number)\n\u001b[0;32m     61\u001b[0m \u001b[38;5;28mself\u001b[39m\u001b[38;5;241m.\u001b[39m_evaluators\u001b[38;5;241m.\u001b[39mappend(evaluator)\n",
      "File \u001b[1;32md:\\escuela\\4to\\Tesis\\repo\\GRETEL\\src\\explainer\\explainer_factory.py:8\u001b[0m, in \u001b[0;36mExplainerFactory.get_explainer\u001b[1;34m(self, explainer_snippet, dataset, oracle)\u001b[0m\n\u001b[0;32m      6\u001b[0m inject_dataset(explainer_snippet, dataset)\n\u001b[0;32m      7\u001b[0m inject_oracle(explainer_snippet, oracle)        \n\u001b[1;32m----> 8\u001b[0m \u001b[38;5;28;01mreturn\u001b[39;00m \u001b[38;5;28;43mself\u001b[39;49m\u001b[38;5;241;43m.\u001b[39;49m\u001b[43m_get_object\u001b[49m\u001b[43m(\u001b[49m\u001b[43mexplainer_snippet\u001b[49m\u001b[43m)\u001b[49m\n",
      "File \u001b[1;32md:\\escuela\\4to\\Tesis\\repo\\GRETEL\\src\\core\\factory_base.py:9\u001b[0m, in \u001b[0;36mFactory._get_object\u001b[1;34m(self, object_snippet)\u001b[0m\n\u001b[0;32m      8\u001b[0m \u001b[38;5;28;01mdef\u001b[39;00m \u001b[38;5;21m_get_object\u001b[39m(\u001b[38;5;28mself\u001b[39m, object_snippet):\n\u001b[1;32m----> 9\u001b[0m     base_obj \u001b[38;5;241m=\u001b[39m \u001b[43mget_class\u001b[49m\u001b[43m(\u001b[49m\u001b[43mobject_snippet\u001b[49m\u001b[43m[\u001b[49m\u001b[38;5;124;43m'\u001b[39;49m\u001b[38;5;124;43mclass\u001b[39;49m\u001b[38;5;124;43m'\u001b[39;49m\u001b[43m]\u001b[49m\u001b[43m)\u001b[49m\u001b[43m(\u001b[49m\u001b[38;5;28;43mself\u001b[39;49m\u001b[38;5;241;43m.\u001b[39;49m\u001b[43mcontext\u001b[49m\u001b[43m,\u001b[49m\u001b[43m \u001b[49m\u001b[43mobject_snippet\u001b[49m\u001b[43m)\u001b[49m\n\u001b[0;32m     10\u001b[0m     \u001b[38;5;28mself\u001b[39m\u001b[38;5;241m.\u001b[39mcontext\u001b[38;5;241m.\u001b[39mlogger\u001b[38;5;241m.\u001b[39minfo(\u001b[38;5;124m\"\u001b[39m\u001b[38;5;124mCreated: \u001b[39m\u001b[38;5;124m\"\u001b[39m\u001b[38;5;241m+\u001b[39m \u001b[38;5;28mstr\u001b[39m(base_obj))\n\u001b[0;32m     11\u001b[0m     \u001b[38;5;28;01mreturn\u001b[39;00m base_obj\n",
      "File \u001b[1;32md:\\escuela\\4to\\Tesis\\repo\\GRETEL\\src\\core\\explainer_base.py:11\u001b[0m, in \u001b[0;36mExplainer.__init__\u001b[1;34m(self, context, local_config)\u001b[0m\n\u001b[0;32m      9\u001b[0m \u001b[38;5;28mself\u001b[39m\u001b[38;5;241m.\u001b[39mdataset \u001b[38;5;241m=\u001b[39m retake_dataset(local_config)\n\u001b[0;32m     10\u001b[0m \u001b[38;5;28mself\u001b[39m\u001b[38;5;241m.\u001b[39moracle \u001b[38;5;241m=\u001b[39m retake_oracle(local_config)\n\u001b[1;32m---> 11\u001b[0m \u001b[38;5;28;43msuper\u001b[39;49m\u001b[43m(\u001b[49m\u001b[43m)\u001b[49m\u001b[38;5;241;43m.\u001b[39;49m\u001b[38;5;21;43m__init__\u001b[39;49m\u001b[43m(\u001b[49m\u001b[43mcontext\u001b[49m\u001b[43m,\u001b[49m\u001b[43m \u001b[49m\u001b[43mlocal_config\u001b[49m\u001b[43m)\u001b[49m\n",
      "File \u001b[1;32md:\\escuela\\4to\\Tesis\\repo\\GRETEL\\src\\core\\configurable.py:12\u001b[0m, in \u001b[0;36mConfigurable.__init__\u001b[1;34m(self, context, local_config)\u001b[0m\n\u001b[0;32m     10\u001b[0m \u001b[38;5;28mself\u001b[39m\u001b[38;5;241m.\u001b[39mlocal_config \u001b[38;5;241m=\u001b[39m local_config\u001b[38;5;66;03m#copy.deepcopy(local_config)\u001b[39;00m\n\u001b[0;32m     11\u001b[0m \u001b[38;5;28mself\u001b[39m\u001b[38;5;241m.\u001b[39mcheck_configuration()\n\u001b[1;32m---> 12\u001b[0m \u001b[38;5;28;43mself\u001b[39;49m\u001b[38;5;241;43m.\u001b[39;49m\u001b[43minit\u001b[49m\u001b[43m(\u001b[49m\u001b[43m)\u001b[49m\n",
      "File \u001b[1;32md:\\escuela\\4to\\Tesis\\repo\\GRETEL\\src\\explainer\\future\\meta\\generate_minimize.py:40\u001b[0m, in \u001b[0;36mGenerateMinimize.init\u001b[1;34m(self)\u001b[0m\n\u001b[0;32m     37\u001b[0m \u001b[38;5;28msuper\u001b[39m()\u001b[38;5;241m.\u001b[39minit()\n\u001b[0;32m     38\u001b[0m \u001b[38;5;28mself\u001b[39m\u001b[38;5;241m.\u001b[39mlogger \u001b[38;5;241m=\u001b[39m \u001b[38;5;28mself\u001b[39m\u001b[38;5;241m.\u001b[39mcontext\u001b[38;5;241m.\u001b[39mlogger\n\u001b[1;32m---> 40\u001b[0m \u001b[38;5;28mself\u001b[39m\u001b[38;5;241m.\u001b[39mexplanation_generator \u001b[38;5;241m=\u001b[39m \u001b[43mget_instance_kvargs\u001b[49m\u001b[43m(\u001b[49m\u001b[38;5;28;43mself\u001b[39;49m\u001b[38;5;241;43m.\u001b[39;49m\u001b[43mlocal_config\u001b[49m\u001b[43m[\u001b[49m\u001b[38;5;124;43m'\u001b[39;49m\u001b[38;5;124;43mparameters\u001b[39;49m\u001b[38;5;124;43m'\u001b[39;49m\u001b[43m]\u001b[49m\u001b[43m[\u001b[49m\u001b[38;5;124;43m'\u001b[39;49m\u001b[38;5;124;43mgenerator\u001b[39;49m\u001b[38;5;124;43m'\u001b[39;49m\u001b[43m]\u001b[49m\u001b[43m[\u001b[49m\u001b[38;5;124;43m'\u001b[39;49m\u001b[38;5;124;43mclass\u001b[39;49m\u001b[38;5;124;43m'\u001b[39;49m\u001b[43m]\u001b[49m\u001b[43m,\u001b[49m\u001b[43m \u001b[49m\n\u001b[0;32m     41\u001b[0m \u001b[43m                                                  \u001b[49m\u001b[43m{\u001b[49m\u001b[38;5;124;43m'\u001b[39;49m\u001b[38;5;124;43mcontext\u001b[39;49m\u001b[38;5;124;43m'\u001b[39;49m\u001b[43m:\u001b[49m\u001b[38;5;28;43mself\u001b[39;49m\u001b[38;5;241;43m.\u001b[39;49m\u001b[43mcontext\u001b[49m\u001b[43m,\u001b[49m\u001b[38;5;124;43m'\u001b[39;49m\u001b[38;5;124;43mlocal_config\u001b[39;49m\u001b[38;5;124;43m'\u001b[39;49m\u001b[43m:\u001b[49m\u001b[43m \u001b[49m\u001b[38;5;28;43mself\u001b[39;49m\u001b[38;5;241;43m.\u001b[39;49m\u001b[43mlocal_config\u001b[49m\u001b[43m[\u001b[49m\u001b[38;5;124;43m'\u001b[39;49m\u001b[38;5;124;43mparameters\u001b[39;49m\u001b[38;5;124;43m'\u001b[39;49m\u001b[43m]\u001b[49m\u001b[43m[\u001b[49m\u001b[38;5;124;43m'\u001b[39;49m\u001b[38;5;124;43mgenerator\u001b[39;49m\u001b[38;5;124;43m'\u001b[39;49m\u001b[43m]\u001b[49m\u001b[43m}\u001b[49m\u001b[43m)\u001b[49m\n\u001b[0;32m     43\u001b[0m \u001b[38;5;28mself\u001b[39m\u001b[38;5;241m.\u001b[39mexplanation_minimizer \u001b[38;5;241m=\u001b[39m get_instance_kvargs(\u001b[38;5;28mself\u001b[39m\u001b[38;5;241m.\u001b[39mlocal_config[\u001b[38;5;124m'\u001b[39m\u001b[38;5;124mparameters\u001b[39m\u001b[38;5;124m'\u001b[39m][\u001b[38;5;124m'\u001b[39m\u001b[38;5;124mminimizer\u001b[39m\u001b[38;5;124m'\u001b[39m][\u001b[38;5;124m'\u001b[39m\u001b[38;5;124mclass\u001b[39m\u001b[38;5;124m'\u001b[39m], \n\u001b[0;32m     44\u001b[0m                                                   {\u001b[38;5;124m'\u001b[39m\u001b[38;5;124mcontext\u001b[39m\u001b[38;5;124m'\u001b[39m:\u001b[38;5;28mself\u001b[39m\u001b[38;5;241m.\u001b[39mcontext,\u001b[38;5;124m'\u001b[39m\u001b[38;5;124mlocal_config\u001b[39m\u001b[38;5;124m'\u001b[39m: \u001b[38;5;28mself\u001b[39m\u001b[38;5;241m.\u001b[39mlocal_config[\u001b[38;5;124m'\u001b[39m\u001b[38;5;124mparameters\u001b[39m\u001b[38;5;124m'\u001b[39m][\u001b[38;5;124m'\u001b[39m\u001b[38;5;124mminimizer\u001b[39m\u001b[38;5;124m'\u001b[39m]})\n",
      "File \u001b[1;32md:\\escuela\\4to\\Tesis\\repo\\GRETEL\\src\\core\\factory_base.py:19\u001b[0m, in \u001b[0;36mget_instance_kvargs\u001b[1;34m(kls, param)\u001b[0m\n\u001b[0;32m     17\u001b[0m \u001b[38;5;28;01mdef\u001b[39;00m \u001b[38;5;21mget_instance_kvargs\u001b[39m(kls, param):\n\u001b[0;32m     18\u001b[0m     GLogger\u001b[38;5;241m.\u001b[39mgetLogger()\u001b[38;5;241m.\u001b[39minfo(\u001b[38;5;124m\"\u001b[39m\u001b[38;5;124mInstantiating: \u001b[39m\u001b[38;5;124m\"\u001b[39m\u001b[38;5;241m+\u001b[39mkls)\n\u001b[1;32m---> 19\u001b[0m     \u001b[38;5;28;01mreturn\u001b[39;00m  get_class(kls)(\u001b[38;5;241m*\u001b[39m\u001b[38;5;241m*\u001b[39mparam)\n",
      "File \u001b[1;32md:\\escuela\\4to\\Tesis\\repo\\GRETEL\\src\\core\\explainer_base.py:11\u001b[0m, in \u001b[0;36mExplainer.__init__\u001b[1;34m(self, context, local_config)\u001b[0m\n\u001b[0;32m      9\u001b[0m \u001b[38;5;28mself\u001b[39m\u001b[38;5;241m.\u001b[39mdataset \u001b[38;5;241m=\u001b[39m retake_dataset(local_config)\n\u001b[0;32m     10\u001b[0m \u001b[38;5;28mself\u001b[39m\u001b[38;5;241m.\u001b[39moracle \u001b[38;5;241m=\u001b[39m retake_oracle(local_config)\n\u001b[1;32m---> 11\u001b[0m \u001b[38;5;28;43msuper\u001b[39;49m\u001b[43m(\u001b[49m\u001b[43m)\u001b[49m\u001b[38;5;241;43m.\u001b[39;49m\u001b[38;5;21;43m__init__\u001b[39;49m\u001b[43m(\u001b[49m\u001b[43mcontext\u001b[49m\u001b[43m,\u001b[49m\u001b[43m \u001b[49m\u001b[43mlocal_config\u001b[49m\u001b[43m)\u001b[49m\n",
      "File \u001b[1;32md:\\escuela\\4to\\Tesis\\repo\\GRETEL\\src\\core\\trainable_base.py:13\u001b[0m, in \u001b[0;36mTrainable.__init__\u001b[1;34m(self, context, local_config)\u001b[0m\n\u001b[0;32m     11\u001b[0m \u001b[38;5;28;01mdef\u001b[39;00m \u001b[38;5;21m__init__\u001b[39m(\u001b[38;5;28mself\u001b[39m, context: Context, local_config):\n\u001b[0;32m     12\u001b[0m     \u001b[38;5;28mself\u001b[39m\u001b[38;5;241m.\u001b[39mdataset: Dataset \u001b[38;5;241m=\u001b[39m retake_dataset(local_config)\n\u001b[1;32m---> 13\u001b[0m     \u001b[38;5;28;43msuper\u001b[39;49m\u001b[43m(\u001b[49m\u001b[43m)\u001b[49m\u001b[38;5;241;43m.\u001b[39;49m\u001b[38;5;21;43m__init__\u001b[39;49m\u001b[43m(\u001b[49m\u001b[43mcontext\u001b[49m\u001b[43m,\u001b[49m\u001b[43m \u001b[49m\u001b[43mlocal_config\u001b[49m\u001b[43m)\u001b[49m\n",
      "File \u001b[1;32md:\\escuela\\4to\\Tesis\\repo\\GRETEL\\src\\core\\savable.py:14\u001b[0m, in \u001b[0;36mSavable.__init__\u001b[1;34m(self, context, local_config)\u001b[0m\n\u001b[0;32m     12\u001b[0m \u001b[38;5;28;01mdef\u001b[39;00m \u001b[38;5;21m__init__\u001b[39m(\u001b[38;5;28mself\u001b[39m, context: Context, local_config):\n\u001b[0;32m     13\u001b[0m     \u001b[38;5;28msuper\u001b[39m()\u001b[38;5;241m.\u001b[39m\u001b[38;5;21m__init__\u001b[39m(context, local_config)\n\u001b[1;32m---> 14\u001b[0m     \u001b[38;5;28;43mself\u001b[39;49m\u001b[38;5;241;43m.\u001b[39;49m\u001b[43mload_or_create\u001b[49m\u001b[43m(\u001b[49m\u001b[43m)\u001b[49m\n",
      "File \u001b[1;32md:\\escuela\\4to\\Tesis\\repo\\GRETEL\\src\\core\\trainable_base.py:16\u001b[0m, in \u001b[0;36mTrainable.load_or_create\u001b[1;34m(self, condition)\u001b[0m\n\u001b[0;32m     15\u001b[0m \u001b[38;5;28;01mdef\u001b[39;00m \u001b[38;5;21mload_or_create\u001b[39m(\u001b[38;5;28mself\u001b[39m, condition\u001b[38;5;241m=\u001b[39m\u001b[38;5;28;01mFalse\u001b[39;00m):\n\u001b[1;32m---> 16\u001b[0m     \u001b[38;5;28;43msuper\u001b[39;49m\u001b[43m(\u001b[49m\u001b[43m)\u001b[49m\u001b[38;5;241;43m.\u001b[39;49m\u001b[43mload_or_create\u001b[49m\u001b[43m(\u001b[49m\u001b[38;5;28;43mself\u001b[39;49m\u001b[38;5;241;43m.\u001b[39;49m\u001b[43m_to_retrain\u001b[49m\u001b[43m(\u001b[49m\u001b[43m)\u001b[49m\u001b[43m \u001b[49m\u001b[38;5;129;43;01mor\u001b[39;49;00m\u001b[43m \u001b[49m\u001b[43mcondition\u001b[49m\u001b[43m)\u001b[49m\n",
      "File \u001b[1;32md:\\escuela\\4to\\Tesis\\repo\\GRETEL\\src\\core\\savable.py:44\u001b[0m, in \u001b[0;36mSavable.load_or_create\u001b[1;34m(self, condition_ext)\u001b[0m\n\u001b[0;32m     42\u001b[0m \u001b[38;5;28;01mif\u001b[39;00m condition:\n\u001b[0;32m     43\u001b[0m     \u001b[38;5;28mself\u001b[39m\u001b[38;5;241m.\u001b[39mcontext\u001b[38;5;241m.\u001b[39mlogger\u001b[38;5;241m.\u001b[39minfo(\u001b[38;5;124mf\u001b[39m\u001b[38;5;124m\"\u001b[39m\u001b[38;5;124mCreating: \u001b[39m\u001b[38;5;132;01m{\u001b[39;00m\u001b[38;5;28mself\u001b[39m\u001b[38;5;132;01m}\u001b[39;00m\u001b[38;5;124m\"\u001b[39m)\n\u001b[1;32m---> 44\u001b[0m     \u001b[38;5;28;43mself\u001b[39;49m\u001b[38;5;241;43m.\u001b[39;49m\u001b[43mcreate\u001b[49m\u001b[43m(\u001b[49m\u001b[43m)\u001b[49m\n\u001b[0;32m     45\u001b[0m     \u001b[38;5;28mself\u001b[39m\u001b[38;5;241m.\u001b[39mwrite()\n\u001b[0;32m     46\u001b[0m     \u001b[38;5;28mself\u001b[39m\u001b[38;5;241m.\u001b[39mcontext\u001b[38;5;241m.\u001b[39mlogger\u001b[38;5;241m.\u001b[39minfo(\u001b[38;5;124mf\u001b[39m\u001b[38;5;124m\"\u001b[39m\u001b[38;5;124mSaved: \u001b[39m\u001b[38;5;132;01m{\u001b[39;00m\u001b[38;5;28mself\u001b[39m\u001b[38;5;132;01m}\u001b[39;00m\u001b[38;5;124m\"\u001b[39m)\n",
      "File \u001b[1;32md:\\escuela\\4to\\Tesis\\repo\\GRETEL\\src\\core\\trainable_base.py:38\u001b[0m, in \u001b[0;36mTrainable.create\u001b[1;34m(self)\u001b[0m\n\u001b[0;32m     37\u001b[0m \u001b[38;5;28;01mdef\u001b[39;00m \u001b[38;5;21mcreate\u001b[39m(\u001b[38;5;28mself\u001b[39m):\n\u001b[1;32m---> 38\u001b[0m     \u001b[38;5;28;43mself\u001b[39;49m\u001b[38;5;241;43m.\u001b[39;49m\u001b[43mfit\u001b[49m\u001b[43m(\u001b[49m\u001b[43m)\u001b[49m\n",
      "File \u001b[1;32md:\\escuela\\4to\\Tesis\\repo\\GRETEL\\src\\explainer\\future\\search\\dcm.py:23\u001b[0m, in \u001b[0;36mDCM.fit\u001b[1;34m(self)\u001b[0m\n\u001b[0;32m     21\u001b[0m \u001b[38;5;28msuper\u001b[39m()\u001b[38;5;241m.\u001b[39mfit()\n\u001b[0;32m     22\u001b[0m \u001b[38;5;66;03m#super().read()\u001b[39;00m\n\u001b[1;32m---> 23\u001b[0m \u001b[38;5;28;43msuper\u001b[39;49m\u001b[43m(\u001b[49m\u001b[43m)\u001b[49m\u001b[38;5;241;43m.\u001b[39;49m\u001b[43mload_or_create\u001b[49m\u001b[43m(\u001b[49m\u001b[43m)\u001b[49m\n\u001b[0;32m     25\u001b[0m \u001b[38;5;28mprint\u001b[39m(\u001b[38;5;124m'\u001b[39m\u001b[38;5;124maquiiiiii\u001b[39m\u001b[38;5;124m'\u001b[39m)\n\u001b[0;32m     27\u001b[0m \u001b[38;5;66;03m#if self.model:\u001b[39;00m\n\u001b[0;32m     28\u001b[0m \u001b[38;5;66;03m#   return self.model\u001b[39;00m\n\u001b[0;32m     29\u001b[0m \n\u001b[0;32m     30\u001b[0m \u001b[38;5;66;03m# Realizar el entrenamiento para guardarlo en cache\u001b[39;00m\n",
      "File \u001b[1;32md:\\escuela\\4to\\Tesis\\repo\\GRETEL\\src\\core\\trainable_base.py:16\u001b[0m, in \u001b[0;36mTrainable.load_or_create\u001b[1;34m(self, condition)\u001b[0m\n\u001b[0;32m     15\u001b[0m \u001b[38;5;28;01mdef\u001b[39;00m \u001b[38;5;21mload_or_create\u001b[39m(\u001b[38;5;28mself\u001b[39m, condition\u001b[38;5;241m=\u001b[39m\u001b[38;5;28;01mFalse\u001b[39;00m):\n\u001b[1;32m---> 16\u001b[0m     \u001b[38;5;28;43msuper\u001b[39;49m\u001b[43m(\u001b[49m\u001b[43m)\u001b[49m\u001b[38;5;241;43m.\u001b[39;49m\u001b[43mload_or_create\u001b[49m\u001b[43m(\u001b[49m\u001b[38;5;28;43mself\u001b[39;49m\u001b[38;5;241;43m.\u001b[39;49m\u001b[43m_to_retrain\u001b[49m\u001b[43m(\u001b[49m\u001b[43m)\u001b[49m\u001b[43m \u001b[49m\u001b[38;5;129;43;01mor\u001b[39;49;00m\u001b[43m \u001b[49m\u001b[43mcondition\u001b[49m\u001b[43m)\u001b[49m\n",
      "File \u001b[1;32md:\\escuela\\4to\\Tesis\\repo\\GRETEL\\src\\core\\savable.py:40\u001b[0m, in \u001b[0;36mSavable.load_or_create\u001b[1;34m(self, condition_ext)\u001b[0m\n\u001b[0;32m     38\u001b[0m lock \u001b[38;5;241m=\u001b[39m Lock(path, lifetime, default_timeout\u001b[38;5;241m=\u001b[39mtimeout)\n\u001b[0;32m     39\u001b[0m condition_ext \u001b[38;5;241m=\u001b[39m condition_ext \u001b[38;5;28;01mif\u001b[39;00m \u001b[38;5;129;01mnot\u001b[39;00m lock\u001b[38;5;241m.\u001b[39mis_locked \u001b[38;5;28;01melse\u001b[39;00m \u001b[38;5;28;01mFalse\u001b[39;00m\n\u001b[1;32m---> 40\u001b[0m \u001b[38;5;28;01mwith\u001b[39;00m lock:\n\u001b[0;32m     41\u001b[0m     condition \u001b[38;5;241m=\u001b[39m condition_ext \u001b[38;5;129;01mor\u001b[39;00m \u001b[38;5;129;01mnot\u001b[39;00m \u001b[38;5;28mself\u001b[39m\u001b[38;5;241m.\u001b[39msaved()\n\u001b[0;32m     42\u001b[0m     \u001b[38;5;28;01mif\u001b[39;00m condition:\n",
      "File \u001b[1;32mc:\\Users\\Admin\\miniconda3\\envs\\GRTL\\lib\\site-packages\\flufl\\lock\\_lockfile.py:458\u001b[0m, in \u001b[0;36mLock.__enter__\u001b[1;34m(self)\u001b[0m\n\u001b[0;32m    457\u001b[0m \u001b[38;5;28;01mdef\u001b[39;00m \u001b[38;5;21m__enter__\u001b[39m(\u001b[38;5;28mself\u001b[39m) \u001b[38;5;241m-\u001b[39m\u001b[38;5;241m>\u001b[39m \u001b[38;5;124m'\u001b[39m\u001b[38;5;124mLock\u001b[39m\u001b[38;5;124m'\u001b[39m:\n\u001b[1;32m--> 458\u001b[0m     \u001b[38;5;28;43mself\u001b[39;49m\u001b[38;5;241;43m.\u001b[39;49m\u001b[43mlock\u001b[49m\u001b[43m(\u001b[49m\u001b[43m)\u001b[49m\n\u001b[0;32m    459\u001b[0m     \u001b[38;5;28;01mreturn\u001b[39;00m \u001b[38;5;28mself\u001b[39m\n",
      "File \u001b[1;32mc:\\Users\\Admin\\miniconda3\\envs\\GRTL\\lib\\site-packages\\flufl\\lock\\_lockfile.py:397\u001b[0m, in \u001b[0;36mLock.lock\u001b[1;34m(self, timeout)\u001b[0m\n\u001b[0;32m    395\u001b[0m \u001b[38;5;28;01melif\u001b[39;00m \u001b[38;5;129;01mnot\u001b[39;00m loopcount \u001b[38;5;241m%\u001b[39m \u001b[38;5;241m100\u001b[39m:\n\u001b[0;32m    396\u001b[0m     log\u001b[38;5;241m.\u001b[39mdebug(\u001b[38;5;124mf\u001b[39m\u001b[38;5;124m'\u001b[39m\u001b[38;5;124mwaiting for claim: \u001b[39m\u001b[38;5;132;01m{\u001b[39;00m\u001b[38;5;28mself\u001b[39m\u001b[38;5;241m.\u001b[39m_lockfile\u001b[38;5;132;01m}\u001b[39;00m\u001b[38;5;124m'\u001b[39m)\n\u001b[1;32m--> 397\u001b[0m \u001b[38;5;28;43mself\u001b[39;49m\u001b[38;5;241;43m.\u001b[39;49m\u001b[43m_sleep\u001b[49m\u001b[43m(\u001b[49m\u001b[43m)\u001b[49m\n",
      "File \u001b[1;32mc:\\Users\\Admin\\miniconda3\\envs\\GRTL\\lib\\site-packages\\flufl\\lock\\_lockfile.py:632\u001b[0m, in \u001b[0;36mLock._sleep\u001b[1;34m(self)\u001b[0m\n\u001b[0;32m    630\u001b[0m \u001b[38;5;250m\u001b[39m\u001b[38;5;124;03m\"\"\"Snooze for a random amount of time.\"\"\"\u001b[39;00m\n\u001b[0;32m    631\u001b[0m interval \u001b[38;5;241m=\u001b[39m random\u001b[38;5;241m.\u001b[39mrandom() \u001b[38;5;241m*\u001b[39m \u001b[38;5;241m2.0\u001b[39m \u001b[38;5;241m+\u001b[39m \u001b[38;5;241m0.01\u001b[39m\n\u001b[1;32m--> 632\u001b[0m \u001b[43mtime\u001b[49m\u001b[38;5;241;43m.\u001b[39;49m\u001b[43msleep\u001b[49m\u001b[43m(\u001b[49m\u001b[43minterval\u001b[49m\u001b[43m)\u001b[49m\n",
      "\u001b[1;31mKeyboardInterrupt\u001b[0m: "
     ]
    }
   ],
   "source": [
    "config_path = os.path.join(module_path, 'lab', 'config', config_f_name)\n",
    "runno = 1\n",
    "    \n",
    "print(f\"Generating context for: {config_path}\")\n",
    "context = Context.get_context(config_path)\n",
    "context.run_number = runno\n",
    "\n",
    "context.logger.info(f\"Executing: {context.config_file} Run: {context.run_number}\")\n",
    "context.logger.info(\"Creating the evaluation manager....................................\")\n",
    "\n",
    "context.logger.info(\"Creating the evaluators......................................................\")\n",
    "eval_manager = EvaluatorManager(context)\n",
    "\n",
    "context.logger.info(\n",
    "    \"Evaluating the explainers.............................................................\"\n",
    ")\n",
    "eval_manager.evaluate()"
   ]
  },
  {
   "cell_type": "code",
   "execution_count": null,
   "metadata": {},
   "outputs": [],
   "source": [
    "exp_inst = []\n",
    "for exp in eval_manager.evaluators[0]._explanations:\n",
    "    exp.input_instance._dataset = None\n",
    "    exp.counterfactual_instances[0]._dataset = None\n",
    "    \n",
    "exp_inst = [(exp.input_instance, exp.counterfactual_instances[0]) for exp in eval_manager.evaluators[0]._explanations]"
   ]
  },
  {
   "cell_type": "code",
   "execution_count": null,
   "metadata": {},
   "outputs": [],
   "source": [
    "import os\n",
    "import pickle\n",
    "\n",
    "pickle_path = os.path.join(module_path, 'lab', 'pickles', 'union.pkl')\n",
    "pickle_dir = os.path.dirname(pickle_path)\n",
    "\n",
    "if not os.path.exists(pickle_dir):\n",
    "    os.makedirs(pickle_dir)\n",
    "\n",
    "with open(pickle_path, 'wb') as pickle_file:\n",
    "    pickle.dump(exp_inst, pickle_file)"
   ]
  },
  {
   "cell_type": "code",
   "execution_count": null,
   "metadata": {},
   "outputs": [],
   "source": [
    "with open(os.path.join(module_path, 'lab', 'pickles', 'union.pkl'), 'rb') as clear_file:\n",
    "    clear_exp = pickle.load(clear_file)"
   ]
  },
  {
   "cell_type": "markdown",
   "metadata": {},
   "source": [
    "### Aggregating the stats"
   ]
  },
  {
   "cell_type": "code",
   "execution_count": null,
   "metadata": {},
   "outputs": [],
   "source": [
    "results_path = os.path.join(module_path, 'lab', 'output', 'results')\n",
    "stats_file_path = os.path.join(module_path, 'lab', 'stats', 'results.csv')\n",
    "res = data_analyzer.create_aggregated_dataframe(results_path)\n",
    "res.to_csv(stats_file_path)\n",
    "res"
   ]
  },
  {
   "cell_type": "markdown",
   "metadata": {},
   "source": [
    "### Visualizing individual instances"
   ]
  },
  {
   "cell_type": "code",
   "execution_count": null,
   "metadata": {},
   "outputs": [],
   "source": [
    "evaluator = eval_manager.evaluators[0]\n",
    "evaluator"
   ]
  },
  {
   "cell_type": "code",
   "execution_count": null,
   "metadata": {},
   "outputs": [],
   "source": [
    "exp = evaluator.explanations[2]\n",
    "og_inst = exp.input_instance\n",
    "cf_inst = exp.counterfactual_instances[0]"
   ]
  },
  {
   "cell_type": "markdown",
   "metadata": {},
   "source": [
    "# Drawing Instances"
   ]
  },
  {
   "cell_type": "code",
   "execution_count": null,
   "metadata": {},
   "outputs": [],
   "source": [
    "import pickle\n",
    "\n",
    "with open(os.path.join(module_path, 'lab', 'pickles', 'cf2.pkl'), 'rb') as cf2_file:\n",
    "    cf2_exp = pickle.load(cf2_file)\n",
    "\n",
    "with open(os.path.join(module_path, 'lab', 'pickles', 'clear.pkl'), 'rb') as clear_file:\n",
    "    clear_exp = pickle.load(clear_file)\n",
    "\n",
    "with open(os.path.join(module_path, 'lab', 'pickles', 'irand.pkl'), 'rb') as irand_file:\n",
    "    irand_exp = pickle.load(irand_file)\n",
    "\n",
    "with open(os.path.join(module_path, 'lab', 'pickles', 'obs.pkl'), 'rb') as obs_file:\n",
    "    obs_exp = pickle.load(obs_file)\n",
    "\n",
    "with open(os.path.join(module_path, 'lab', 'pickles', 'rsgg.pkl'), 'rb') as rsgg_file:\n",
    "    rsgg_exp = pickle.load(rsgg_file)\n",
    "\n",
    "with open(os.path.join(module_path, 'lab', 'pickles', 'bidirectional.pkl'), 'rb') as bi_file:\n",
    "    bi_exp = pickle.load(bi_file)\n",
    "\n",
    "with open(os.path.join(module_path, 'lab', 'pickles', 'union.pkl'), 'rb') as union_file:\n",
    "    union_exp = pickle.load(union_file)\n"
   ]
  },
  {
   "cell_type": "code",
   "execution_count": null,
   "metadata": {},
   "outputs": [],
   "source": [
    "i = 7\n",
    "\n",
    "og_inst = cf2_exp[i][0]\n",
    "cf2_cf = cf2_exp[i][1]\n",
    "print(og_inst.id, cf2_cf.id)\n",
    "\n",
    "clear_cf = clear_exp[i][1]\n",
    "print(clear_exp[i][0].id, clear_cf.id)\n",
    "\n",
    "irand_cf = irand_exp[i][1]\n",
    "print(irand_exp[i][0].id, irand_cf.id)\n",
    "\n",
    "obs_cf = obs_exp[i][1]\n",
    "print(obs_exp[i][0].id, obs_cf.id)\n",
    "\n",
    "rsgg_cf = rsgg_exp[i][1]\n",
    "print(rsgg_exp[i][0].id, rsgg_cf.id)\n",
    "\n",
    "union_cf = union_exp[i][1]\n",
    "print(union_exp[i][0].id, union_cf.id)\n",
    "\n",
    "bi_cf = bi_exp[i][1]\n",
    "print(bi_exp[i][0].id, bi_cf.id)"
   ]
  },
  {
   "cell_type": "code",
   "execution_count": null,
   "metadata": {},
   "outputs": [],
   "source": [
    "pos = data_analyzer.draw_graph(og_inst)"
   ]
  },
  {
   "cell_type": "code",
   "execution_count": null,
   "metadata": {},
   "outputs": [],
   "source": [
    "data_analyzer.draw_counterfactual_actions(og_inst, cf2_cf, position=pos)"
   ]
  },
  {
   "cell_type": "code",
   "execution_count": null,
   "metadata": {},
   "outputs": [],
   "source": [
    "data_analyzer.draw_counterfactual_actions(og_inst, clear_cf, position=pos)"
   ]
  },
  {
   "cell_type": "code",
   "execution_count": null,
   "metadata": {},
   "outputs": [],
   "source": [
    "data_analyzer.draw_counterfactual_actions(og_inst, irand_cf, position=pos)"
   ]
  },
  {
   "cell_type": "code",
   "execution_count": null,
   "metadata": {},
   "outputs": [],
   "source": [
    "data_analyzer.draw_counterfactual_actions(og_inst, obs_cf, position=pos)"
   ]
  },
  {
   "cell_type": "code",
   "execution_count": null,
   "metadata": {},
   "outputs": [],
   "source": [
    "data_analyzer.draw_counterfactual_actions(og_inst, rsgg_cf, position=pos)"
   ]
  },
  {
   "cell_type": "code",
   "execution_count": null,
   "metadata": {},
   "outputs": [],
   "source": [
    "data_analyzer.draw_counterfactual_actions(og_inst, union_cf, position=pos)"
   ]
  },
  {
   "cell_type": "code",
   "execution_count": null,
   "metadata": {},
   "outputs": [],
   "source": [
    "data_analyzer.draw_counterfactual_actions(og_inst, bi_cf, position=pos)"
   ]
  },
  {
   "cell_type": "markdown",
   "metadata": {},
   "source": [
    "# End Paper Experiments"
   ]
  },
  {
   "cell_type": "code",
   "execution_count": null,
   "metadata": {},
   "outputs": [],
   "source": [
    "\n",
    "changes = data_analyzer.get_cf_changes(og_inst, cf_inst, False)"
   ]
  },
  {
   "cell_type": "code",
   "execution_count": null,
   "metadata": {},
   "outputs": [],
   "source": [
    "common_edges = changes['common edges']\n",
    "added_edges = changes['added edges']\n",
    "removed_edges = changes['removed edges']\n",
    "common_nodes = changes['common nodes']\n",
    "added_nodes = changes['added nodes']\n",
    "removed_nodes = changes['removed nodes']\n",
    "\n",
    "print(f'added edges: {added_edges}')\n",
    "print(f'removed_edges: {removed_edges}')\n",
    "print(f'added nodes: {added_nodes}')\n",
    "print(f'removed nodes: {removed_nodes}')"
   ]
  },
  {
   "cell_type": "code",
   "execution_count": null,
   "metadata": {},
   "outputs": [],
   "source": [
    "pos = data_analyzer.draw_graph(og_inst)"
   ]
  },
  {
   "cell_type": "code",
   "execution_count": null,
   "metadata": {},
   "outputs": [],
   "source": [
    "data_analyzer.draw_counterfactual_actions(og_inst, cf_inst, position=pos)"
   ]
  }
 ],
 "metadata": {
  "kernelspec": {
   "display_name": "GRTL",
   "language": "python",
   "name": "python3"
  },
  "language_info": {
   "codemirror_mode": {
    "name": "ipython",
    "version": 3
   },
   "file_extension": ".py",
   "mimetype": "text/x-python",
   "name": "python",
   "nbconvert_exporter": "python",
   "pygments_lexer": "ipython3",
   "version": "3.9.21"
  }
 },
 "nbformat": 4,
 "nbformat_minor": 2
}
