{
 "cells": [
  {
   "cell_type": "markdown",
   "metadata": {},
   "source": [
    "### Setting paths and imports"
   ]
  },
  {
   "cell_type": "code",
   "execution_count": 1,
   "metadata": {},
   "outputs": [],
   "source": [
    "import sys\n",
    "import os\n",
    "import pandas as pd\n",
    "\n",
    "module_path = os.path.abspath(os.path.join('..'))\n",
    "sys.path.append(module_path)\n",
    "module_path\n",
    "\n",
    "os.chdir(module_path)\n",
    "\n",
    "# from src.evaluation.evaluator_manager import EvaluatorManager\n",
    "# from src.evaluation.future.evaluator_manager_do import EvaluatorManager as PairedEvaluatorManager\n",
    "from src.utils.context import Context\n",
    "from src.data_analysis.future.data_analyzer import DataAnalyzer as data_analyzer\n",
    "\n",
    "from src.evaluation.future.evaluator_manager_triplets import EvaluatorManager\n",
    "\n",
    "config_f_name = 'generate_minimize/asd/dce/dce-dummy/generate_minimize0.jsonc'"
   ]
  },
  {
   "cell_type": "markdown",
   "metadata": {},
   "source": [
    "### Evaluating the explainer"
   ]
  },
  {
   "cell_type": "code",
   "execution_count": 2,
   "metadata": {},
   "outputs": [
    {
     "name": "stdout",
     "output_type": "stream",
     "text": [
      "Generating context for: d:\\escuela\\4to\\Tesis\\repo\\GRETEL\\lab\\config\\generate_minimize/asd/dcm/dcm-dummy/generate_minimize0.jsonc\n",
      "2025-01-02 23:05:21,710333926 | INFO | 20700 - Executing: d:\\escuela\\4to\\Tesis\\repo\\GRETEL\\lab\\config\\generate_minimize/asd/dcm/dcm-dummy/generate_minimize0.jsonc Run: 1\n",
      "2025-01-02 23:05:21,710333952 | INFO | 20700 - Creating the evaluation manager....................................\n",
      "2025-01-02 23:05:21,710333974 | INFO | 20700 - Creating the evaluators......................................................\n",
      "2025-01-02 23:05:21,710334045 | INFO | 20700 - Loading: ASD-15273954d84e872cf0b021cd4477bfdc\n",
      "2025-01-02 23:05:21,710334104 | INFO | 20700 - Created: ASD-15273954d84e872cf0b021cd4477bfdc\n",
      "2025-01-02 23:05:21,710334153 | INFO | 20700 - Loading: ASDOracle-9e4f3586dc330143b7849fc540b25739\n",
      "2025-01-02 23:05:21,710334193 | INFO | 20700 - Created: ASDOracle-9e4f3586dc330143b7849fc540b25739\n",
      "2025-01-02 23:05:21,710334300 | INFO | 20700 - Instantiating: src.explainer.future.search.dcm.DCM\n",
      "2025-01-02 23:05:21,710334359 | INFO | 20700 - Loading: DCM-2b2b05d8662f5261a9c9fb2a0a572cc1\n",
      "2025-01-02 23:05:21,710334386 | INFO | 20700 - Instantiating: src.explainer.future.meta.minimizer.dummy.Dummy\n",
      "2025-01-02 23:05:22,710334491 | INFO | 20700 - Creating: Dummy-e4769f9980af3eb0a0f81201fc700796\n",
      "2025-01-02 23:05:22,710334532 | INFO | 20700 - Dummy trained in: 0.0 secs\n",
      "2025-01-02 23:05:22,710334560 | INFO | 20700 - Saved: Dummy-e4769f9980af3eb0a0f81201fc700796\n",
      "2025-01-02 23:05:22,710334604 | INFO | 20700 - Created: GenerateMinimize(DCM-Dummy)-f15861d6182f3a781aca9feb09bc4b79\n",
      "2025-01-02 23:05:22,710334638 | INFO | 20700 - Instantiating: src.evaluation.future.stages.main_pipeline.MainPipeline\n",
      "2025-01-02 23:05:22,710334712 | INFO | 20700 - Instantiating: src.evaluation.future.stages.runtime.Runtime\n",
      "2025-01-02 23:05:22,710334739 | INFO | 20700 - Instantiating: src.evaluation.future.stages.ged.GraphEditDistance\n",
      "2025-01-02 23:05:22,710334769 | INFO | 20700 - Instantiating: src.evaluation.future.stages.fed.FeatureEditDistance\n",
      "2025-01-02 23:05:22,710334794 | INFO | 20700 - Instantiating: src.evaluation.future.stages.correctness.Correctness\n",
      "2025-01-02 23:05:22,710334822 | INFO | 20700 - Instantiating: src.evaluation.future.stages.oracle_calls.OracleCalls\n",
      "2025-01-02 23:05:22,710334849 | INFO | 20700 - Instantiating: src.evaluation.future.stages.oracle_accuracy.OracleAccuracy\n",
      "2025-01-02 23:05:22,710334876 | INFO | 20700 - Instantiating: src.evaluation.future.stages.sparsity.Sparsity\n",
      "2025-01-02 23:05:22,710334908 | INFO | 20700 - Instantiating: src.evaluation.future.stages.runtime.Runtime\n",
      "2025-01-02 23:05:22,710334928 | INFO | 20700 - Instantiating: src.evaluation.future.stages.ged.GraphEditDistance\n",
      "2025-01-02 23:05:22,710334950 | INFO | 20700 - Instantiating: src.evaluation.future.stages.fed.FeatureEditDistance\n",
      "2025-01-02 23:05:22,710334970 | INFO | 20700 - Instantiating: src.evaluation.future.stages.correctness.Correctness\n",
      "2025-01-02 23:05:22,710334987 | INFO | 20700 - Instantiating: src.evaluation.future.stages.oracle_calls.OracleCalls\n",
      "2025-01-02 23:05:22,710335006 | INFO | 20700 - Instantiating: src.evaluation.future.stages.oracle_accuracy.OracleAccuracy\n",
      "2025-01-02 23:05:22,710335023 | INFO | 20700 - Instantiating: src.evaluation.future.stages.sparsity.Sparsity\n",
      "2025-01-02 23:05:22,710335067 | INFO | 20700 - Created: Evaluator-ce341c0dadb845af7b1e9717cf06e196\n",
      "2025-01-02 23:05:22,710335086 | INFO | 20700 - Evaluating the explainers.............................................................\n",
      "2025-01-02 23:05:22,710335087 | INFO | 20700 - Evaluating instance with id 6\n",
      "--------------------------------------------\n",
      "2025-01-02 23:05:22,710335131 | INFO | 20700 - evaluated instance with id 6\n",
      "2025-01-02 23:05:22,710335133 | INFO | 20700 - Evaluating instance with id 13\n",
      "--------------------------------------------\n",
      "2025-01-02 23:05:22,710335165 | INFO | 20700 - evaluated instance with id 13\n",
      "2025-01-02 23:05:22,710335166 | INFO | 20700 - Evaluating instance with id 15\n",
      "--------------------------------------------\n",
      "2025-01-02 23:05:22,710335186 | INFO | 20700 - evaluated instance with id 15\n",
      "2025-01-02 23:05:22,710335186 | INFO | 20700 - Evaluating instance with id 35\n",
      "--------------------------------------------\n",
      "2025-01-02 23:05:22,710335207 | INFO | 20700 - evaluated instance with id 35\n",
      "2025-01-02 23:05:22,710335208 | INFO | 20700 - Evaluating instance with id 45\n",
      "--------------------------------------------\n",
      "2025-01-02 23:05:22,710335229 | INFO | 20700 - evaluated instance with id 45\n",
      "2025-01-02 23:05:22,710335230 | INFO | 20700 - Evaluating instance with id 46\n",
      "--------------------------------------------\n",
      "2025-01-02 23:05:22,710335251 | INFO | 20700 - evaluated instance with id 46\n",
      "2025-01-02 23:05:22,710335252 | INFO | 20700 - Evaluating instance with id 54\n",
      "--------------------------------------------\n",
      "2025-01-02 23:05:22,710335276 | INFO | 20700 - evaluated instance with id 54\n",
      "2025-01-02 23:05:22,710335277 | INFO | 20700 - Evaluating instance with id 61\n",
      "--------------------------------------------\n",
      "2025-01-02 23:05:22,710335300 | INFO | 20700 - evaluated instance with id 61\n",
      "2025-01-02 23:05:22,710335301 | INFO | 20700 - Evaluating instance with id 63\n",
      "--------------------------------------------\n",
      "2025-01-02 23:05:22,710335326 | INFO | 20700 - evaluated instance with id 63\n",
      "2025-01-02 23:05:22,710335327 | INFO | 20700 - Evaluating instance with id 77\n",
      "--------------------------------------------\n",
      "2025-01-02 23:05:22,710335352 | INFO | 20700 - evaluated instance with id 77\n",
      "2025-01-02 23:05:22,710335354 | INFO | 20700 - Evaluating instance with id 99\n",
      "--------------------------------------------\n",
      "2025-01-02 23:05:22,710335377 | INFO | 20700 - evaluated instance with id 99\n",
      "2025-01-02 23:05:22,710335377 | INFO | 20700 - {'src.evaluation.future.stages.runtime.Runtime': [{'id': '6', 'value': 0.0060672760009765625}, {'id': '13', 'value': 0.006998300552368164}, {'id': '15', 'value': 0.0039980411529541016}, {'id': '35', 'value': 0.00500035285949707}, {'id': '45', 'value': 0.003999471664428711}, {'id': '46', 'value': 0.0039958953857421875}, {'id': '54', 'value': 0.0049991607666015625}, {'id': '61', 'value': 0.005018472671508789}, {'id': '63', 'value': 0.005997896194458008}, {'id': '77', 'value': 0.006042957305908203}, {'id': '99', 'value': 0.003998517990112305}], 'src.evaluation.future.stages.ged.GraphEditDistance': [{'id': '6', 'value': 996.0}, {'id': '13', 'value': 1030.0}, {'id': '15', 'value': 1023.0}, {'id': '35', 'value': 996.0}, {'id': '45', 'value': 1029.0}, {'id': '46', 'value': 1094.0}, {'id': '54', 'value': 1006.0}, {'id': '61', 'value': 1020.0}, {'id': '63', 'value': 1053.0}, {'id': '77', 'value': 1030.0}, {'id': '99', 'value': 1046.0}], 'src.evaluation.future.stages.fed.FeatureEditDistance': [{'id': '6', 'value': 0.0}, {'id': '13', 'value': 0.0}, {'id': '15', 'value': 0.0}, {'id': '35', 'value': 0.0}, {'id': '45', 'value': 0.0}, {'id': '46', 'value': 0.0}, {'id': '54', 'value': 0.0}, {'id': '61', 'value': 0.0}, {'id': '63', 'value': 0.0}, {'id': '77', 'value': 0.0}, {'id': '99', 'value': 0.0}], 'src.evaluation.future.stages.correctness.Correctness': [{'id': '6', 'value': 1.0}, {'id': '13', 'value': 1.0}, {'id': '15', 'value': 1.0}, {'id': '35', 'value': 1.0}, {'id': '45', 'value': 1.0}, {'id': '46', 'value': 1.0}, {'id': '54', 'value': 1.0}, {'id': '61', 'value': 1.0}, {'id': '63', 'value': 1.0}, {'id': '77', 'value': 1.0}, {'id': '99', 'value': 1.0}], 'src.evaluation.future.stages.oracle_calls.OracleCalls': [{'id': '6', 'value': 3}, {'id': '13', 'value': 3}, {'id': '15', 'value': 3}, {'id': '35', 'value': 3}, {'id': '45', 'value': 3}, {'id': '46', 'value': 3}, {'id': '54', 'value': 3}, {'id': '61', 'value': 3}, {'id': '63', 'value': 3}, {'id': '77', 'value': 3}, {'id': '99', 'value': 3}], 'src.evaluation.future.stages.oracle_accuracy.OracleAccuracy': [{'id': '6', 'value': 1}, {'id': '13', 'value': 1}, {'id': '15', 'value': 1}, {'id': '35', 'value': 1}, {'id': '45', 'value': 1}, {'id': '46', 'value': 0}, {'id': '54', 'value': 1}, {'id': '61', 'value': 1}, {'id': '63', 'value': 1}, {'id': '77', 'value': 1}, {'id': '99', 'value': 1}], 'src.evaluation.future.stages.sparsity.Sparsity': [{'id': '6', 'value': 2.228187919463087}, {'id': '13', 'value': 2.299107142857143}, {'id': '15', 'value': 2.3544303797468356}, {'id': '35', 'value': 2.2432432432432434}, {'id': '45', 'value': 2.3045912653975362}, {'id': '46', 'value': 2.4338153503893216}, {'id': '54', 'value': 2.2889647326507396}, {'id': '61', 'value': 2.294713160854893}, {'id': '63', 'value': 2.3986332574031892}, {'id': '77', 'value': 2.2914349276974417}, {'id': '99', 'value': 2.358511837655017}]}\n"
     ]
    }
   ],
   "source": [
    "config_path = os.path.join(module_path, 'lab', 'config', config_f_name)\n",
    "runno = 1\n",
    "    \n",
    "print(f\"Generating context for: {config_path}\")\n",
    "context = Context.get_context(config_path)\n",
    "context.run_number = runno\n",
    "\n",
    "context.logger.info(f\"Executing: {context.config_file} Run: {context.run_number}\")\n",
    "context.logger.info(\"Creating the evaluation manager....................................\")\n",
    "\n",
    "context.logger.info(\"Creating the evaluators......................................................\")\n",
    "eval_manager = EvaluatorManager(context)\n",
    "\n",
    "context.logger.info(\n",
    "    \"Evaluating the explainers.............................................................\"\n",
    ")\n",
    "eval_manager.evaluate()"
   ]
  },
  {
   "cell_type": "code",
   "execution_count": 3,
   "metadata": {},
   "outputs": [],
   "source": [
    "exp_inst = []\n",
    "for exp in eval_manager.evaluators[0]._explanations:\n",
    "    exp.input_instance._dataset = None\n",
    "    exp.counterfactual_instances[0]._dataset = None\n",
    "    \n",
    "exp_inst = [(exp.input_instance, exp.counterfactual_instances[0]) for exp in eval_manager.evaluators[0]._explanations]"
   ]
  },
  {
   "cell_type": "code",
   "execution_count": 4,
   "metadata": {},
   "outputs": [],
   "source": [
    "import os\n",
    "import pickle\n",
    "\n",
    "pickle_path = os.path.join(module_path, 'lab', 'pickles', 'union.pkl')\n",
    "pickle_dir = os.path.dirname(pickle_path)\n",
    "\n",
    "if not os.path.exists(pickle_dir):\n",
    "    os.makedirs(pickle_dir)\n",
    "\n",
    "with open(pickle_path, 'wb') as pickle_file:\n",
    "    pickle.dump(exp_inst, pickle_file)"
   ]
  },
  {
   "cell_type": "code",
   "execution_count": 5,
   "metadata": {},
   "outputs": [],
   "source": [
    "with open(os.path.join(module_path, 'lab', 'pickles', 'union.pkl'), 'rb') as clear_file:\n",
    "    clear_exp = pickle.load(clear_file)"
   ]
  },
  {
   "cell_type": "markdown",
   "metadata": {},
   "source": [
    "### Aggregating the stats"
   ]
  },
  {
   "cell_type": "code",
   "execution_count": 7,
   "metadata": {},
   "outputs": [
    {
     "data": {
      "text/html": [
       "<div>\n",
       "<style scoped>\n",
       "    .dataframe tbody tr th:only-of-type {\n",
       "        vertical-align: middle;\n",
       "    }\n",
       "\n",
       "    .dataframe tbody tr th {\n",
       "        vertical-align: top;\n",
       "    }\n",
       "\n",
       "    .dataframe thead th {\n",
       "        text-align: right;\n",
       "    }\n",
       "</style>\n",
       "<table border=\"1\" class=\"dataframe\">\n",
       "  <thead>\n",
       "    <tr style=\"text-align: right;\">\n",
       "      <th></th>\n",
       "      <th>scope</th>\n",
       "      <th>dataset</th>\n",
       "      <th>oracle</th>\n",
       "      <th>explainer</th>\n",
       "      <th>Runtime</th>\n",
       "      <th>Runtime-std</th>\n",
       "      <th>GraphEditDistance</th>\n",
       "      <th>GraphEditDistance-std</th>\n",
       "      <th>FeatureEditDistance</th>\n",
       "      <th>FeatureEditDistance-std</th>\n",
       "      <th>Correctness</th>\n",
       "      <th>Correctness-std</th>\n",
       "      <th>OracleCalls</th>\n",
       "      <th>OracleCalls-std</th>\n",
       "      <th>OracleAccuracy</th>\n",
       "      <th>OracleAccuracy-std</th>\n",
       "      <th>Sparsity</th>\n",
       "      <th>Sparsity-std</th>\n",
       "    </tr>\n",
       "  </thead>\n",
       "  <tbody>\n",
       "    <tr>\n",
       "      <th>0</th>\n",
       "      <td>meta</td>\n",
       "      <td>ASD-15273954d84e872cf0b021cd4477bfdc</td>\n",
       "      <td>ASDOracle-9e4f3586dc330143b7849fc540b25739</td>\n",
       "      <td>GenerateMinimize(DCM-Dummy)</td>\n",
       "      <td>0.005101</td>\n",
       "      <td>0.0</td>\n",
       "      <td>1029.363636</td>\n",
       "      <td>0.0</td>\n",
       "      <td>0.0</td>\n",
       "      <td>0.0</td>\n",
       "      <td>1.0</td>\n",
       "      <td>0.0</td>\n",
       "      <td>3.0</td>\n",
       "      <td>0.0</td>\n",
       "      <td>0.909091</td>\n",
       "      <td>0.0</td>\n",
       "      <td>2.317785</td>\n",
       "      <td>0.0</td>\n",
       "    </tr>\n",
       "  </tbody>\n",
       "</table>\n",
       "</div>"
      ],
      "text/plain": [
       "  scope                               dataset  \\\n",
       "0  meta  ASD-15273954d84e872cf0b021cd4477bfdc   \n",
       "\n",
       "                                       oracle                    explainer  \\\n",
       "0  ASDOracle-9e4f3586dc330143b7849fc540b25739  GenerateMinimize(DCM-Dummy)   \n",
       "\n",
       "    Runtime  Runtime-std  GraphEditDistance  GraphEditDistance-std  \\\n",
       "0  0.005101          0.0        1029.363636                    0.0   \n",
       "\n",
       "   FeatureEditDistance  FeatureEditDistance-std  Correctness  Correctness-std  \\\n",
       "0                  0.0                      0.0          1.0              0.0   \n",
       "\n",
       "   OracleCalls  OracleCalls-std  OracleAccuracy  OracleAccuracy-std  Sparsity  \\\n",
       "0          3.0              0.0        0.909091                 0.0  2.317785   \n",
       "\n",
       "   Sparsity-std  \n",
       "0           0.0  "
      ]
     },
     "execution_count": 7,
     "metadata": {},
     "output_type": "execute_result"
    }
   ],
   "source": [
    "results_path = os.path.join(module_path, 'lab', 'output', 'results')\n",
    "stats_file_path = os.path.join(module_path, 'lab', 'stats', 'results.csv')\n",
    "res = data_analyzer.create_aggregated_dataframe(results_path)\n",
    "res.to_csv(stats_file_path)\n",
    "res"
   ]
  },
  {
   "cell_type": "markdown",
   "metadata": {},
   "source": [
    "### Visualizing individual instances"
   ]
  },
  {
   "cell_type": "code",
   "execution_count": 8,
   "metadata": {},
   "outputs": [
    {
     "data": {
      "text/plain": [
       "<src.evaluation.future.evaluator.Evaluator at 0x2814e221880>"
      ]
     },
     "execution_count": 8,
     "metadata": {},
     "output_type": "execute_result"
    }
   ],
   "source": [
    "evaluator = eval_manager.evaluators[0]\n",
    "evaluator"
   ]
  },
  {
   "cell_type": "code",
   "execution_count": 9,
   "metadata": {},
   "outputs": [],
   "source": [
    "exp = evaluator.explanations[2]\n",
    "og_inst = exp.input_instance\n",
    "cf_inst = exp.counterfactual_instances[0]"
   ]
  },
  {
   "cell_type": "markdown",
   "metadata": {},
   "source": [
    "# Drawing Instances"
   ]
  },
  {
   "cell_type": "code",
   "execution_count": 10,
   "metadata": {},
   "outputs": [
    {
     "ename": "FileNotFoundError",
     "evalue": "[Errno 2] No such file or directory: 'd:\\\\escuela\\\\4to\\\\Tesis\\\\repo\\\\GRETEL\\\\lab\\\\pickles\\\\cf2.pkl'",
     "output_type": "error",
     "traceback": [
      "\u001b[1;31m---------------------------------------------------------------------------\u001b[0m",
      "\u001b[1;31mFileNotFoundError\u001b[0m                         Traceback (most recent call last)",
      "Cell \u001b[1;32mIn[10], line 3\u001b[0m\n\u001b[0;32m      1\u001b[0m \u001b[38;5;28;01mimport\u001b[39;00m \u001b[38;5;21;01mpickle\u001b[39;00m\n\u001b[1;32m----> 3\u001b[0m \u001b[38;5;28;01mwith\u001b[39;00m \u001b[38;5;28;43mopen\u001b[39;49m\u001b[43m(\u001b[49m\u001b[43mos\u001b[49m\u001b[38;5;241;43m.\u001b[39;49m\u001b[43mpath\u001b[49m\u001b[38;5;241;43m.\u001b[39;49m\u001b[43mjoin\u001b[49m\u001b[43m(\u001b[49m\u001b[43mmodule_path\u001b[49m\u001b[43m,\u001b[49m\u001b[43m \u001b[49m\u001b[38;5;124;43m'\u001b[39;49m\u001b[38;5;124;43mlab\u001b[39;49m\u001b[38;5;124;43m'\u001b[39;49m\u001b[43m,\u001b[49m\u001b[43m \u001b[49m\u001b[38;5;124;43m'\u001b[39;49m\u001b[38;5;124;43mpickles\u001b[39;49m\u001b[38;5;124;43m'\u001b[39;49m\u001b[43m,\u001b[49m\u001b[43m \u001b[49m\u001b[38;5;124;43m'\u001b[39;49m\u001b[38;5;124;43mcf2.pkl\u001b[39;49m\u001b[38;5;124;43m'\u001b[39;49m\u001b[43m)\u001b[49m\u001b[43m,\u001b[49m\u001b[43m \u001b[49m\u001b[38;5;124;43m'\u001b[39;49m\u001b[38;5;124;43mrb\u001b[39;49m\u001b[38;5;124;43m'\u001b[39;49m\u001b[43m)\u001b[49m \u001b[38;5;28;01mas\u001b[39;00m cf2_file:\n\u001b[0;32m      4\u001b[0m     cf2_exp \u001b[38;5;241m=\u001b[39m pickle\u001b[38;5;241m.\u001b[39mload(cf2_file)\n\u001b[0;32m      6\u001b[0m \u001b[38;5;28;01mwith\u001b[39;00m \u001b[38;5;28mopen\u001b[39m(os\u001b[38;5;241m.\u001b[39mpath\u001b[38;5;241m.\u001b[39mjoin(module_path, \u001b[38;5;124m'\u001b[39m\u001b[38;5;124mlab\u001b[39m\u001b[38;5;124m'\u001b[39m, \u001b[38;5;124m'\u001b[39m\u001b[38;5;124mpickles\u001b[39m\u001b[38;5;124m'\u001b[39m, \u001b[38;5;124m'\u001b[39m\u001b[38;5;124mclear.pkl\u001b[39m\u001b[38;5;124m'\u001b[39m), \u001b[38;5;124m'\u001b[39m\u001b[38;5;124mrb\u001b[39m\u001b[38;5;124m'\u001b[39m) \u001b[38;5;28;01mas\u001b[39;00m clear_file:\n",
      "File \u001b[1;32mc:\\Users\\Admin\\miniconda3\\envs\\GRTL\\lib\\site-packages\\IPython\\core\\interactiveshell.py:310\u001b[0m, in \u001b[0;36m_modified_open\u001b[1;34m(file, *args, **kwargs)\u001b[0m\n\u001b[0;32m    303\u001b[0m \u001b[38;5;28;01mif\u001b[39;00m file \u001b[38;5;129;01min\u001b[39;00m {\u001b[38;5;241m0\u001b[39m, \u001b[38;5;241m1\u001b[39m, \u001b[38;5;241m2\u001b[39m}:\n\u001b[0;32m    304\u001b[0m     \u001b[38;5;28;01mraise\u001b[39;00m \u001b[38;5;167;01mValueError\u001b[39;00m(\n\u001b[0;32m    305\u001b[0m         \u001b[38;5;124mf\u001b[39m\u001b[38;5;124m\"\u001b[39m\u001b[38;5;124mIPython won\u001b[39m\u001b[38;5;124m'\u001b[39m\u001b[38;5;124mt let you open fd=\u001b[39m\u001b[38;5;132;01m{\u001b[39;00mfile\u001b[38;5;132;01m}\u001b[39;00m\u001b[38;5;124m by default \u001b[39m\u001b[38;5;124m\"\u001b[39m\n\u001b[0;32m    306\u001b[0m         \u001b[38;5;124m\"\u001b[39m\u001b[38;5;124mas it is likely to crash IPython. If you know what you are doing, \u001b[39m\u001b[38;5;124m\"\u001b[39m\n\u001b[0;32m    307\u001b[0m         \u001b[38;5;124m\"\u001b[39m\u001b[38;5;124myou can use builtins\u001b[39m\u001b[38;5;124m'\u001b[39m\u001b[38;5;124m open.\u001b[39m\u001b[38;5;124m\"\u001b[39m\n\u001b[0;32m    308\u001b[0m     )\n\u001b[1;32m--> 310\u001b[0m \u001b[38;5;28;01mreturn\u001b[39;00m io_open(file, \u001b[38;5;241m*\u001b[39margs, \u001b[38;5;241m*\u001b[39m\u001b[38;5;241m*\u001b[39mkwargs)\n",
      "\u001b[1;31mFileNotFoundError\u001b[0m: [Errno 2] No such file or directory: 'd:\\\\escuela\\\\4to\\\\Tesis\\\\repo\\\\GRETEL\\\\lab\\\\pickles\\\\cf2.pkl'"
     ]
    }
   ],
   "source": [
    "import pickle\n",
    "\n",
    "with open(os.path.join(module_path, 'lab', 'pickles', 'cf2.pkl'), 'rb') as cf2_file:\n",
    "    cf2_exp = pickle.load(cf2_file)\n",
    "\n",
    "with open(os.path.join(module_path, 'lab', 'pickles', 'clear.pkl'), 'rb') as clear_file:\n",
    "    clear_exp = pickle.load(clear_file)\n",
    "\n",
    "with open(os.path.join(module_path, 'lab', 'pickles', 'irand.pkl'), 'rb') as irand_file:\n",
    "    irand_exp = pickle.load(irand_file)\n",
    "\n",
    "with open(os.path.join(module_path, 'lab', 'pickles', 'obs.pkl'), 'rb') as obs_file:\n",
    "    obs_exp = pickle.load(obs_file)\n",
    "\n",
    "with open(os.path.join(module_path, 'lab', 'pickles', 'rsgg.pkl'), 'rb') as rsgg_file:\n",
    "    rsgg_exp = pickle.load(rsgg_file)\n",
    "\n",
    "with open(os.path.join(module_path, 'lab', 'pickles', 'bidirectional.pkl'), 'rb') as bi_file:\n",
    "    bi_exp = pickle.load(bi_file)\n",
    "\n",
    "with open(os.path.join(module_path, 'lab', 'pickles', 'union.pkl'), 'rb') as union_file:\n",
    "    union_exp = pickle.load(union_file)\n"
   ]
  },
  {
   "cell_type": "code",
   "execution_count": null,
   "metadata": {},
   "outputs": [],
   "source": [
    "i = 7\n",
    "\n",
    "og_inst = cf2_exp[i][0]\n",
    "cf2_cf = cf2_exp[i][1]\n",
    "print(og_inst.id, cf2_cf.id)\n",
    "\n",
    "clear_cf = clear_exp[i][1]\n",
    "print(clear_exp[i][0].id, clear_cf.id)\n",
    "\n",
    "irand_cf = irand_exp[i][1]\n",
    "print(irand_exp[i][0].id, irand_cf.id)\n",
    "\n",
    "obs_cf = obs_exp[i][1]\n",
    "print(obs_exp[i][0].id, obs_cf.id)\n",
    "\n",
    "rsgg_cf = rsgg_exp[i][1]\n",
    "print(rsgg_exp[i][0].id, rsgg_cf.id)\n",
    "\n",
    "union_cf = union_exp[i][1]\n",
    "print(union_exp[i][0].id, union_cf.id)\n",
    "\n",
    "bi_cf = bi_exp[i][1]\n",
    "print(bi_exp[i][0].id, bi_cf.id)"
   ]
  },
  {
   "cell_type": "code",
   "execution_count": null,
   "metadata": {},
   "outputs": [],
   "source": [
    "pos = data_analyzer.draw_graph(og_inst)"
   ]
  },
  {
   "cell_type": "code",
   "execution_count": null,
   "metadata": {},
   "outputs": [],
   "source": [
    "data_analyzer.draw_counterfactual_actions(og_inst, cf2_cf, position=pos)"
   ]
  },
  {
   "cell_type": "code",
   "execution_count": null,
   "metadata": {},
   "outputs": [],
   "source": [
    "data_analyzer.draw_counterfactual_actions(og_inst, clear_cf, position=pos)"
   ]
  },
  {
   "cell_type": "code",
   "execution_count": null,
   "metadata": {},
   "outputs": [],
   "source": [
    "data_analyzer.draw_counterfactual_actions(og_inst, irand_cf, position=pos)"
   ]
  },
  {
   "cell_type": "code",
   "execution_count": null,
   "metadata": {},
   "outputs": [],
   "source": [
    "data_analyzer.draw_counterfactual_actions(og_inst, obs_cf, position=pos)"
   ]
  },
  {
   "cell_type": "code",
   "execution_count": null,
   "metadata": {},
   "outputs": [],
   "source": [
    "data_analyzer.draw_counterfactual_actions(og_inst, rsgg_cf, position=pos)"
   ]
  },
  {
   "cell_type": "code",
   "execution_count": null,
   "metadata": {},
   "outputs": [],
   "source": [
    "data_analyzer.draw_counterfactual_actions(og_inst, union_cf, position=pos)"
   ]
  },
  {
   "cell_type": "code",
   "execution_count": null,
   "metadata": {},
   "outputs": [],
   "source": [
    "data_analyzer.draw_counterfactual_actions(og_inst, bi_cf, position=pos)"
   ]
  },
  {
   "cell_type": "markdown",
   "metadata": {},
   "source": [
    "# End Paper Experiments"
   ]
  },
  {
   "cell_type": "code",
   "execution_count": null,
   "metadata": {},
   "outputs": [],
   "source": [
    "\n",
    "changes = data_analyzer.get_cf_changes(og_inst, cf_inst, False)"
   ]
  },
  {
   "cell_type": "code",
   "execution_count": null,
   "metadata": {},
   "outputs": [],
   "source": [
    "common_edges = changes['common edges']\n",
    "added_edges = changes['added edges']\n",
    "removed_edges = changes['removed edges']\n",
    "common_nodes = changes['common nodes']\n",
    "added_nodes = changes['added nodes']\n",
    "removed_nodes = changes['removed nodes']\n",
    "\n",
    "print(f'added edges: {added_edges}')\n",
    "print(f'removed_edges: {removed_edges}')\n",
    "print(f'added nodes: {added_nodes}')\n",
    "print(f'removed nodes: {removed_nodes}')"
   ]
  },
  {
   "cell_type": "code",
   "execution_count": null,
   "metadata": {},
   "outputs": [],
   "source": [
    "pos = data_analyzer.draw_graph(og_inst)"
   ]
  },
  {
   "cell_type": "code",
   "execution_count": null,
   "metadata": {},
   "outputs": [],
   "source": [
    "data_analyzer.draw_counterfactual_actions(og_inst, cf_inst, position=pos)"
   ]
  }
 ],
 "metadata": {
  "kernelspec": {
   "display_name": "GRTL",
   "language": "python",
   "name": "python3"
  },
  "language_info": {
   "codemirror_mode": {
    "name": "ipython",
    "version": 3
   },
   "file_extension": ".py",
   "mimetype": "text/x-python",
   "name": "python",
   "nbconvert_exporter": "python",
   "pygments_lexer": "ipython3",
   "version": "3.9.21"
  }
 },
 "nbformat": 4,
 "nbformat_minor": 2
}
