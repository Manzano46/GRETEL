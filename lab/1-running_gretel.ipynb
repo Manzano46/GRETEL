{
 "cells": [
  {
   "cell_type": "markdown",
   "metadata": {},
   "source": [
    "### Setting the paths and imports"
   ]
  },
  {
   "cell_type": "code",
   "execution_count": 1,
   "metadata": {},
   "outputs": [
    {
     "data": {
      "text/plain": [
       "'c:\\\\Work\\\\AIIM\\\\gretel-silver\\\\GRETEL'"
      ]
     },
     "execution_count": 1,
     "metadata": {},
     "output_type": "execute_result"
    }
   ],
   "source": [
    "import sys\n",
    "import os\n",
    "module_path = os.path.abspath(os.path.join('..'))\n",
    "sys.path.append(module_path)\n",
    "module_path"
   ]
  },
  {
   "cell_type": "code",
   "execution_count": 2,
   "metadata": {},
   "outputs": [],
   "source": [
    "os.chdir(module_path)"
   ]
  },
  {
   "cell_type": "code",
   "execution_count": 3,
   "metadata": {},
   "outputs": [],
   "source": [
    "from src.evaluation.evaluator_manager import EvaluatorManager\n",
    "from src.evaluation.evaluator_manager_do import EvaluatorManager as PairedEvaluatorManager\n",
    "\n",
    "from src.utils.context import Context\n",
    "import sys"
   ]
  },
  {
   "cell_type": "code",
   "execution_count": 4,
   "metadata": {},
   "outputs": [],
   "source": [
    "config_f_name = '1-ASD_ASD-Custom_OBS.jsonc'"
   ]
  },
  {
   "cell_type": "markdown",
   "metadata": {},
   "source": [
    "### Evaluating the explainer"
   ]
  },
  {
   "cell_type": "code",
   "execution_count": 5,
   "metadata": {},
   "outputs": [
    {
     "name": "stdout",
     "output_type": "stream",
     "text": [
      "Generating context for: c:\\Work\\AIIM\\gretel-silver\\GRETEL\\lab\\config\\1-ASD_ASD-Custom_OBS.jsonc\n",
      "2024-04-15 12:49:06,-513804197 | INFO | 6892 - Executing: c:\\Work\\AIIM\\gretel-silver\\GRETEL\\lab\\config\\1-ASD_ASD-Custom_OBS.jsonc Run: 1\n",
      "2024-04-15 12:49:06,-513804174 | INFO | 6892 - Creating the evaluation manager....................................\n",
      "2024-04-15 12:49:06,-513804151 | INFO | 6892 - Creating the paired  evaluators.....................................\n",
      "2024-04-15 12:49:07,-513804060 | INFO | 6892 - Creating: ASD-15273954d84e872cf0b021cd4477bfdc\n",
      "2024-04-15 12:49:07,-513804058 | INFO | 6892 - Instantiating: src.dataset.generators.asd.ASD\n",
      "2024-04-15 12:49:09,-513802008 | INFO | 6892 - Saved: ASD-15273954d84e872cf0b021cd4477bfdc\n",
      "2024-04-15 12:49:09,-513801975 | INFO | 6892 - Created: ASD-15273954d84e872cf0b021cd4477bfdc\n",
      "2024-04-15 12:49:09,-513801916 | INFO | 6892 - Creating: ASDOracle-9e4f3586dc330143b7849fc540b25739\n",
      "2024-04-15 12:49:09,-513801889 | INFO | 6892 - ASDOracle trained in: 0.02499222755432129 secs\n",
      "2024-04-15 12:49:09,-513801852 | INFO | 6892 - Saved: ASDOracle-9e4f3586dc330143b7849fc540b25739\n",
      "2024-04-15 12:49:09,-513801820 | INFO | 6892 - Created: ASDOracle-9e4f3586dc330143b7849fc540b25739\n",
      "2024-04-15 12:49:09,-513801808 | INFO | 6892 - Instantiating: src.explainer.heuristic.obs_dist.ObliviousBidirectionalDistance\n",
      "2024-04-15 12:49:09,-513801782 | INFO | 6892 - Created: ObliviousBidirectionalSearchExplainer-a9d745213c8e6f7a3fd96e175dabab07\n",
      "2024-04-15 12:49:09,-513801758 | INFO | 6892 - Evaluating the explainers.............................................................\n",
      "2024-04-15 12:49:09,-513801756 | INFO | 6892 - Evaluating instance with id 5\n",
      "2024-04-15 12:49:09,-513801419 | INFO | 6892 - evaluated instance with id 5\n",
      "2024-04-15 12:49:09,-513801417 | INFO | 6892 - Evaluating instance with id 9\n",
      "2024-04-15 12:49:10,-513800957 | INFO | 6892 - evaluated instance with id 9\n",
      "2024-04-15 12:49:10,-513800955 | INFO | 6892 - Evaluating instance with id 10\n",
      "2024-04-15 12:49:10,-513800498 | INFO | 6892 - evaluated instance with id 10\n",
      "2024-04-15 12:49:10,-513800495 | INFO | 6892 - Evaluating instance with id 16\n",
      "2024-04-15 12:49:11,-513799916 | INFO | 6892 - evaluated instance with id 16\n",
      "2024-04-15 12:49:11,-513799914 | INFO | 6892 - Evaluating instance with id 25\n",
      "2024-04-15 12:49:11,-513799378 | INFO | 6892 - evaluated instance with id 25\n",
      "2024-04-15 12:49:11,-513799377 | INFO | 6892 - Evaluating instance with id 28\n",
      "2024-04-15 12:49:11,-513799124 | INFO | 6892 - evaluated instance with id 28\n",
      "2024-04-15 12:49:11,-513799123 | INFO | 6892 - Evaluating instance with id 57\n",
      "2024-04-15 12:49:12,-513798508 | INFO | 6892 - evaluated instance with id 57\n",
      "2024-04-15 12:49:12,-513798507 | INFO | 6892 - Evaluating instance with id 74\n",
      "2024-04-15 12:49:13,-513797954 | INFO | 6892 - evaluated instance with id 74\n",
      "2024-04-15 12:49:13,-513797952 | INFO | 6892 - Evaluating instance with id 76\n",
      "2024-04-15 12:49:13,-513797334 | INFO | 6892 - evaluated instance with id 76\n",
      "2024-04-15 12:49:13,-513797333 | INFO | 6892 - Evaluating instance with id 93\n",
      "2024-04-15 12:49:13,-513797237 | INFO | 6892 - evaluated instance with id 93\n",
      "2024-04-15 12:49:13,-513797236 | INFO | 6892 - Evaluating instance with id 94\n",
      "2024-04-15 12:49:14,-513796792 | INFO | 6892 - evaluated instance with id 94\n",
      "2024-04-15 12:49:14,-513796790 | INFO | 6892 - {'src.evaluation.evaluation_metric_runtime.RuntimeMetric': [{'id': '5', 'value': 0.29484987258911133}, {'id': '9', 'value': 0.41878652572631836}, {'id': '10', 'value': 0.41251039505004883}, {'id': '16', 'value': 0.5376319885253906}, {'id': '25', 'value': 0.49529361724853516}, {'id': '28', 'value': 0.21454358100891113}, {'id': '57', 'value': 0.5775487422943115}, {'id': '74', 'value': 0.5165159702301025}, {'id': '76', 'value': 0.5793538093566895}, {'id': '93', 'value': 0.05809283256530762}, {'id': '94', 'value': 0.4035370349884033}], 'src.evaluation.evaluation_metric_ged.GraphEditDistanceMetric': [{'id': '5', 'value': 7.0}, {'id': '9', 'value': 14.0}, {'id': '10', 'value': 9.0}, {'id': '16', 'value': 12.0}, {'id': '25', 'value': 11.0}, {'id': '28', 'value': 5.0}, {'id': '57', 'value': 8.0}, {'id': '74', 'value': 15.0}, {'id': '76', 'value': 21.0}, {'id': '93', 'value': 1.0}, {'id': '94', 'value': 12.0}], 'src.evaluation.evaluation_metric_oracle_calls.OracleCallsMetric': [{'id': '5', 'value': 192}, {'id': '9', 'value': 278}, {'id': '10', 'value': 334}, {'id': '16', 'value': 451}, {'id': '25', 'value': 410}, {'id': '28', 'value': 130}, {'id': '57', 'value': 841}, {'id': '74', 'value': 510}, {'id': '76', 'value': 511}, {'id': '93', 'value': 21}, {'id': '94', 'value': 363}], 'src.evaluation.evaluation_metric_correctness.CorrectnessMetric': [{'id': '5', 'value': 1}, {'id': '9', 'value': 1}, {'id': '10', 'value': 1}, {'id': '16', 'value': 1}, {'id': '25', 'value': 1}, {'id': '28', 'value': 1}, {'id': '57', 'value': 1}, {'id': '74', 'value': 1}, {'id': '76', 'value': 1}, {'id': '93', 'value': 1}, {'id': '94', 'value': 1}], 'src.evaluation.evaluation_metric_sparsity.SparsityMetric': [{'id': '5', 'value': 0.008951406649616368}, {'id': '9', 'value': 0.018158236057068743}, {'id': '10', 'value': 0.01164294954721863}, {'id': '16', 'value': 0.015584415584415584}, {'id': '25', 'value': 0.014066496163682864}, {'id': '28', 'value': 0.006459948320413436}, {'id': '57', 'value': 0.010230179028132993}, {'id': '74', 'value': 0.019305019305019305}, {'id': '76', 'value': 0.027450980392156862}, {'id': '93', 'value': 0.001277139208173691}, {'id': '94', 'value': 0.015957446808510637}], 'src.evaluation.evaluation_metric_fidelity.FidelityMetric': [{'id': '5', 'value': 1}, {'id': '9', 'value': 1}, {'id': '10', 'value': 1}, {'id': '16', 'value': 1}, {'id': '25', 'value': 1}, {'id': '28', 'value': -1}, {'id': '57', 'value': 1}, {'id': '74', 'value': 1}, {'id': '76', 'value': 1}, {'id': '93', 'value': -1}, {'id': '94', 'value': 1}], 'src.evaluation.evaluation_metric_oracle_accuracy.OracleAccuracyMetric': [{'id': '5', 'value': 1}, {'id': '9', 'value': 1}, {'id': '10', 'value': 1}, {'id': '16', 'value': 1}, {'id': '25', 'value': 1}, {'id': '28', 'value': 0}, {'id': '57', 'value': 1}, {'id': '74', 'value': 1}, {'id': '76', 'value': 1}, {'id': '93', 'value': 0}, {'id': '94', 'value': 1}]}\n"
     ]
    }
   ],
   "source": [
    "config_path = os.path.join(module_path, 'lab', 'config', config_f_name)\n",
    "runno = 1\n",
    "    \n",
    "print(f\"Generating context for: {config_path}\")\n",
    "context = Context.get_context(config_path)\n",
    "context.run_number = runno\n",
    "\n",
    "context.logger.info(f\"Executing: {context.config_file} Run: {context.run_number}\")\n",
    "context.logger.info(\"Creating the evaluation manager....................................\")\n",
    "\n",
    "\n",
    "if 'do-pairs' in context.conf:\n",
    "    context.logger.info(f\"Creating the paired  evaluators.....................................\")\n",
    "    eval_manager = PairedEvaluatorManager(context)\n",
    "else:\n",
    "    context.logger.info(\"Creating the evaluators......................................................\")\n",
    "    eval_manager = EvaluatorManager(context)\n",
    "\n",
    "context.logger.info(\n",
    "    \"Evaluating the explainers.............................................................\"\n",
    ")\n",
    "eval_manager.evaluate()"
   ]
  },
  {
   "cell_type": "markdown",
   "metadata": {},
   "source": [
    "### Aggregating the results into a Table"
   ]
  },
  {
   "cell_type": "code",
   "execution_count": null,
   "metadata": {},
   "outputs": [],
   "source": [
    "from src.data_analysis.data_analyzer import DataAnalyzer as data_analyzer\n",
    "import pandas as pd\n",
    "results_path = os.path.join(module_path, 'lab', 'output_legacy', 'results')\n",
    "stats_file_path = os.path.join(module_path, 'lab', 'stats_legacy', 'results.csv')\n",
    "res = data_analyzer.create_aggregated_dataframe(results_path)\n",
    "res.to_csv(stats_file_path)\n",
    "res"
   ]
  }
 ],
 "metadata": {
  "kernelspec": {
   "display_name": "XAI39",
   "language": "python",
   "name": "python3"
  },
  "language_info": {
   "codemirror_mode": {
    "name": "ipython",
    "version": 3
   },
   "file_extension": ".py",
   "mimetype": "text/x-python",
   "name": "python",
   "nbconvert_exporter": "python",
   "pygments_lexer": "ipython3",
   "version": "3.9.19"
  }
 },
 "nbformat": 4,
 "nbformat_minor": 2
}
