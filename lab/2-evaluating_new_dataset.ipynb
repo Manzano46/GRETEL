{
 "cells": [
  {
   "cell_type": "markdown",
   "metadata": {},
   "source": [
    "### Setting paths and imports"
   ]
  },
  {
   "cell_type": "code",
   "execution_count": 1,
   "metadata": {},
   "outputs": [
    {
     "data": {
      "text/plain": [
       "'c:\\\\Projects\\\\AIIM\\\\gretel-demo\\\\GRETEL'"
      ]
     },
     "execution_count": 1,
     "metadata": {},
     "output_type": "execute_result"
    }
   ],
   "source": [
    "import sys\n",
    "import os\n",
    "import pandas as pd\n",
    "\n",
    "module_path = os.path.abspath(os.path.join('..'))\n",
    "sys.path.append(module_path)\n",
    "module_path"
   ]
  },
  {
   "cell_type": "code",
   "execution_count": 2,
   "metadata": {},
   "outputs": [],
   "source": [
    "os.chdir(module_path)"
   ]
  },
  {
   "cell_type": "code",
   "execution_count": 3,
   "metadata": {},
   "outputs": [],
   "source": [
    "from src.utils.context import Context\n",
    "from src.data_analysis.future.data_analyzer import DataAnalyzer as data_analyzer\n",
    "from src.evaluation.future.evaluator_manager_triplets import EvaluatorManager"
   ]
  },
  {
   "cell_type": "code",
   "execution_count": 4,
   "metadata": {},
   "outputs": [],
   "source": [
    "config_f_name = 'trisqr_trsqr-oracle_obs.json'"
   ]
  },
  {
   "cell_type": "markdown",
   "metadata": {},
   "source": [
    "### Evaluating the explainer"
   ]
  },
  {
   "cell_type": "code",
   "execution_count": 5,
   "metadata": {},
   "outputs": [
    {
     "name": "stdout",
     "output_type": "stream",
     "text": [
      "Generating context for: c:\\Projects\\AIIM\\gretel-demo\\GRETEL\\lab\\config\\trisqr_trsqr-oracle_obs.json\n",
      ",-1032686955 | INFO | 22488 - Executing: c:\\Projects\\AIIM\\gretel-demo\\GRETEL\\lab\\config\\trisqr_trsqr-oracle_obs.json Run: 1\n",
      ",-1032686938 | INFO | 22488 - Creating the evaluation manager....................................\n",
      ",-1032686922 | INFO | 22488 - Creating the evaluators......................................................\n",
      ",-1032686837 | INFO | 22488 - Loading: TringlesSquares-f7b2a0a3e3f64150c902bc187d23ef0b\n",
      ",-1032686774 | INFO | 22488 - Created: TringlesSquares-f7b2a0a3e3f64150c902bc187d23ef0b\n",
      ",-1032686724 | INFO | 22488 - Creating: TrianglesSquaresOracle-1f8eef29db5fcc0d522efb2defca9f2f\n",
      ",-1032686687 | INFO | 22488 - TrianglesSquaresOracle trained in: 0.0 secs\n",
      ",-1032686651 | INFO | 22488 - Saved: TrianglesSquaresOracle-1f8eef29db5fcc0d522efb2defca9f2f\n",
      ",-1032686627 | INFO | 22488 - Created: TrianglesSquaresOracle-1f8eef29db5fcc0d522efb2defca9f2f\n",
      ",-1032686611 | INFO | 22488 - Instantiating: src.evaluation.evaluation_metric_ged.GraphEditDistanceMetric\n",
      ",-1032686591 | INFO | 22488 - Created: DCESExplainer-6bdad598233bf465de84b1874ce12eef\n",
      ",-1032686562 | INFO | 22488 - Instantiating: src.evaluation.future.stages.main_pipeline.MainPipeline\n",
      ",-1032686515 | INFO | 22488 - Instantiating: src.evaluation.future.stages.runtime.Runtime\n",
      ",-1032686490 | INFO | 22488 - Instantiating: src.evaluation.future.stages.ged.GraphEditDistance\n",
      ",-1032686457 | INFO | 22488 - Instantiating: src.evaluation.future.stages.correctness.Correctness\n",
      ",-1032686432 | INFO | 22488 - Instantiating: src.evaluation.future.stages.oracle_calls.OracleCalls\n",
      ",-1032686407 | INFO | 22488 - Instantiating: src.evaluation.future.stages.oracle_accuracy.OracleAccuracy\n",
      ",-1032686375 | INFO | 22488 - Instantiating: src.evaluation.future.stages.sparsity.Sparsity\n",
      ",-1032686338 | INFO | 22488 - Instantiating: src.evaluation.future.stages.fidelity.Fidelity\n",
      ",-1032686307 | INFO | 22488 - Instantiating: src.evaluation.future.stages.instability.Instability\n",
      ",-1032686277 | INFO | 22488 - Instantiating: src.utils.metrics.ged.GraphEditDistanceMetric\n",
      ",-1032686270 | INFO | 22488 - Instantiating: src.evaluation.future.stages.runtime.Runtime\n",
      ",-1032686247 | INFO | 22488 - Instantiating: src.evaluation.future.stages.ged.GraphEditDistance\n",
      ",-1032686220 | INFO | 22488 - Instantiating: src.evaluation.future.stages.correctness.Correctness\n",
      ",-1032686187 | INFO | 22488 - Instantiating: src.evaluation.future.stages.oracle_calls.OracleCalls\n",
      ",-1032686154 | INFO | 22488 - Instantiating: src.evaluation.future.stages.oracle_accuracy.OracleAccuracy\n",
      ",-1032686121 | INFO | 22488 - Instantiating: src.evaluation.future.stages.sparsity.Sparsity\n",
      ",-1032686097 | INFO | 22488 - Instantiating: src.evaluation.future.stages.fidelity.Fidelity\n",
      ",-1032686072 | INFO | 22488 - Instantiating: src.evaluation.future.stages.instability.Instability\n",
      ",-1032686047 | INFO | 22488 - Instantiating: src.utils.metrics.ged.GraphEditDistanceMetric\n",
      ",-1032686017 | INFO | 22488 - Created: Evaluator-ecb32010de62cd38ebb54694414eea26\n",
      ",-1032685981 | INFO | 22488 - Evaluating the explainers.............................................................\n",
      ",-1032685980 | INFO | 22488 - Evaluating instance with id 0\n",
      ",-1032685947 | INFO | 22488 - evaluated instance with id 0\n",
      ",-1032685941 | INFO | 22488 - Evaluating instance with id 1\n",
      ",-1032685925 | INFO | 22488 - evaluated instance with id 1\n",
      ",-1032685925 | INFO | 22488 - Evaluating instance with id 2\n",
      ",-1032685907 | INFO | 22488 - evaluated instance with id 2\n",
      ",-1032685900 | INFO | 22488 - Evaluating instance with id 3\n",
      ",-1032685879 | INFO | 22488 - evaluated instance with id 3\n",
      ",-1032685877 | INFO | 22488 - Evaluating instance with id 4\n",
      ",-1032685858 | INFO | 22488 - evaluated instance with id 4\n",
      ",-1032685857 | INFO | 22488 - Evaluating instance with id 5\n",
      ",-1032685834 | INFO | 22488 - evaluated instance with id 5\n",
      ",-1032685834 | INFO | 22488 - Evaluating instance with id 6\n",
      ",-1032685807 | INFO | 22488 - evaluated instance with id 6\n",
      ",-1032685800 | INFO | 22488 - Evaluating instance with id 7\n",
      ",-1032685775 | INFO | 22488 - evaluated instance with id 7\n",
      ",-1032685775 | INFO | 22488 - Evaluating instance with id 8\n",
      ",-1032685757 | INFO | 22488 - evaluated instance with id 8\n",
      ",-1032685757 | INFO | 22488 - Evaluating instance with id 9\n",
      ",-1032685737 | INFO | 22488 - evaluated instance with id 9\n",
      ",-1032685734 | INFO | 22488 - Evaluating instance with id 10\n",
      ",-1032685717 | INFO | 22488 - evaluated instance with id 10\n",
      ",-1032685717 | INFO | 22488 - Evaluating instance with id 11\n",
      ",-1032685697 | INFO | 22488 - evaluated instance with id 11\n",
      ",-1032685697 | INFO | 22488 - Evaluating instance with id 12\n",
      ",-1032685676 | INFO | 22488 - evaluated instance with id 12\n",
      ",-1032685665 | INFO | 22488 - Evaluating instance with id 13\n",
      ",-1032685647 | INFO | 22488 - evaluated instance with id 13\n",
      ",-1032685643 | INFO | 22488 - Evaluating instance with id 14\n",
      ",-1032685627 | INFO | 22488 - evaluated instance with id 14\n",
      ",-1032685627 | INFO | 22488 - Evaluating instance with id 15\n",
      ",-1032685607 | INFO | 22488 - evaluated instance with id 15\n",
      ",-1032685607 | INFO | 22488 - Evaluating instance with id 16\n",
      ",-1032685586 | INFO | 22488 - evaluated instance with id 16\n",
      ",-1032685585 | INFO | 22488 - Evaluating instance with id 17\n",
      ",-1032685567 | INFO | 22488 - evaluated instance with id 17\n",
      ",-1032685567 | INFO | 22488 - Evaluating instance with id 18\n",
      ",-1032685544 | INFO | 22488 - evaluated instance with id 18\n",
      ",-1032685544 | INFO | 22488 - Evaluating instance with id 19\n",
      ",-1032685527 | INFO | 22488 - evaluated instance with id 19\n",
      ",-1032685527 | INFO | 22488 - Evaluating instance with id 20\n",
      ",-1032685507 | INFO | 22488 - evaluated instance with id 20\n",
      ",-1032685503 | INFO | 22488 - Evaluating instance with id 21\n",
      ",-1032685486 | INFO | 22488 - evaluated instance with id 21\n",
      ",-1032685486 | INFO | 22488 - Evaluating instance with id 22\n",
      ",-1032685467 | INFO | 22488 - evaluated instance with id 22\n",
      ",-1032685462 | INFO | 22488 - Evaluating instance with id 23\n",
      ",-1032685445 | INFO | 22488 - evaluated instance with id 23\n",
      ",-1032685445 | INFO | 22488 - Evaluating instance with id 24\n",
      ",-1032685420 | INFO | 22488 - evaluated instance with id 24\n",
      ",-1032685420 | INFO | 22488 - Evaluating instance with id 25\n",
      ",-1032685397 | INFO | 22488 - evaluated instance with id 25\n",
      ",-1032685397 | INFO | 22488 - Evaluating instance with id 26\n",
      ",-1032685372 | INFO | 22488 - evaluated instance with id 26\n",
      ",-1032685372 | INFO | 22488 - Evaluating instance with id 27\n",
      ",-1032685357 | INFO | 22488 - evaluated instance with id 27\n",
      ",-1032685349 | INFO | 22488 - Evaluating instance with id 28\n",
      ",-1032685327 | INFO | 22488 - evaluated instance with id 28\n",
      ",-1032685327 | INFO | 22488 - Evaluating instance with id 29\n",
      ",-1032685307 | INFO | 22488 - evaluated instance with id 29\n",
      ",-1032685307 | INFO | 22488 - Evaluating instance with id 30\n",
      ",-1032685286 | INFO | 22488 - evaluated instance with id 30\n",
      ",-1032685286 | INFO | 22488 - Evaluating instance with id 31\n",
      ",-1032685266 | INFO | 22488 - evaluated instance with id 31\n",
      ",-1032685266 | INFO | 22488 - Evaluating instance with id 32\n",
      ",-1032685247 | INFO | 22488 - evaluated instance with id 32\n",
      ",-1032685247 | INFO | 22488 - Evaluating instance with id 33\n",
      ",-1032685225 | INFO | 22488 - evaluated instance with id 33\n",
      ",-1032685225 | INFO | 22488 - Evaluating instance with id 34\n",
      ",-1032685200 | INFO | 22488 - evaluated instance with id 34\n",
      ",-1032685200 | INFO | 22488 - Evaluating instance with id 35\n",
      ",-1032685184 | INFO | 22488 - evaluated instance with id 35\n",
      ",-1032685177 | INFO | 22488 - Evaluating instance with id 36\n",
      ",-1032685157 | INFO | 22488 - evaluated instance with id 36\n",
      ",-1032685127 | INFO | 22488 - Evaluating instance with id 37\n",
      ",-1032685088 | INFO | 22488 - evaluated instance with id 37\n",
      ",-1032685086 | INFO | 22488 - Evaluating instance with id 38\n",
      ",-1032685056 | INFO | 22488 - evaluated instance with id 38\n",
      ",-1032685055 | INFO | 22488 - Evaluating instance with id 39\n",
      ",-1032685037 | INFO | 22488 - evaluated instance with id 39\n",
      ",-1032685030 | INFO | 22488 - Evaluating instance with id 40\n",
      ",-1032685013 | INFO | 22488 - evaluated instance with id 40\n",
      ",-1032685013 | INFO | 22488 - Evaluating instance with id 41\n",
      ",-1032684980 | INFO | 22488 - evaluated instance with id 41\n",
      ",-1032684980 | INFO | 22488 - Evaluating instance with id 42\n",
      ",-1032684955 | INFO | 22488 - evaluated instance with id 42\n",
      ",-1032684955 | INFO | 22488 - Evaluating instance with id 43\n",
      ",-1032684927 | INFO | 22488 - evaluated instance with id 43\n",
      ",-1032684922 | INFO | 22488 - Evaluating instance with id 44\n",
      ",-1032684901 | INFO | 22488 - evaluated instance with id 44\n",
      ",-1032684900 | INFO | 22488 - Evaluating instance with id 45\n",
      ",-1032684882 | INFO | 22488 - evaluated instance with id 45\n",
      ",-1032684882 | INFO | 22488 - Evaluating instance with id 46\n",
      ",-1032684866 | INFO | 22488 - evaluated instance with id 46\n",
      ",-1032684866 | INFO | 22488 - Evaluating instance with id 47\n",
      ",-1032684837 | INFO | 22488 - evaluated instance with id 47\n",
      ",-1032684837 | INFO | 22488 - Evaluating instance with id 48\n",
      ",-1032684817 | INFO | 22488 - evaluated instance with id 48\n",
      ",-1032684812 | INFO | 22488 - Evaluating instance with id 49\n",
      ",-1032684786 | INFO | 22488 - evaluated instance with id 49\n",
      ",-1032684786 | INFO | 22488 - Evaluating instance with id 50\n",
      ",-1032684762 | INFO | 22488 - evaluated instance with id 50\n",
      ",-1032684762 | INFO | 22488 - Evaluating instance with id 51\n",
      ",-1032684746 | INFO | 22488 - evaluated instance with id 51\n",
      ",-1032684737 | INFO | 22488 - Evaluating instance with id 52\n",
      ",-1032684717 | INFO | 22488 - evaluated instance with id 52\n",
      ",-1032684717 | INFO | 22488 - Evaluating instance with id 53\n",
      ",-1032684696 | INFO | 22488 - evaluated instance with id 53\n",
      ",-1032684692 | INFO | 22488 - Evaluating instance with id 54\n",
      ",-1032684671 | INFO | 22488 - evaluated instance with id 54\n",
      ",-1032684671 | INFO | 22488 - Evaluating instance with id 55\n",
      ",-1032684653 | INFO | 22488 - evaluated instance with id 55\n",
      ",-1032684652 | INFO | 22488 - Evaluating instance with id 56\n",
      ",-1032684637 | INFO | 22488 - evaluated instance with id 56\n",
      ",-1032684637 | INFO | 22488 - Evaluating instance with id 57\n",
      ",-1032684614 | INFO | 22488 - evaluated instance with id 57\n",
      ",-1032684614 | INFO | 22488 - Evaluating instance with id 58\n",
      ",-1032684589 | INFO | 22488 - evaluated instance with id 58\n",
      ",-1032684589 | INFO | 22488 - Evaluating instance with id 59\n",
      ",-1032684572 | INFO | 22488 - evaluated instance with id 59\n",
      ",-1032684567 | INFO | 22488 - Evaluating instance with id 60\n",
      ",-1032684547 | INFO | 22488 - evaluated instance with id 60\n",
      ",-1032684546 | INFO | 22488 - Evaluating instance with id 61\n",
      ",-1032684527 | INFO | 22488 - evaluated instance with id 61\n",
      ",-1032684527 | INFO | 22488 - Evaluating instance with id 62\n",
      ",-1032684506 | INFO | 22488 - evaluated instance with id 62\n",
      ",-1032684506 | INFO | 22488 - Evaluating instance with id 63\n",
      ",-1032684487 | INFO | 22488 - evaluated instance with id 63\n",
      ",-1032684486 | INFO | 22488 - Evaluating instance with id 64\n",
      ",-1032684466 | INFO | 22488 - evaluated instance with id 64\n",
      ",-1032684466 | INFO | 22488 - Evaluating instance with id 65\n",
      ",-1032684447 | INFO | 22488 - evaluated instance with id 65\n",
      ",-1032684447 | INFO | 22488 - Evaluating instance with id 66\n",
      ",-1032684427 | INFO | 22488 - evaluated instance with id 66\n",
      ",-1032684424 | INFO | 22488 - Evaluating instance with id 67\n",
      ",-1032684404 | INFO | 22488 - evaluated instance with id 67\n",
      ",-1032684403 | INFO | 22488 - Evaluating instance with id 68\n",
      ",-1032684383 | INFO | 22488 - evaluated instance with id 68\n",
      ",-1032684383 | INFO | 22488 - Evaluating instance with id 69\n",
      ",-1032684359 | INFO | 22488 - evaluated instance with id 69\n",
      ",-1032684359 | INFO | 22488 - Evaluating instance with id 70\n",
      ",-1032684342 | INFO | 22488 - evaluated instance with id 70\n",
      ",-1032684342 | INFO | 22488 - Evaluating instance with id 71\n",
      ",-1032684326 | INFO | 22488 - evaluated instance with id 71\n",
      ",-1032684317 | INFO | 22488 - Evaluating instance with id 72\n",
      ",-1032684297 | INFO | 22488 - evaluated instance with id 72\n",
      ",-1032684297 | INFO | 22488 - Evaluating instance with id 73\n",
      ",-1032684263 | INFO | 22488 - evaluated instance with id 73\n",
      ",-1032684257 | INFO | 22488 - Evaluating instance with id 74\n",
      ",-1032684218 | INFO | 22488 - evaluated instance with id 74\n",
      ",-1032684217 | INFO | 22488 - Evaluating instance with id 75\n",
      ",-1032684194 | INFO | 22488 - evaluated instance with id 75\n",
      ",-1032684187 | INFO | 22488 - Evaluating instance with id 76\n",
      ",-1032684162 | INFO | 22488 - evaluated instance with id 76\n",
      ",-1032684162 | INFO | 22488 - Evaluating instance with id 77\n",
      ",-1032684144 | INFO | 22488 - evaluated instance with id 77\n",
      ",-1032684144 | INFO | 22488 - Evaluating instance with id 78\n",
      ",-1032684122 | INFO | 22488 - evaluated instance with id 78\n",
      ",-1032684119 | INFO | 22488 - Evaluating instance with id 79\n",
      ",-1032684103 | INFO | 22488 - evaluated instance with id 79\n",
      ",-1032684103 | INFO | 22488 - Evaluating instance with id 80\n",
      ",-1032684077 | INFO | 22488 - evaluated instance with id 80\n",
      ",-1032684077 | INFO | 22488 - Evaluating instance with id 81\n",
      ",-1032684054 | INFO | 22488 - evaluated instance with id 81\n",
      ",-1032684054 | INFO | 22488 - Evaluating instance with id 82\n",
      ",-1032684029 | INFO | 22488 - evaluated instance with id 82\n",
      ",-1032684027 | INFO | 22488 - Evaluating instance with id 83\n",
      ",-1032684004 | INFO | 22488 - evaluated instance with id 83\n",
      ",-1032684004 | INFO | 22488 - Evaluating instance with id 84\n",
      ",-1032683977 | INFO | 22488 - evaluated instance with id 84\n",
      ",-1032683977 | INFO | 22488 - Evaluating instance with id 85\n",
      ",-1032683954 | INFO | 22488 - evaluated instance with id 85\n",
      ",-1032683954 | INFO | 22488 - Evaluating instance with id 86\n",
      ",-1032683918 | INFO | 22488 - evaluated instance with id 86\n",
      ",-1032683917 | INFO | 22488 - Evaluating instance with id 87\n",
      ",-1032683888 | INFO | 22488 - evaluated instance with id 87\n",
      ",-1032683885 | INFO | 22488 - Evaluating instance with id 88\n",
      ",-1032683862 | INFO | 22488 - evaluated instance with id 88\n",
      ",-1032683862 | INFO | 22488 - Evaluating instance with id 89\n",
      ",-1032683828 | INFO | 22488 - evaluated instance with id 89\n",
      ",-1032683827 | INFO | 22488 - Evaluating instance with id 90\n",
      ",-1032683804 | INFO | 22488 - evaluated instance with id 90\n",
      ",-1032683804 | INFO | 22488 - Evaluating instance with id 91\n",
      ",-1032683785 | INFO | 22488 - evaluated instance with id 91\n",
      ",-1032683779 | INFO | 22488 - Evaluating instance with id 92\n",
      ",-1032683763 | INFO | 22488 - evaluated instance with id 92\n",
      ",-1032683763 | INFO | 22488 - Evaluating instance with id 93\n",
      ",-1032683737 | INFO | 22488 - evaluated instance with id 93\n",
      ",-1032683737 | INFO | 22488 - Evaluating instance with id 94\n",
      ",-1032683713 | INFO | 22488 - evaluated instance with id 94\n",
      ",-1032683713 | INFO | 22488 - Evaluating instance with id 95\n",
      ",-1032683685 | INFO | 22488 - evaluated instance with id 95\n",
      ",-1032683685 | INFO | 22488 - Evaluating instance with id 96\n",
      ",-1032683665 | INFO | 22488 - evaluated instance with id 96\n",
      ",-1032683665 | INFO | 22488 - Evaluating instance with id 97\n",
      ",-1032683637 | INFO | 22488 - evaluated instance with id 97\n",
      ",-1032683637 | INFO | 22488 - Evaluating instance with id 98\n",
      ",-1032683617 | INFO | 22488 - evaluated instance with id 98\n",
      ",-1032683608 | INFO | 22488 - Evaluating instance with id 99\n",
      ",-1032683584 | INFO | 22488 - evaluated instance with id 99\n",
      ",-1032683584 | INFO | 22488 - Evaluating instance with id 100\n",
      ",-1032683544 | INFO | 22488 - evaluated instance with id 100\n",
      ",-1032683543 | INFO | 22488 - Evaluating instance with id 101\n",
      ",-1032683517 | INFO | 22488 - evaluated instance with id 101\n",
      ",-1032683511 | INFO | 22488 - Evaluating instance with id 102\n",
      ",-1032683485 | INFO | 22488 - evaluated instance with id 102\n",
      ",-1032683485 | INFO | 22488 - Evaluating instance with id 103\n",
      ",-1032683462 | INFO | 22488 - evaluated instance with id 103\n",
      ",-1032683462 | INFO | 22488 - Evaluating instance with id 104\n",
      ",-1032683436 | INFO | 22488 - evaluated instance with id 104\n",
      ",-1032683432 | INFO | 22488 - Evaluating instance with id 105\n",
      ",-1032683402 | INFO | 22488 - evaluated instance with id 105\n",
      ",-1032683402 | INFO | 22488 - Evaluating instance with id 106\n",
      ",-1032683371 | INFO | 22488 - evaluated instance with id 106\n",
      ",-1032683368 | INFO | 22488 - Evaluating instance with id 107\n",
      ",-1032683335 | INFO | 22488 - evaluated instance with id 107\n",
      ",-1032683330 | INFO | 22488 - Evaluating instance with id 108\n",
      ",-1032683302 | INFO | 22488 - evaluated instance with id 108\n",
      ",-1032683299 | INFO | 22488 - Evaluating instance with id 109\n",
      ",-1032683267 | INFO | 22488 - evaluated instance with id 109\n",
      ",-1032683267 | INFO | 22488 - Evaluating instance with id 110\n",
      ",-1032683226 | INFO | 22488 - evaluated instance with id 110\n",
      ",-1032683226 | INFO | 22488 - Evaluating instance with id 111\n",
      ",-1032683164 | INFO | 22488 - evaluated instance with id 111\n",
      ",-1032683164 | INFO | 22488 - Evaluating instance with id 112\n",
      ",-1032683117 | INFO | 22488 - evaluated instance with id 112\n",
      ",-1032683111 | INFO | 22488 - Evaluating instance with id 113\n",
      ",-1032683084 | INFO | 22488 - evaluated instance with id 113\n",
      ",-1032683084 | INFO | 22488 - Evaluating instance with id 114\n",
      ",-1032683047 | INFO | 22488 - evaluated instance with id 114\n",
      ",-1032683046 | INFO | 22488 - Evaluating instance with id 115\n",
      ",-1032683017 | INFO | 22488 - evaluated instance with id 115\n",
      ",-1032683017 | INFO | 22488 - Evaluating instance with id 116\n",
      ",-1032682984 | INFO | 22488 - evaluated instance with id 116\n",
      ",-1032682984 | INFO | 22488 - Evaluating instance with id 117\n",
      ",-1032682947 | INFO | 22488 - evaluated instance with id 117\n",
      ",-1032682947 | INFO | 22488 - Evaluating instance with id 118\n",
      ",-1032682915 | INFO | 22488 - evaluated instance with id 118\n",
      ",-1032682915 | INFO | 22488 - Evaluating instance with id 119\n",
      ",-1032682883 | INFO | 22488 - evaluated instance with id 119\n",
      ",-1032682883 | INFO | 22488 - Evaluating instance with id 120\n",
      ",-1032682851 | INFO | 22488 - evaluated instance with id 120\n",
      ",-1032682847 | INFO | 22488 - Evaluating instance with id 121\n",
      ",-1032682817 | INFO | 22488 - evaluated instance with id 121\n",
      ",-1032682817 | INFO | 22488 - Evaluating instance with id 122\n",
      ",-1032682787 | INFO | 22488 - evaluated instance with id 122\n",
      ",-1032682786 | INFO | 22488 - Evaluating instance with id 123\n",
      ",-1032682753 | INFO | 22488 - evaluated instance with id 123\n",
      ",-1032682753 | INFO | 22488 - Evaluating instance with id 124\n",
      ",-1032682720 | INFO | 22488 - evaluated instance with id 124\n",
      ",-1032682717 | INFO | 22488 - Evaluating instance with id 125\n",
      ",-1032682692 | INFO | 22488 - evaluated instance with id 125\n",
      ",-1032682688 | INFO | 22488 - Evaluating instance with id 126\n",
      ",-1032682663 | INFO | 22488 - evaluated instance with id 126\n",
      ",-1032682663 | INFO | 22488 - Evaluating instance with id 127\n",
      ",-1032682638 | INFO | 22488 - evaluated instance with id 127\n",
      ",-1032682637 | INFO | 22488 - {'src.evaluation.future.stages.runtime.Runtime': [{'id': '0', 'value': 0.032801151275634766}, {'id': '1', 'value': 0.01615595817565918}, {'id': '2', 'value': 0.018248319625854492}, {'id': '3', 'value': 0.01656818389892578}, {'id': '4', 'value': 0.01006937026977539}, {'id': '5', 'value': 0.019928455352783203}, {'id': '6', 'value': 0.026613235473632812}, {'id': '7', 'value': 0.0248258113861084}, {'id': '8', 'value': 0.018226146697998047}, {'id': '9', 'value': 0.013077020645141602}, {'id': '10', 'value': 0.008319377899169922}, {'id': '11', 'value': 0.017042160034179688}, {'id': '12', 'value': 0.0202329158782959}, {'id': '13', 'value': 0.017866134643554688}, {'id': '14', 'value': 0.008296966552734375}, {'id': '15', 'value': 0.016782045364379883}, {'id': '16', 'value': 0.01306605339050293}, {'id': '17', 'value': 0.013633012771606445}, {'id': '18', 'value': 0.02119731903076172}, {'id': '19', 'value': 0.016970157623291016}, {'id': '20', 'value': 0.0205233097076416}, {'id': '21', 'value': 0.01641678810119629}, {'id': '22', 'value': 0.01971745491027832}, {'id': '23', 'value': 0.01626420021057129}, {'id': '24', 'value': 0.02459549903869629}, {'id': '25', 'value': 0.02037978172302246}, {'id': '26', 'value': 0.01964735984802246}, {'id': '27', 'value': 0.015838146209716797}, {'id': '28', 'value': 0.01518106460571289}, {'id': '29', 'value': 0.016633272171020508}, {'id': '30', 'value': 0.020825624465942383}, {'id': '31', 'value': 0.01622295379638672}, {'id': '32', 'value': 0.0190126895904541}, {'id': '33', 'value': 0.022022247314453125}, {'id': '34', 'value': 0.018306493759155273}, {'id': '35', 'value': 0.012731313705444336}, {'id': '36', 'value': 0.020205259323120117}, {'id': '37', 'value': 0.02522587776184082}, {'id': '38', 'value': 0.022806406021118164}, {'id': '39', 'value': 0.01850295066833496}, {'id': '40', 'value': 0.016892433166503906}, {'id': '41', 'value': 0.02501392364501953}, {'id': '42', 'value': 0.02499222755432129}, {'id': '43', 'value': 0.028217554092407227}, {'id': '44', 'value': 0.019217729568481445}, {'id': '45', 'value': 0.016271352767944336}, {'id': '46', 'value': 0.016121625900268555}, {'id': '47', 'value': 0.02371692657470703}, {'id': '48', 'value': 0.016814470291137695}, {'id': '49', 'value': 0.02373337745666504}, {'id': '50', 'value': 0.01591968536376953}, {'id': '51', 'value': 0.011173725128173828}, {'id': '52', 'value': 0.016283035278320312}, {'id': '53', 'value': 0.016237497329711914}, {'id': '54', 'value': 0.015220880508422852}, {'id': '55', 'value': 0.01593947410583496}, {'id': '56', 'value': 0.013596773147583008}, {'id': '57', 'value': 0.016507387161254883}, {'id': '58', 'value': 0.02193474769592285}, {'id': '59', 'value': 0.01699519157409668}, {'id': '60', 'value': 0.01042628288269043}, {'id': '61', 'value': 0.013898849487304688}, {'id': '62', 'value': 0.00809621810913086}, {'id': '63', 'value': 0.015718936920166016}, {'id': '64', 'value': 0.018584728240966797}, {'id': '65', 'value': 0.019222497940063477}, {'id': '66', 'value': 0.020038604736328125}, {'id': '67', 'value': 0.019365549087524414}, {'id': '68', 'value': 0.016171932220458984}, {'id': '69', 'value': 0.016423463821411133}, {'id': '70', 'value': 0.014983654022216797}, {'id': '71', 'value': 0.01637125015258789}, {'id': '72', 'value': 0.016645193099975586}, {'id': '73', 'value': 0.029772043228149414}, {'id': '74', 'value': 0.0300900936126709}, {'id': '75', 'value': 0.0230715274810791}, {'id': '76', 'value': 0.018257856369018555}, {'id': '77', 'value': 0.01620197296142578}, {'id': '78', 'value': 0.01714348793029785}, {'id': '79', 'value': 0.016176223754882812}, {'id': '80', 'value': 0.020241975784301758}, {'id': '81', 'value': 0.022838830947875977}, {'id': '82', 'value': 0.02187657356262207}, {'id': '83', 'value': 0.022624969482421875}, {'id': '84', 'value': 0.0252838134765625}, {'id': '85', 'value': 0.02263784408569336}, {'id': '86', 'value': 0.03132224082946777}, {'id': '87', 'value': 0.024515151977539062}, {'id': '88', 'value': 0.019542455673217773}, {'id': '89', 'value': 0.028985977172851562}, {'id': '90', 'value': 0.018167972564697266}, {'id': '91', 'value': 0.01901078224182129}, {'id': '92', 'value': 0.01589798927307129}, {'id': '93', 'value': 0.018474817276000977}, {'id': '94', 'value': 0.023313283920288086}, {'id': '95', 'value': 0.0283966064453125}, {'id': '96', 'value': 0.016167640686035156}, {'id': '97', 'value': 0.0264585018157959}, {'id': '98', 'value': 0.020189285278320312}, {'id': '99', 'value': 0.02456521987915039}, {'id': '100', 'value': 0.030176162719726562}, {'id': '101', 'value': 0.025476455688476562}, {'id': '102', 'value': 0.02665114402770996}, {'id': '103', 'value': 0.018053054809570312}, {'id': '104', 'value': 0.016399860382080078}, {'id': '105', 'value': 0.02481985092163086}, {'id': '106', 'value': 0.02014017105102539}, {'id': '107', 'value': 0.03011298179626465}, {'id': '108', 'value': 0.02300715446472168}, {'id': '109', 'value': 0.022073745727539062}, {'id': '110', 'value': 0.03082108497619629}, {'id': '111', 'value': 0.0585176944732666}, {'id': '112', 'value': 0.043111562728881836}, {'id': '113', 'value': 0.02428126335144043}, {'id': '114', 'value': 0.029808998107910156}, {'id': '115', 'value': 0.024910926818847656}, {'id': '116', 'value': 0.024631738662719727}, {'id': '117', 'value': 0.031636714935302734}, {'id': '118', 'value': 0.022932052612304688}, {'id': '119', 'value': 0.024816036224365234}, {'id': '120', 'value': 0.03189420700073242}, {'id': '121', 'value': 0.019852876663208008}, {'id': '122', 'value': 0.022880077362060547}, {'id': '123', 'value': 0.03291201591491699}, {'id': '124', 'value': 0.02654099464416504}, {'id': '125', 'value': 0.020779848098754883}, {'id': '126', 'value': 0.020151615142822266}, {'id': '127', 'value': 0.01643061637878418}], 'src.evaluation.future.stages.ged.GraphEditDistance': [{'id': '0', 'value': 2.0}, {'id': '1', 'value': 2.0}, {'id': '2', 'value': 2.0}, {'id': '3', 'value': 2.0}, {'id': '4', 'value': 2.0}, {'id': '5', 'value': 2.0}, {'id': '6', 'value': 2.0}, {'id': '7', 'value': 2.0}, {'id': '8', 'value': 2.0}, {'id': '9', 'value': 2.0}, {'id': '10', 'value': 2.0}, {'id': '11', 'value': 2.0}, {'id': '12', 'value': 2.0}, {'id': '13', 'value': 2.0}, {'id': '14', 'value': 2.0}, {'id': '15', 'value': 2.0}, {'id': '16', 'value': 2.0}, {'id': '17', 'value': 2.0}, {'id': '18', 'value': 2.0}, {'id': '19', 'value': 2.0}, {'id': '20', 'value': 2.0}, {'id': '21', 'value': 2.0}, {'id': '22', 'value': 2.0}, {'id': '23', 'value': 2.0}, {'id': '24', 'value': 2.0}, {'id': '25', 'value': 2.0}, {'id': '26', 'value': 2.0}, {'id': '27', 'value': 2.0}, {'id': '28', 'value': 2.0}, {'id': '29', 'value': 2.0}, {'id': '30', 'value': 2.0}, {'id': '31', 'value': 2.0}, {'id': '32', 'value': 2.0}, {'id': '33', 'value': 2.0}, {'id': '34', 'value': 2.0}, {'id': '35', 'value': 2.0}, {'id': '36', 'value': 2.0}, {'id': '37', 'value': 2.0}, {'id': '38', 'value': 2.0}, {'id': '39', 'value': 2.0}, {'id': '40', 'value': 2.0}, {'id': '41', 'value': 2.0}, {'id': '42', 'value': 2.0}, {'id': '43', 'value': 2.0}, {'id': '44', 'value': 2.0}, {'id': '45', 'value': 2.0}, {'id': '46', 'value': 2.0}, {'id': '47', 'value': 2.0}, {'id': '48', 'value': 2.0}, {'id': '49', 'value': 2.0}, {'id': '50', 'value': 2.0}, {'id': '51', 'value': 2.0}, {'id': '52', 'value': 2.0}, {'id': '53', 'value': 2.0}, {'id': '54', 'value': 2.0}, {'id': '55', 'value': 2.0}, {'id': '56', 'value': 2.0}, {'id': '57', 'value': 2.0}, {'id': '58', 'value': 2.0}, {'id': '59', 'value': 2.0}, {'id': '60', 'value': 2.0}, {'id': '61', 'value': 2.0}, {'id': '62', 'value': 2.0}, {'id': '63', 'value': 2.0}, {'id': '64', 'value': 2.0}, {'id': '65', 'value': 2.0}, {'id': '66', 'value': 2.0}, {'id': '67', 'value': 2.0}, {'id': '68', 'value': 2.0}, {'id': '69', 'value': 2.0}, {'id': '70', 'value': 2.0}, {'id': '71', 'value': 2.0}, {'id': '72', 'value': 2.0}, {'id': '73', 'value': 2.0}, {'id': '74', 'value': 2.0}, {'id': '75', 'value': 2.0}, {'id': '76', 'value': 2.0}, {'id': '77', 'value': 2.0}, {'id': '78', 'value': 2.0}, {'id': '79', 'value': 2.0}, {'id': '80', 'value': 2.0}, {'id': '81', 'value': 2.0}, {'id': '82', 'value': 2.0}, {'id': '83', 'value': 2.0}, {'id': '84', 'value': 2.0}, {'id': '85', 'value': 2.0}, {'id': '86', 'value': 2.0}, {'id': '87', 'value': 2.0}, {'id': '88', 'value': 2.0}, {'id': '89', 'value': 2.0}, {'id': '90', 'value': 2.0}, {'id': '91', 'value': 2.0}, {'id': '92', 'value': 2.0}, {'id': '93', 'value': 2.0}, {'id': '94', 'value': 2.0}, {'id': '95', 'value': 2.0}, {'id': '96', 'value': 2.0}, {'id': '97', 'value': 2.0}, {'id': '98', 'value': 2.0}, {'id': '99', 'value': 2.0}, {'id': '100', 'value': 2.0}, {'id': '101', 'value': 2.0}, {'id': '102', 'value': 2.0}, {'id': '103', 'value': 2.0}, {'id': '104', 'value': 2.0}, {'id': '105', 'value': 2.0}, {'id': '106', 'value': 2.0}, {'id': '107', 'value': 2.0}, {'id': '108', 'value': 2.0}, {'id': '109', 'value': 2.0}, {'id': '110', 'value': 2.0}, {'id': '111', 'value': 2.0}, {'id': '112', 'value': 2.0}, {'id': '113', 'value': 2.0}, {'id': '114', 'value': 2.0}, {'id': '115', 'value': 2.0}, {'id': '116', 'value': 2.0}, {'id': '117', 'value': 2.0}, {'id': '118', 'value': 2.0}, {'id': '119', 'value': 2.0}, {'id': '120', 'value': 2.0}, {'id': '121', 'value': 2.0}, {'id': '122', 'value': 2.0}, {'id': '123', 'value': 2.0}, {'id': '124', 'value': 2.0}, {'id': '125', 'value': 2.0}, {'id': '126', 'value': 2.0}, {'id': '127', 'value': 2.0}], 'src.evaluation.future.stages.correctness.Correctness': [{'id': '0', 'value': 1.0}, {'id': '1', 'value': 1.0}, {'id': '2', 'value': 1.0}, {'id': '3', 'value': 1.0}, {'id': '4', 'value': 1.0}, {'id': '5', 'value': 1.0}, {'id': '6', 'value': 1.0}, {'id': '7', 'value': 1.0}, {'id': '8', 'value': 1.0}, {'id': '9', 'value': 1.0}, {'id': '10', 'value': 1.0}, {'id': '11', 'value': 1.0}, {'id': '12', 'value': 1.0}, {'id': '13', 'value': 1.0}, {'id': '14', 'value': 1.0}, {'id': '15', 'value': 1.0}, {'id': '16', 'value': 1.0}, {'id': '17', 'value': 1.0}, {'id': '18', 'value': 1.0}, {'id': '19', 'value': 1.0}, {'id': '20', 'value': 1.0}, {'id': '21', 'value': 1.0}, {'id': '22', 'value': 1.0}, {'id': '23', 'value': 1.0}, {'id': '24', 'value': 1.0}, {'id': '25', 'value': 1.0}, {'id': '26', 'value': 1.0}, {'id': '27', 'value': 1.0}, {'id': '28', 'value': 1.0}, {'id': '29', 'value': 1.0}, {'id': '30', 'value': 1.0}, {'id': '31', 'value': 1.0}, {'id': '32', 'value': 1.0}, {'id': '33', 'value': 1.0}, {'id': '34', 'value': 1.0}, {'id': '35', 'value': 1.0}, {'id': '36', 'value': 1.0}, {'id': '37', 'value': 1.0}, {'id': '38', 'value': 1.0}, {'id': '39', 'value': 1.0}, {'id': '40', 'value': 1.0}, {'id': '41', 'value': 1.0}, {'id': '42', 'value': 1.0}, {'id': '43', 'value': 1.0}, {'id': '44', 'value': 1.0}, {'id': '45', 'value': 1.0}, {'id': '46', 'value': 1.0}, {'id': '47', 'value': 1.0}, {'id': '48', 'value': 1.0}, {'id': '49', 'value': 1.0}, {'id': '50', 'value': 1.0}, {'id': '51', 'value': 1.0}, {'id': '52', 'value': 1.0}, {'id': '53', 'value': 1.0}, {'id': '54', 'value': 1.0}, {'id': '55', 'value': 1.0}, {'id': '56', 'value': 1.0}, {'id': '57', 'value': 1.0}, {'id': '58', 'value': 1.0}, {'id': '59', 'value': 1.0}, {'id': '60', 'value': 1.0}, {'id': '61', 'value': 1.0}, {'id': '62', 'value': 1.0}, {'id': '63', 'value': 1.0}, {'id': '64', 'value': 1.0}, {'id': '65', 'value': 1.0}, {'id': '66', 'value': 1.0}, {'id': '67', 'value': 1.0}, {'id': '68', 'value': 1.0}, {'id': '69', 'value': 1.0}, {'id': '70', 'value': 1.0}, {'id': '71', 'value': 1.0}, {'id': '72', 'value': 1.0}, {'id': '73', 'value': 1.0}, {'id': '74', 'value': 1.0}, {'id': '75', 'value': 1.0}, {'id': '76', 'value': 1.0}, {'id': '77', 'value': 1.0}, {'id': '78', 'value': 1.0}, {'id': '79', 'value': 1.0}, {'id': '80', 'value': 1.0}, {'id': '81', 'value': 1.0}, {'id': '82', 'value': 1.0}, {'id': '83', 'value': 1.0}, {'id': '84', 'value': 1.0}, {'id': '85', 'value': 1.0}, {'id': '86', 'value': 1.0}, {'id': '87', 'value': 1.0}, {'id': '88', 'value': 1.0}, {'id': '89', 'value': 1.0}, {'id': '90', 'value': 1.0}, {'id': '91', 'value': 1.0}, {'id': '92', 'value': 1.0}, {'id': '93', 'value': 1.0}, {'id': '94', 'value': 1.0}, {'id': '95', 'value': 1.0}, {'id': '96', 'value': 1.0}, {'id': '97', 'value': 1.0}, {'id': '98', 'value': 1.0}, {'id': '99', 'value': 1.0}, {'id': '100', 'value': 1.0}, {'id': '101', 'value': 1.0}, {'id': '102', 'value': 1.0}, {'id': '103', 'value': 1.0}, {'id': '104', 'value': 1.0}, {'id': '105', 'value': 1.0}, {'id': '106', 'value': 1.0}, {'id': '107', 'value': 1.0}, {'id': '108', 'value': 1.0}, {'id': '109', 'value': 1.0}, {'id': '110', 'value': 1.0}, {'id': '111', 'value': 1.0}, {'id': '112', 'value': 1.0}, {'id': '113', 'value': 1.0}, {'id': '114', 'value': 1.0}, {'id': '115', 'value': 1.0}, {'id': '116', 'value': 1.0}, {'id': '117', 'value': 1.0}, {'id': '118', 'value': 1.0}, {'id': '119', 'value': 1.0}, {'id': '120', 'value': 1.0}, {'id': '121', 'value': 1.0}, {'id': '122', 'value': 1.0}, {'id': '123', 'value': 1.0}, {'id': '124', 'value': 1.0}, {'id': '125', 'value': 1.0}, {'id': '126', 'value': 1.0}, {'id': '127', 'value': 1.0}], 'src.evaluation.future.stages.oracle_calls.OracleCalls': [{'id': '0', 'value': 129}, {'id': '1', 'value': 129}, {'id': '2', 'value': 129}, {'id': '3', 'value': 129}, {'id': '4', 'value': 129}, {'id': '5', 'value': 129}, {'id': '6', 'value': 129}, {'id': '7', 'value': 129}, {'id': '8', 'value': 129}, {'id': '9', 'value': 129}, {'id': '10', 'value': 129}, {'id': '11', 'value': 129}, {'id': '12', 'value': 129}, {'id': '13', 'value': 129}, {'id': '14', 'value': 129}, {'id': '15', 'value': 129}, {'id': '16', 'value': 129}, {'id': '17', 'value': 129}, {'id': '18', 'value': 129}, {'id': '19', 'value': 129}, {'id': '20', 'value': 129}, {'id': '21', 'value': 129}, {'id': '22', 'value': 129}, {'id': '23', 'value': 129}, {'id': '24', 'value': 129}, {'id': '25', 'value': 129}, {'id': '26', 'value': 129}, {'id': '27', 'value': 129}, {'id': '28', 'value': 129}, {'id': '29', 'value': 129}, {'id': '30', 'value': 129}, {'id': '31', 'value': 129}, {'id': '32', 'value': 129}, {'id': '33', 'value': 129}, {'id': '34', 'value': 129}, {'id': '35', 'value': 129}, {'id': '36', 'value': 129}, {'id': '37', 'value': 129}, {'id': '38', 'value': 129}, {'id': '39', 'value': 129}, {'id': '40', 'value': 129}, {'id': '41', 'value': 129}, {'id': '42', 'value': 129}, {'id': '43', 'value': 129}, {'id': '44', 'value': 129}, {'id': '45', 'value': 129}, {'id': '46', 'value': 129}, {'id': '47', 'value': 129}, {'id': '48', 'value': 129}, {'id': '49', 'value': 129}, {'id': '50', 'value': 129}, {'id': '51', 'value': 129}, {'id': '52', 'value': 129}, {'id': '53', 'value': 129}, {'id': '54', 'value': 129}, {'id': '55', 'value': 129}, {'id': '56', 'value': 129}, {'id': '57', 'value': 129}, {'id': '58', 'value': 129}, {'id': '59', 'value': 129}, {'id': '60', 'value': 129}, {'id': '61', 'value': 129}, {'id': '62', 'value': 129}, {'id': '63', 'value': 129}, {'id': '64', 'value': 129}, {'id': '65', 'value': 129}, {'id': '66', 'value': 129}, {'id': '67', 'value': 129}, {'id': '68', 'value': 129}, {'id': '69', 'value': 129}, {'id': '70', 'value': 129}, {'id': '71', 'value': 129}, {'id': '72', 'value': 129}, {'id': '73', 'value': 129}, {'id': '74', 'value': 129}, {'id': '75', 'value': 129}, {'id': '76', 'value': 129}, {'id': '77', 'value': 129}, {'id': '78', 'value': 129}, {'id': '79', 'value': 129}, {'id': '80', 'value': 129}, {'id': '81', 'value': 129}, {'id': '82', 'value': 129}, {'id': '83', 'value': 129}, {'id': '84', 'value': 129}, {'id': '85', 'value': 129}, {'id': '86', 'value': 129}, {'id': '87', 'value': 129}, {'id': '88', 'value': 129}, {'id': '89', 'value': 129}, {'id': '90', 'value': 129}, {'id': '91', 'value': 129}, {'id': '92', 'value': 129}, {'id': '93', 'value': 129}, {'id': '94', 'value': 129}, {'id': '95', 'value': 129}, {'id': '96', 'value': 129}, {'id': '97', 'value': 129}, {'id': '98', 'value': 129}, {'id': '99', 'value': 129}, {'id': '100', 'value': 129}, {'id': '101', 'value': 129}, {'id': '102', 'value': 129}, {'id': '103', 'value': 129}, {'id': '104', 'value': 129}, {'id': '105', 'value': 129}, {'id': '106', 'value': 129}, {'id': '107', 'value': 129}, {'id': '108', 'value': 129}, {'id': '109', 'value': 129}, {'id': '110', 'value': 129}, {'id': '111', 'value': 129}, {'id': '112', 'value': 129}, {'id': '113', 'value': 129}, {'id': '114', 'value': 129}, {'id': '115', 'value': 129}, {'id': '116', 'value': 129}, {'id': '117', 'value': 129}, {'id': '118', 'value': 129}, {'id': '119', 'value': 129}, {'id': '120', 'value': 129}, {'id': '121', 'value': 129}, {'id': '122', 'value': 129}, {'id': '123', 'value': 129}, {'id': '124', 'value': 129}, {'id': '125', 'value': 129}, {'id': '126', 'value': 129}, {'id': '127', 'value': 129}], 'src.evaluation.future.stages.oracle_accuracy.OracleAccuracy': [{'id': '0', 'value': 1}, {'id': '1', 'value': 1}, {'id': '2', 'value': 1}, {'id': '3', 'value': 1}, {'id': '4', 'value': 1}, {'id': '5', 'value': 1}, {'id': '6', 'value': 1}, {'id': '7', 'value': 1}, {'id': '8', 'value': 1}, {'id': '9', 'value': 1}, {'id': '10', 'value': 1}, {'id': '11', 'value': 1}, {'id': '12', 'value': 1}, {'id': '13', 'value': 1}, {'id': '14', 'value': 1}, {'id': '15', 'value': 1}, {'id': '16', 'value': 1}, {'id': '17', 'value': 1}, {'id': '18', 'value': 1}, {'id': '19', 'value': 1}, {'id': '20', 'value': 1}, {'id': '21', 'value': 1}, {'id': '22', 'value': 1}, {'id': '23', 'value': 1}, {'id': '24', 'value': 1}, {'id': '25', 'value': 1}, {'id': '26', 'value': 1}, {'id': '27', 'value': 1}, {'id': '28', 'value': 1}, {'id': '29', 'value': 1}, {'id': '30', 'value': 1}, {'id': '31', 'value': 1}, {'id': '32', 'value': 1}, {'id': '33', 'value': 1}, {'id': '34', 'value': 1}, {'id': '35', 'value': 1}, {'id': '36', 'value': 1}, {'id': '37', 'value': 1}, {'id': '38', 'value': 1}, {'id': '39', 'value': 1}, {'id': '40', 'value': 1}, {'id': '41', 'value': 1}, {'id': '42', 'value': 1}, {'id': '43', 'value': 1}, {'id': '44', 'value': 1}, {'id': '45', 'value': 1}, {'id': '46', 'value': 1}, {'id': '47', 'value': 1}, {'id': '48', 'value': 1}, {'id': '49', 'value': 1}, {'id': '50', 'value': 1}, {'id': '51', 'value': 1}, {'id': '52', 'value': 1}, {'id': '53', 'value': 1}, {'id': '54', 'value': 1}, {'id': '55', 'value': 1}, {'id': '56', 'value': 1}, {'id': '57', 'value': 1}, {'id': '58', 'value': 1}, {'id': '59', 'value': 1}, {'id': '60', 'value': 1}, {'id': '61', 'value': 1}, {'id': '62', 'value': 1}, {'id': '63', 'value': 1}, {'id': '64', 'value': 1}, {'id': '65', 'value': 1}, {'id': '66', 'value': 1}, {'id': '67', 'value': 1}, {'id': '68', 'value': 1}, {'id': '69', 'value': 1}, {'id': '70', 'value': 1}, {'id': '71', 'value': 1}, {'id': '72', 'value': 1}, {'id': '73', 'value': 1}, {'id': '74', 'value': 1}, {'id': '75', 'value': 1}, {'id': '76', 'value': 1}, {'id': '77', 'value': 1}, {'id': '78', 'value': 1}, {'id': '79', 'value': 1}, {'id': '80', 'value': 1}, {'id': '81', 'value': 1}, {'id': '82', 'value': 1}, {'id': '83', 'value': 1}, {'id': '84', 'value': 1}, {'id': '85', 'value': 1}, {'id': '86', 'value': 1}, {'id': '87', 'value': 1}, {'id': '88', 'value': 1}, {'id': '89', 'value': 1}, {'id': '90', 'value': 1}, {'id': '91', 'value': 1}, {'id': '92', 'value': 1}, {'id': '93', 'value': 1}, {'id': '94', 'value': 1}, {'id': '95', 'value': 1}, {'id': '96', 'value': 1}, {'id': '97', 'value': 1}, {'id': '98', 'value': 1}, {'id': '99', 'value': 1}, {'id': '100', 'value': 1}, {'id': '101', 'value': 1}, {'id': '102', 'value': 1}, {'id': '103', 'value': 1}, {'id': '104', 'value': 1}, {'id': '105', 'value': 1}, {'id': '106', 'value': 1}, {'id': '107', 'value': 1}, {'id': '108', 'value': 1}, {'id': '109', 'value': 1}, {'id': '110', 'value': 1}, {'id': '111', 'value': 1}, {'id': '112', 'value': 1}, {'id': '113', 'value': 1}, {'id': '114', 'value': 1}, {'id': '115', 'value': 1}, {'id': '116', 'value': 1}, {'id': '117', 'value': 1}, {'id': '118', 'value': 1}, {'id': '119', 'value': 1}, {'id': '120', 'value': 1}, {'id': '121', 'value': 1}, {'id': '122', 'value': 1}, {'id': '123', 'value': 1}, {'id': '124', 'value': 1}, {'id': '125', 'value': 1}, {'id': '126', 'value': 1}, {'id': '127', 'value': 1}], 'src.evaluation.future.stages.sparsity.Sparsity': [{'id': '0', 'value': 0.4444444444444444}, {'id': '1', 'value': 0.4444444444444444}, {'id': '2', 'value': 0.3333333333333333}, {'id': '3', 'value': 0.4444444444444444}, {'id': '4', 'value': 0.4444444444444444}, {'id': '5', 'value': 0.3333333333333333}, {'id': '6', 'value': 0.3333333333333333}, {'id': '7', 'value': 0.3333333333333333}, {'id': '8', 'value': 0.4444444444444444}, {'id': '9', 'value': 0.3333333333333333}, {'id': '10', 'value': 0.4444444444444444}, {'id': '11', 'value': 0.3333333333333333}, {'id': '12', 'value': 0.4444444444444444}, {'id': '13', 'value': 0.4444444444444444}, {'id': '14', 'value': 0.4444444444444444}, {'id': '15', 'value': 0.4444444444444444}, {'id': '16', 'value': 0.4444444444444444}, {'id': '17', 'value': 0.4444444444444444}, {'id': '18', 'value': 0.4444444444444444}, {'id': '19', 'value': 0.4444444444444444}, {'id': '20', 'value': 0.4444444444444444}, {'id': '21', 'value': 0.4444444444444444}, {'id': '22', 'value': 0.3333333333333333}, {'id': '23', 'value': 0.3333333333333333}, {'id': '24', 'value': 0.4444444444444444}, {'id': '25', 'value': 0.4444444444444444}, {'id': '26', 'value': 0.3333333333333333}, {'id': '27', 'value': 0.3333333333333333}, {'id': '28', 'value': 0.3333333333333333}, {'id': '29', 'value': 0.4444444444444444}, {'id': '30', 'value': 0.3333333333333333}, {'id': '31', 'value': 0.3333333333333333}, {'id': '32', 'value': 0.4444444444444444}, {'id': '33', 'value': 0.4444444444444444}, {'id': '34', 'value': 0.3333333333333333}, {'id': '35', 'value': 0.3333333333333333}, {'id': '36', 'value': 0.3333333333333333}, {'id': '37', 'value': 0.4444444444444444}, {'id': '38', 'value': 0.3333333333333333}, {'id': '39', 'value': 0.4444444444444444}, {'id': '40', 'value': 0.4444444444444444}, {'id': '41', 'value': 0.3333333333333333}, {'id': '42', 'value': 0.4444444444444444}, {'id': '43', 'value': 0.4444444444444444}, {'id': '44', 'value': 0.4444444444444444}, {'id': '45', 'value': 0.4444444444444444}, {'id': '46', 'value': 0.4444444444444444}, {'id': '47', 'value': 0.4444444444444444}, {'id': '48', 'value': 0.3333333333333333}, {'id': '49', 'value': 0.4444444444444444}, {'id': '50', 'value': 0.3333333333333333}, {'id': '51', 'value': 0.4444444444444444}, {'id': '52', 'value': 0.4444444444444444}, {'id': '53', 'value': 0.3333333333333333}, {'id': '54', 'value': 0.3333333333333333}, {'id': '55', 'value': 0.4444444444444444}, {'id': '56', 'value': 0.4444444444444444}, {'id': '57', 'value': 0.4444444444444444}, {'id': '58', 'value': 0.3333333333333333}, {'id': '59', 'value': 0.3333333333333333}, {'id': '60', 'value': 0.3333333333333333}, {'id': '61', 'value': 0.4444444444444444}, {'id': '62', 'value': 0.3333333333333333}, {'id': '63', 'value': 0.4444444444444444}, {'id': '64', 'value': 0.3333333333333333}, {'id': '65', 'value': 0.3333333333333333}, {'id': '66', 'value': 0.3333333333333333}, {'id': '67', 'value': 0.3333333333333333}, {'id': '68', 'value': 0.3333333333333333}, {'id': '69', 'value': 0.3333333333333333}, {'id': '70', 'value': 0.4444444444444444}, {'id': '71', 'value': 0.4444444444444444}, {'id': '72', 'value': 0.4444444444444444}, {'id': '73', 'value': 0.3333333333333333}, {'id': '74', 'value': 0.3333333333333333}, {'id': '75', 'value': 0.4444444444444444}, {'id': '76', 'value': 0.3333333333333333}, {'id': '77', 'value': 0.4444444444444444}, {'id': '78', 'value': 0.3333333333333333}, {'id': '79', 'value': 0.4444444444444444}, {'id': '80', 'value': 0.4444444444444444}, {'id': '81', 'value': 0.3333333333333333}, {'id': '82', 'value': 0.4444444444444444}, {'id': '83', 'value': 0.4444444444444444}, {'id': '84', 'value': 0.4444444444444444}, {'id': '85', 'value': 0.4444444444444444}, {'id': '86', 'value': 0.3333333333333333}, {'id': '87', 'value': 0.4444444444444444}, {'id': '88', 'value': 0.4444444444444444}, {'id': '89', 'value': 0.3333333333333333}, {'id': '90', 'value': 0.4444444444444444}, {'id': '91', 'value': 0.4444444444444444}, {'id': '92', 'value': 0.4444444444444444}, {'id': '93', 'value': 0.4444444444444444}, {'id': '94', 'value': 0.3333333333333333}, {'id': '95', 'value': 0.4444444444444444}, {'id': '96', 'value': 0.4444444444444444}, {'id': '97', 'value': 0.3333333333333333}, {'id': '98', 'value': 0.4444444444444444}, {'id': '99', 'value': 0.4444444444444444}, {'id': '100', 'value': 0.4444444444444444}, {'id': '101', 'value': 0.4444444444444444}, {'id': '102', 'value': 0.3333333333333333}, {'id': '103', 'value': 0.3333333333333333}, {'id': '104', 'value': 0.4444444444444444}, {'id': '105', 'value': 0.4444444444444444}, {'id': '106', 'value': 0.4444444444444444}, {'id': '107', 'value': 0.3333333333333333}, {'id': '108', 'value': 0.3333333333333333}, {'id': '109', 'value': 0.4444444444444444}, {'id': '110', 'value': 0.4444444444444444}, {'id': '111', 'value': 0.4444444444444444}, {'id': '112', 'value': 0.4444444444444444}, {'id': '113', 'value': 0.4444444444444444}, {'id': '114', 'value': 0.4444444444444444}, {'id': '115', 'value': 0.4444444444444444}, {'id': '116', 'value': 0.3333333333333333}, {'id': '117', 'value': 0.4444444444444444}, {'id': '118', 'value': 0.3333333333333333}, {'id': '119', 'value': 0.4444444444444444}, {'id': '120', 'value': 0.3333333333333333}, {'id': '121', 'value': 0.4444444444444444}, {'id': '122', 'value': 0.4444444444444444}, {'id': '123', 'value': 0.3333333333333333}, {'id': '124', 'value': 0.4444444444444444}, {'id': '125', 'value': 0.4444444444444444}, {'id': '126', 'value': 0.4444444444444444}, {'id': '127', 'value': 0.3333333333333333}], 'src.evaluation.future.stages.fidelity.Fidelity': [{'id': '0', 'value': 1.0}, {'id': '1', 'value': 1.0}, {'id': '2', 'value': 1.0}, {'id': '3', 'value': 1.0}, {'id': '4', 'value': 1.0}, {'id': '5', 'value': 1.0}, {'id': '6', 'value': 1.0}, {'id': '7', 'value': 1.0}, {'id': '8', 'value': 1.0}, {'id': '9', 'value': 1.0}, {'id': '10', 'value': 1.0}, {'id': '11', 'value': 1.0}, {'id': '12', 'value': 1.0}, {'id': '13', 'value': 1.0}, {'id': '14', 'value': 1.0}, {'id': '15', 'value': 1.0}, {'id': '16', 'value': 1.0}, {'id': '17', 'value': 1.0}, {'id': '18', 'value': 1.0}, {'id': '19', 'value': 1.0}, {'id': '20', 'value': 1.0}, {'id': '21', 'value': 1.0}, {'id': '22', 'value': 1.0}, {'id': '23', 'value': 1.0}, {'id': '24', 'value': 1.0}, {'id': '25', 'value': 1.0}, {'id': '26', 'value': 1.0}, {'id': '27', 'value': 1.0}, {'id': '28', 'value': 1.0}, {'id': '29', 'value': 1.0}, {'id': '30', 'value': 1.0}, {'id': '31', 'value': 1.0}, {'id': '32', 'value': 1.0}, {'id': '33', 'value': 1.0}, {'id': '34', 'value': 1.0}, {'id': '35', 'value': 1.0}, {'id': '36', 'value': 1.0}, {'id': '37', 'value': 1.0}, {'id': '38', 'value': 1.0}, {'id': '39', 'value': 1.0}, {'id': '40', 'value': 1.0}, {'id': '41', 'value': 1.0}, {'id': '42', 'value': 1.0}, {'id': '43', 'value': 1.0}, {'id': '44', 'value': 1.0}, {'id': '45', 'value': 1.0}, {'id': '46', 'value': 1.0}, {'id': '47', 'value': 1.0}, {'id': '48', 'value': 1.0}, {'id': '49', 'value': 1.0}, {'id': '50', 'value': 1.0}, {'id': '51', 'value': 1.0}, {'id': '52', 'value': 1.0}, {'id': '53', 'value': 1.0}, {'id': '54', 'value': 1.0}, {'id': '55', 'value': 1.0}, {'id': '56', 'value': 1.0}, {'id': '57', 'value': 1.0}, {'id': '58', 'value': 1.0}, {'id': '59', 'value': 1.0}, {'id': '60', 'value': 1.0}, {'id': '61', 'value': 1.0}, {'id': '62', 'value': 1.0}, {'id': '63', 'value': 1.0}, {'id': '64', 'value': 1.0}, {'id': '65', 'value': 1.0}, {'id': '66', 'value': 1.0}, {'id': '67', 'value': 1.0}, {'id': '68', 'value': 1.0}, {'id': '69', 'value': 1.0}, {'id': '70', 'value': 1.0}, {'id': '71', 'value': 1.0}, {'id': '72', 'value': 1.0}, {'id': '73', 'value': 1.0}, {'id': '74', 'value': 1.0}, {'id': '75', 'value': 1.0}, {'id': '76', 'value': 1.0}, {'id': '77', 'value': 1.0}, {'id': '78', 'value': 1.0}, {'id': '79', 'value': 1.0}, {'id': '80', 'value': 1.0}, {'id': '81', 'value': 1.0}, {'id': '82', 'value': 1.0}, {'id': '83', 'value': 1.0}, {'id': '84', 'value': 1.0}, {'id': '85', 'value': 1.0}, {'id': '86', 'value': 1.0}, {'id': '87', 'value': 1.0}, {'id': '88', 'value': 1.0}, {'id': '89', 'value': 1.0}, {'id': '90', 'value': 1.0}, {'id': '91', 'value': 1.0}, {'id': '92', 'value': 1.0}, {'id': '93', 'value': 1.0}, {'id': '94', 'value': 1.0}, {'id': '95', 'value': 1.0}, {'id': '96', 'value': 1.0}, {'id': '97', 'value': 1.0}, {'id': '98', 'value': 1.0}, {'id': '99', 'value': 1.0}, {'id': '100', 'value': 1.0}, {'id': '101', 'value': 1.0}, {'id': '102', 'value': 1.0}, {'id': '103', 'value': 1.0}, {'id': '104', 'value': 1.0}, {'id': '105', 'value': 1.0}, {'id': '106', 'value': 1.0}, {'id': '107', 'value': 1.0}, {'id': '108', 'value': 1.0}, {'id': '109', 'value': 1.0}, {'id': '110', 'value': 1.0}, {'id': '111', 'value': 1.0}, {'id': '112', 'value': 1.0}, {'id': '113', 'value': 1.0}, {'id': '114', 'value': 1.0}, {'id': '115', 'value': 1.0}, {'id': '116', 'value': 1.0}, {'id': '117', 'value': 1.0}, {'id': '118', 'value': 1.0}, {'id': '119', 'value': 1.0}, {'id': '120', 'value': 1.0}, {'id': '121', 'value': 1.0}, {'id': '122', 'value': 1.0}, {'id': '123', 'value': 1.0}, {'id': '124', 'value': 1.0}, {'id': '125', 'value': 1.0}, {'id': '126', 'value': 1.0}, {'id': '127', 'value': 1.0}], 'src.evaluation.future.stages.instability.Instability': [{'id': '0', 'value': 0}, {'id': '1', 'value': 0}, {'id': '2', 'value': 0}, {'id': '3', 'value': 0}, {'id': '4', 'value': 0}, {'id': '5', 'value': 0}, {'id': '6', 'value': 0}, {'id': '7', 'value': 0}, {'id': '8', 'value': 0}, {'id': '9', 'value': 0}, {'id': '10', 'value': 0}, {'id': '11', 'value': 0}, {'id': '12', 'value': 0}, {'id': '13', 'value': 0}, {'id': '14', 'value': 0}, {'id': '15', 'value': 0}, {'id': '16', 'value': 0}, {'id': '17', 'value': 0}, {'id': '18', 'value': 0}, {'id': '19', 'value': 0}, {'id': '20', 'value': 0}, {'id': '21', 'value': 0}, {'id': '22', 'value': 0}, {'id': '23', 'value': 0}, {'id': '24', 'value': 0}, {'id': '25', 'value': 0}, {'id': '26', 'value': 0}, {'id': '27', 'value': 0}, {'id': '28', 'value': 0}, {'id': '29', 'value': 0}, {'id': '30', 'value': 0}, {'id': '31', 'value': 0}, {'id': '32', 'value': 0}, {'id': '33', 'value': 0}, {'id': '34', 'value': 0}, {'id': '35', 'value': 0}, {'id': '36', 'value': 0}, {'id': '37', 'value': 0}, {'id': '38', 'value': 0}, {'id': '39', 'value': 0}, {'id': '40', 'value': 0}, {'id': '41', 'value': 0}, {'id': '42', 'value': 0}, {'id': '43', 'value': 0}, {'id': '44', 'value': 0}, {'id': '45', 'value': 0}, {'id': '46', 'value': 0}, {'id': '47', 'value': 0}, {'id': '48', 'value': 0}, {'id': '49', 'value': 0}, {'id': '50', 'value': 0}, {'id': '51', 'value': 0}, {'id': '52', 'value': 0}, {'id': '53', 'value': 0}, {'id': '54', 'value': 0}, {'id': '55', 'value': 0}, {'id': '56', 'value': 0}, {'id': '57', 'value': 0}, {'id': '58', 'value': 0}, {'id': '59', 'value': 0}, {'id': '60', 'value': 0}, {'id': '61', 'value': 0}, {'id': '62', 'value': 0}, {'id': '63', 'value': 0}, {'id': '64', 'value': 0}, {'id': '65', 'value': 0}, {'id': '66', 'value': 0}, {'id': '67', 'value': 0}, {'id': '68', 'value': 0}, {'id': '69', 'value': 0}, {'id': '70', 'value': 0}, {'id': '71', 'value': 0}, {'id': '72', 'value': 0}, {'id': '73', 'value': 0}, {'id': '74', 'value': 0}, {'id': '75', 'value': 0}, {'id': '76', 'value': 0}, {'id': '77', 'value': 0}, {'id': '78', 'value': 0}, {'id': '79', 'value': 0}, {'id': '80', 'value': 0}, {'id': '81', 'value': 0}, {'id': '82', 'value': 0}, {'id': '83', 'value': 0}, {'id': '84', 'value': 0}, {'id': '85', 'value': 0}, {'id': '86', 'value': 0}, {'id': '87', 'value': 0}, {'id': '88', 'value': 0}, {'id': '89', 'value': 0}, {'id': '90', 'value': 0}, {'id': '91', 'value': 0}, {'id': '92', 'value': 0}, {'id': '93', 'value': 0}, {'id': '94', 'value': 0}, {'id': '95', 'value': 0}, {'id': '96', 'value': 0}, {'id': '97', 'value': 0}, {'id': '98', 'value': 0}, {'id': '99', 'value': 0}, {'id': '100', 'value': 0}, {'id': '101', 'value': 0}, {'id': '102', 'value': 0}, {'id': '103', 'value': 0}, {'id': '104', 'value': 0}, {'id': '105', 'value': 0}, {'id': '106', 'value': 0}, {'id': '107', 'value': 0}, {'id': '108', 'value': 0}, {'id': '109', 'value': 0}, {'id': '110', 'value': 0}, {'id': '111', 'value': 0}, {'id': '112', 'value': 0}, {'id': '113', 'value': 0}, {'id': '114', 'value': 0}, {'id': '115', 'value': 0}, {'id': '116', 'value': 0}, {'id': '117', 'value': 0}, {'id': '118', 'value': 0}, {'id': '119', 'value': 0}, {'id': '120', 'value': 0}, {'id': '121', 'value': 0}, {'id': '122', 'value': 0}, {'id': '123', 'value': 0}, {'id': '124', 'value': 0}, {'id': '125', 'value': 0}, {'id': '126', 'value': 0}, {'id': '127', 'value': 0}]}\n"
     ]
    }
   ],
   "source": [
    "config_path = os.path.join(module_path, 'lab', 'config', config_f_name)\n",
    "runno = 1\n",
    "    \n",
    "print(f\"Generating context for: {config_path}\")\n",
    "context = Context.get_context(config_path)\n",
    "context.run_number = runno\n",
    "\n",
    "context.logger.info(f\"Executing: {context.config_file} Run: {context.run_number}\")\n",
    "context.logger.info(\"Creating the evaluation manager....................................\")\n",
    "\n",
    "context.logger.info(\"Creating the evaluators......................................................\")\n",
    "eval_manager = EvaluatorManager(context)\n",
    "\n",
    "context.logger.info(\n",
    "    \"Evaluating the explainers.............................................................\"\n",
    ")\n",
    "eval_manager.evaluate()"
   ]
  },
  {
   "cell_type": "markdown",
   "metadata": {},
   "source": [
    "### Aggregating the stats"
   ]
  },
  {
   "cell_type": "code",
   "execution_count": 6,
   "metadata": {},
   "outputs": [
    {
     "data": {
      "text/html": [
       "<div>\n",
       "<style scoped>\n",
       "    .dataframe tbody tr th:only-of-type {\n",
       "        vertical-align: middle;\n",
       "    }\n",
       "\n",
       "    .dataframe tbody tr th {\n",
       "        vertical-align: top;\n",
       "    }\n",
       "\n",
       "    .dataframe thead th {\n",
       "        text-align: right;\n",
       "    }\n",
       "</style>\n",
       "<table border=\"1\" class=\"dataframe\">\n",
       "  <thead>\n",
       "    <tr style=\"text-align: right;\">\n",
       "      <th></th>\n",
       "      <th>scope</th>\n",
       "      <th>dataset</th>\n",
       "      <th>oracle</th>\n",
       "      <th>explainer</th>\n",
       "      <th>Runtime</th>\n",
       "      <th>Runtime-std</th>\n",
       "      <th>GraphEditDistance</th>\n",
       "      <th>GraphEditDistance-std</th>\n",
       "      <th>Correctness</th>\n",
       "      <th>Correctness-std</th>\n",
       "      <th>OracleCalls</th>\n",
       "      <th>OracleCalls-std</th>\n",
       "      <th>OracleAccuracy</th>\n",
       "      <th>OracleAccuracy-std</th>\n",
       "      <th>Sparsity</th>\n",
       "      <th>Sparsity-std</th>\n",
       "      <th>Fidelity</th>\n",
       "      <th>Fidelity-std</th>\n",
       "      <th>Instability</th>\n",
       "      <th>Instability-std</th>\n",
       "    </tr>\n",
       "  </thead>\n",
       "  <tbody>\n",
       "    <tr>\n",
       "      <th>0</th>\n",
       "      <td>demo-ecml-pkdd</td>\n",
       "      <td>TreeCyclesRand-266bb3721206805597afc8c4184fe0ab</td>\n",
       "      <td>TreeCyclesOracle-8f8e216deff127e0218ff13e1490c1a2</td>\n",
       "      <td>ObliviousBidirectionalSearchExplainer</td>\n",
       "      <td>0.379663</td>\n",
       "      <td>0.0</td>\n",
       "      <td>1.250000</td>\n",
       "      <td>0.0</td>\n",
       "      <td>0.923077</td>\n",
       "      <td>0.0</td>\n",
       "      <td>279.538462</td>\n",
       "      <td>0.0</td>\n",
       "      <td>1.0</td>\n",
       "      <td>0.0</td>\n",
       "      <td>0.029765</td>\n",
       "      <td>0.0</td>\n",
       "      <td>0.923077</td>\n",
       "      <td>0.0</td>\n",
       "      <td>1.022549</td>\n",
       "      <td>0.0</td>\n",
       "    </tr>\n",
       "    <tr>\n",
       "      <th>1</th>\n",
       "      <td>demo-ecml-pkdd</td>\n",
       "      <td>TringlesSquares-f7b2a0a3e3f64150c902bc187d23ef0b</td>\n",
       "      <td>TrianglesSquaresOracle-1f8eef29db5fcc0d522efb2...</td>\n",
       "      <td>DCESExplainer</td>\n",
       "      <td>0.020725</td>\n",
       "      <td>0.0</td>\n",
       "      <td>2.000000</td>\n",
       "      <td>0.0</td>\n",
       "      <td>1.000000</td>\n",
       "      <td>0.0</td>\n",
       "      <td>129.000000</td>\n",
       "      <td>0.0</td>\n",
       "      <td>1.0</td>\n",
       "      <td>0.0</td>\n",
       "      <td>0.401042</td>\n",
       "      <td>0.0</td>\n",
       "      <td>1.000000</td>\n",
       "      <td>0.0</td>\n",
       "      <td>0.000000</td>\n",
       "      <td>0.0</td>\n",
       "    </tr>\n",
       "    <tr>\n",
       "      <th>2</th>\n",
       "      <td>xai-ens</td>\n",
       "      <td>TreeCyclesRand-266bb3721206805597afc8c4184fe0ab</td>\n",
       "      <td>TreeCyclesOracle-8f8e216deff127e0218ff13e1490c1a2</td>\n",
       "      <td>ExplanationBidirectionalSearch</td>\n",
       "      <td>5.706859</td>\n",
       "      <td>0.0</td>\n",
       "      <td>1.230769</td>\n",
       "      <td>0.0</td>\n",
       "      <td>1.000000</td>\n",
       "      <td>0.0</td>\n",
       "      <td>1621.230769</td>\n",
       "      <td>0.0</td>\n",
       "      <td>1.0</td>\n",
       "      <td>0.0</td>\n",
       "      <td>0.029307</td>\n",
       "      <td>0.0</td>\n",
       "      <td>1.000000</td>\n",
       "      <td>0.0</td>\n",
       "      <td>1.016412</td>\n",
       "      <td>0.0</td>\n",
       "    </tr>\n",
       "    <tr>\n",
       "      <th>3</th>\n",
       "      <td>xai-ens</td>\n",
       "      <td>TreeCyclesRand-266bb3721206805597afc8c4184fe0ab</td>\n",
       "      <td>TreeCyclesOracle-8f8e216deff127e0218ff13e1490c1a2</td>\n",
       "      <td>ObliviousBidirectionalSearchExplainer</td>\n",
       "      <td>0.029799</td>\n",
       "      <td>0.0</td>\n",
       "      <td>1.461538</td>\n",
       "      <td>0.0</td>\n",
       "      <td>1.000000</td>\n",
       "      <td>0.0</td>\n",
       "      <td>68.461538</td>\n",
       "      <td>0.0</td>\n",
       "      <td>1.0</td>\n",
       "      <td>0.0</td>\n",
       "      <td>0.034780</td>\n",
       "      <td>0.0</td>\n",
       "      <td>1.000000</td>\n",
       "      <td>0.0</td>\n",
       "      <td>1.017029</td>\n",
       "      <td>0.0</td>\n",
       "    </tr>\n",
       "  </tbody>\n",
       "</table>\n",
       "</div>"
      ],
      "text/plain": [
       "            scope                                           dataset  \\\n",
       "0  demo-ecml-pkdd   TreeCyclesRand-266bb3721206805597afc8c4184fe0ab   \n",
       "1  demo-ecml-pkdd  TringlesSquares-f7b2a0a3e3f64150c902bc187d23ef0b   \n",
       "2         xai-ens   TreeCyclesRand-266bb3721206805597afc8c4184fe0ab   \n",
       "3         xai-ens   TreeCyclesRand-266bb3721206805597afc8c4184fe0ab   \n",
       "\n",
       "                                              oracle  \\\n",
       "0  TreeCyclesOracle-8f8e216deff127e0218ff13e1490c1a2   \n",
       "1  TrianglesSquaresOracle-1f8eef29db5fcc0d522efb2...   \n",
       "2  TreeCyclesOracle-8f8e216deff127e0218ff13e1490c1a2   \n",
       "3  TreeCyclesOracle-8f8e216deff127e0218ff13e1490c1a2   \n",
       "\n",
       "                               explainer   Runtime  Runtime-std  \\\n",
       "0  ObliviousBidirectionalSearchExplainer  0.379663          0.0   \n",
       "1                          DCESExplainer  0.020725          0.0   \n",
       "2         ExplanationBidirectionalSearch  5.706859          0.0   \n",
       "3  ObliviousBidirectionalSearchExplainer  0.029799          0.0   \n",
       "\n",
       "   GraphEditDistance  GraphEditDistance-std  Correctness  Correctness-std  \\\n",
       "0           1.250000                    0.0     0.923077              0.0   \n",
       "1           2.000000                    0.0     1.000000              0.0   \n",
       "2           1.230769                    0.0     1.000000              0.0   \n",
       "3           1.461538                    0.0     1.000000              0.0   \n",
       "\n",
       "   OracleCalls  OracleCalls-std  OracleAccuracy  OracleAccuracy-std  Sparsity  \\\n",
       "0   279.538462              0.0             1.0                 0.0  0.029765   \n",
       "1   129.000000              0.0             1.0                 0.0  0.401042   \n",
       "2  1621.230769              0.0             1.0                 0.0  0.029307   \n",
       "3    68.461538              0.0             1.0                 0.0  0.034780   \n",
       "\n",
       "   Sparsity-std  Fidelity  Fidelity-std  Instability  Instability-std  \n",
       "0           0.0  0.923077           0.0     1.022549              0.0  \n",
       "1           0.0  1.000000           0.0     0.000000              0.0  \n",
       "2           0.0  1.000000           0.0     1.016412              0.0  \n",
       "3           0.0  1.000000           0.0     1.017029              0.0  "
      ]
     },
     "execution_count": 6,
     "metadata": {},
     "output_type": "execute_result"
    }
   ],
   "source": [
    "results_path = os.path.join(module_path, 'lab', 'output', 'results')\n",
    "stats_file_path = os.path.join(module_path, 'lab', 'stats', 'results.csv')\n",
    "res = data_analyzer.create_aggregated_dataframe(results_path)\n",
    "res.to_csv(stats_file_path)\n",
    "res"
   ]
  },
  {
   "cell_type": "markdown",
   "metadata": {},
   "source": [
    "### Visualizing individual instances"
   ]
  },
  {
   "cell_type": "code",
   "execution_count": 7,
   "metadata": {},
   "outputs": [
    {
     "data": {
      "text/plain": [
       "<src.evaluation.future.evaluator.Evaluator at 0x2aa65efd400>"
      ]
     },
     "execution_count": 7,
     "metadata": {},
     "output_type": "execute_result"
    }
   ],
   "source": [
    "evaluator = eval_manager.evaluators[0]\n",
    "evaluator"
   ]
  },
  {
   "cell_type": "markdown",
   "metadata": {},
   "source": [
    "#### Square Instance"
   ]
  },
  {
   "cell_type": "code",
   "execution_count": 8,
   "metadata": {},
   "outputs": [],
   "source": [
    "instance_id = 2\n",
    "\n",
    "exp = evaluator.explanations[instance_id]\n",
    "og_inst = exp.input_instance\n",
    "cf_inst = exp.counterfactual_instances[0]"
   ]
  },
  {
   "cell_type": "code",
   "execution_count": 9,
   "metadata": {},
   "outputs": [
    {
     "name": "stdout",
     "output_type": "stream",
     "text": [
      "common nodes: [0, 1, 2]\n",
      "common edges: [(0, 1), (1, 2)]\n",
      "added nodes: []\n",
      "added edges: [(0, 2)]\n",
      "removed nodes: [3]\n",
      "removed edges: [(0, 3), (2, 3)]\n"
     ]
    }
   ],
   "source": [
    "changes = data_analyzer.get_cf_changes(og_inst, cf_inst, False)\n",
    "\n",
    "for action, elements in changes.items():\n",
    "    print(f'{action}: {elements}') "
   ]
  },
  {
   "cell_type": "code",
   "execution_count": 10,
   "metadata": {},
   "outputs": [
    {
     "data": {
      "image/png": "[encoded data removed]",
      "text/plain": [
       "<Figure size 640x480 with 1 Axes>"
      ]
     },
     "metadata": {},
     "output_type": "display_data"
    }
   ],
   "source": [
    "pos = data_analyzer.draw_graph(og_inst)"
   ]
  },
  {
   "cell_type": "code",
   "execution_count": 11,
   "metadata": {},
   "outputs": [
    {
     "data": {
      "image/png": "[encoded data removed]",
      "text/plain": [
       "<Figure size 640x480 with 1 Axes>"
      ]
     },
     "metadata": {},
     "output_type": "display_data"
    }
   ],
   "source": [
    "data_analyzer.draw_counterfactual_actions(og_inst, cf_inst, position=pos)"
   ]
  },
  {
   "cell_type": "markdown",
   "metadata": {},
   "source": [
    "#### Triange instance"
   ]
  },
  {
   "cell_type": "code",
   "execution_count": 12,
   "metadata": {},
   "outputs": [],
   "source": [
    "instance_id = 8\n",
    "\n",
    "exp = evaluator.explanations[instance_id]\n",
    "og_inst = exp.input_instance\n",
    "cf_inst = exp.counterfactual_instances[0]"
   ]
  },
  {
   "cell_type": "code",
   "execution_count": 13,
   "metadata": {},
   "outputs": [
    {
     "data": {
      "image/png": "[encoded data removed]",
      "text/plain": [
       "<Figure size 640x480 with 1 Axes>"
      ]
     },
     "metadata": {},
     "output_type": "display_data"
    }
   ],
   "source": [
    "pos = data_analyzer.draw_graph(og_inst)"
   ]
  },
  {
   "cell_type": "code",
   "execution_count": 14,
   "metadata": {},
   "outputs": [
    {
     "data": {
      "image/png": "[encoded data removed]",
      "text/plain": [
       "<Figure size 640x480 with 1 Axes>"
      ]
     },
     "metadata": {},
     "output_type": "display_data"
    }
   ],
   "source": [
    "data_analyzer.draw_counterfactual_actions(og_inst, cf_inst)"
   ]
  }
 ],
 "metadata": {
  "kernelspec": {
   "display_name": "XAI39",
   "language": "python",
   "name": "python3"
  },
  "language_info": {
   "codemirror_mode": {
    "name": "ipython",
    "version": 3
   },
   "file_extension": ".py",
   "mimetype": "text/x-python",
   "name": "python",
   "nbconvert_exporter": "python",
   "pygments_lexer": "ipython3",
   "version": "3.9.18"
  }
 },
 "nbformat": 4,
 "nbformat_minor": 2
}
