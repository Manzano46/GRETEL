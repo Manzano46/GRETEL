{
 "cells": [
  {
   "cell_type": "markdown",
   "metadata": {},
   "source": [
    "### Setting paths and imports"
   ]
  },
  {
   "cell_type": "code",
   "execution_count": 1,
   "metadata": {},
   "outputs": [
    {
     "data": {
      "text/plain": [
       "'/NFSHOME/mprado/AIIM/GRETEL/silver/GRETEL'"
      ]
     },
     "execution_count": 1,
     "metadata": {},
     "output_type": "execute_result"
    }
   ],
   "source": [
    "import sys\n",
    "import os\n",
    "import pandas as pd\n",
    "\n",
    "module_path = os.path.abspath(os.path.join('..'))\n",
    "sys.path.append(module_path)\n",
    "module_path"
   ]
  },
  {
   "cell_type": "code",
   "execution_count": 2,
   "metadata": {},
   "outputs": [],
   "source": [
    "os.chdir(module_path)"
   ]
  },
  {
   "cell_type": "code",
   "execution_count": 3,
   "metadata": {},
   "outputs": [],
   "source": [
    "from src.evaluation.evaluator_manager import EvaluatorManager\n",
    "# from src.evaluation.evaluator_manager_do import EvaluatorManager as PairedEvaluatorManager\n",
    "from src.evaluation.future.evaluator_manager_do import EvaluatorManager as PairedEvaluatorManager\n",
    "from src.utils.context import Context\n",
    "from src.data_analysis.future.data_analyzer import DataAnalyzer as data_analyzer "
   ]
  },
  {
   "cell_type": "markdown",
   "metadata": {},
   "source": [
    "### Choosing the desired configuration"
   ]
  },
  {
   "cell_type": "code",
   "execution_count": 5,
   "metadata": {},
   "outputs": [],
   "source": [
    "# Tree-Cycles.................................................................\n",
    "# TopSelect\n",
    "config_f_name = 'E6-TCR-128-28-0.25_GCN_Ens[DCE+OBS+iRand+RSGG]-BestSelect.jsonc'\n",
    "# Union\n",
    "# config_f_name = 'E7-TCR-128-28-0.25_GCN_Ens[DCE+OBS+iRand+RSGG]-Union.jsonc'\n",
    "# Intersection\n",
    "# config_f_name = 'E8-TCR-128-28-0.25_GCN_Ens[DCE+OBS+iRand+RSGG]-Intersection.jsonc'\n",
    "# Frequency\n",
    "# config_f_name = 'E9-TCR-128-28-0.25_GCN_Ens[DCE+OBS+iRand+RSGG]-Frequency.jsonc'\n",
    "# Random\n",
    "# config_f_name = 'E10-TCR-128-28_GCN_Ens[OBS+2xiRand+RSGG]-Rand.jsonc'\n",
    "# Bidirectional\n",
    "# config_f_name = 'E12-TCR-128-28_GCN_Ens[OBS+2xiRand+2xRSGG]-Bidirectional.jsonc'\n",
    "# Stochastic\n",
    "# config_f_name = 'E13-TCR-128-28_GCN_Ens[OBS+2xiRand+2xRSGG]-Stochastic.jsonc'\n",
    "\n",
    "# ASD........................................................................\n",
    "# TopSelect\n",
    "# config_f_name = 'E1-ASD_ASDO_Ens[DCE+OBS+iRand+RSGG]-BestSelect.jsonc'\n",
    "# Union\n",
    "# config_f_name = 'E2-ASD_ASDO_Ens[DCE+OBS+iRand+RSGG]-Union.jsonc'\n",
    "# Intersection\n",
    "# config_f_name = 'E3-ASD_ASDO_Ens[DCE+OBS+iRand+RSGG]-Intersection.jsonc'\n",
    "# Frequency\n",
    "# config_f_name = 'E4-ASD_ASDO_Ens[DCE+OBS+iRand+RSGG]-Frequency.jsonc'\n",
    "# Random\n",
    "# config_f_name = 'E5-ASD_ASDO_Ens[OBS+2xiRand+RSGG]-Rand.jsonc'\n",
    "# Bidirectional\n",
    "# config_f_name = 'E11-ASD_ASDO_Ens[OBS+2xiRand+2xRSGG]-Bidirectional.jsonc'\n"
   ]
  },
  {
   "cell_type": "markdown",
   "metadata": {},
   "source": [
    "### Evaluating the explainer"
   ]
  },
  {
   "cell_type": "code",
   "execution_count": 6,
   "metadata": {},
   "outputs": [
    {
     "name": "stdout",
     "output_type": "stream",
     "text": [
      "Generating context for: /NFSHOME/mprado/AIIM/GRETEL/silver/GRETEL/lab/config/E6-TCR-128-28-0.25_GCN_Ens[DCE+OBS+iRand+RSGG]-BestSelect.jsonc\n",
      "2024-06-05 16:26:55,-389302894 | INFO | 396205 - Executing: /NFSHOME/mprado/AIIM/GRETEL/silver/GRETEL/lab/config/E6-TCR-128-28-0.25_GCN_Ens[DCE+OBS+iRand+RSGG]-BestSelect.jsonc Run: 2\n",
      "2024-06-05 16:26:55,-389302885 | INFO | 396205 - Creating the evaluation manager....................................\n",
      "2024-06-05 16:26:55,-389302877 | INFO | 396205 - Creating the paired  evaluators.....................................\n",
      "2024-06-05 16:26:55,-389302811 | INFO | 396205 - Created: explanation_runtime\n",
      "2024-06-05 16:26:55,-389302704 | INFO | 396205 - Created: graph_edit_distance\n",
      "2024-06-05 16:26:55,-389302686 | INFO | 396205 - Created: correctness\n",
      "2024-06-05 16:26:55,-389302667 | INFO | 396205 - Created: oracle_calls\n",
      "2024-06-05 16:26:55,-389302640 | INFO | 396205 - Created: oracle_accuracy\n",
      "2024-06-05 16:26:55,-389302611 | INFO | 396205 - Created: sparsity\n",
      "2024-06-05 16:26:55,-389302593 | INFO | 396205 - Created: sparsity\n",
      "2024-06-05 16:26:55,-389302533 | INFO | 396205 - Loading: TreeCyclesRand-266bb3721206805597afc8c4184fe0ab\n",
      "2024-06-05 16:26:55,-389302495 | INFO | 396205 - Created: TreeCyclesRand-266bb3721206805597afc8c4184fe0ab\n",
      "2024-06-05 16:26:55,-389302450 | INFO | 396205 - Instantiating: src.oracle.nn.gcn.DownstreamGCN\n",
      "2024-06-05 16:26:56,-389301782 | INFO | 396205 - Instantiating: torch.optim.RMSprop\n",
      "2024-06-05 16:26:56,-389301782 | INFO | 396205 - Instantiating: torch.nn.CrossEntropyLoss\n",
      "2024-06-05 16:26:56,-389301743 | INFO | 396205 - Creating: OracleTorch-737382b5cd5d41796e7e81d9005aba02\n",
      "2024-06-05 16:26:57,-389300502 | INFO | 396205 - epoch = 0 ---> loss = 1.6287\t accuracy = 0.5469\n",
      "2024-06-05 16:26:57,-389300456 | INFO | 396205 - epoch = 1 ---> loss = 0.7342\t accuracy = 0.5781\n",
      "2024-06-05 16:26:57,-389300401 | INFO | 396205 - epoch = 2 ---> loss = 0.6948\t accuracy = 0.4844\n",
      "2024-06-05 16:26:58,-389300357 | INFO | 396205 - epoch = 3 ---> loss = 0.7093\t accuracy = 0.4844\n",
      "2024-06-05 16:26:58,-389300314 | INFO | 396205 - epoch = 4 ---> loss = 0.7035\t accuracy = 0.5469\n",
      "2024-06-05 16:26:58,-389300279 | INFO | 396205 - epoch = 5 ---> loss = 0.6887\t accuracy = 0.5547\n",
      "2024-06-05 16:26:58,-389300241 | INFO | 396205 - epoch = 6 ---> loss = 0.6849\t accuracy = 0.5469\n",
      "2024-06-05 16:26:58,-389300204 | INFO | 396205 - epoch = 7 ---> loss = 0.6891\t accuracy = 0.5547\n",
      "2024-06-05 16:26:58,-389300168 | INFO | 396205 - epoch = 8 ---> loss = 0.6734\t accuracy = 0.5469\n",
      "2024-06-05 16:26:58,-389300132 | INFO | 396205 - epoch = 9 ---> loss = 0.6884\t accuracy = 0.6172\n",
      "2024-06-05 16:26:58,-389300097 | INFO | 396205 - epoch = 10 ---> loss = 0.6637\t accuracy = 0.6484\n",
      "2024-06-05 16:26:58,-389300063 | INFO | 396205 - epoch = 11 ---> loss = 0.7033\t accuracy = 0.5000\n",
      "2024-06-05 16:26:58,-389300027 | INFO | 396205 - epoch = 12 ---> loss = 0.6615\t accuracy = 0.5625\n",
      "2024-06-05 16:26:58,-389299992 | INFO | 396205 - epoch = 13 ---> loss = 0.6514\t accuracy = 0.5469\n",
      "2024-06-05 16:26:58,-389299958 | INFO | 396205 - epoch = 14 ---> loss = 0.6442\t accuracy = 0.7656\n",
      "2024-06-05 16:26:58,-389299922 | INFO | 396205 - epoch = 15 ---> loss = 0.6345\t accuracy = 0.7969\n",
      "2024-06-05 16:26:58,-389299888 | INFO | 396205 - epoch = 16 ---> loss = 0.6417\t accuracy = 0.5469\n",
      "2024-06-05 16:26:58,-389299852 | INFO | 396205 - epoch = 17 ---> loss = 0.6069\t accuracy = 0.8203\n",
      "2024-06-05 16:26:58,-389299817 | INFO | 396205 - epoch = 18 ---> loss = 0.5921\t accuracy = 0.6953\n",
      "2024-06-05 16:26:58,-389299782 | INFO | 396205 - epoch = 19 ---> loss = 0.5915\t accuracy = 0.6406\n",
      "2024-06-05 16:26:58,-389299741 | INFO | 396205 - epoch = 20 ---> loss = 0.5576\t accuracy = 0.8125\n",
      "2024-06-05 16:26:58,-389299700 | INFO | 396205 - epoch = 21 ---> loss = 0.5503\t accuracy = 0.7500\n",
      "2024-06-05 16:26:58,-389299658 | INFO | 396205 - epoch = 22 ---> loss = 0.5143\t accuracy = 0.9219\n",
      "2024-06-05 16:26:58,-389299616 | INFO | 396205 - epoch = 23 ---> loss = 0.4940\t accuracy = 0.9219\n",
      "2024-06-05 16:26:58,-389299572 | INFO | 396205 - epoch = 24 ---> loss = 0.4731\t accuracy = 0.8984\n",
      "2024-06-05 16:26:58,-389299531 | INFO | 396205 - epoch = 25 ---> loss = 0.4453\t accuracy = 0.9375\n",
      "2024-06-05 16:26:58,-389299491 | INFO | 396205 - epoch = 26 ---> loss = 0.4432\t accuracy = 0.9062\n",
      "2024-06-05 16:26:58,-389299450 | INFO | 396205 - epoch = 27 ---> loss = 0.4327\t accuracy = 0.8594\n",
      "2024-06-05 16:26:58,-389299410 | INFO | 396205 - epoch = 28 ---> loss = 0.3835\t accuracy = 0.9766\n",
      "2024-06-05 16:26:59,-389299370 | INFO | 396205 - epoch = 29 ---> loss = 0.3719\t accuracy = 0.9453\n",
      "2024-06-05 16:26:59,-389299330 | INFO | 396205 - epoch = 30 ---> loss = 0.3756\t accuracy = 0.9141\n",
      "2024-06-05 16:26:59,-389299289 | INFO | 396205 - epoch = 31 ---> loss = 0.3378\t accuracy = 0.9688\n",
      "2024-06-05 16:26:59,-389299247 | INFO | 396205 - epoch = 32 ---> loss = 0.3046\t accuracy = 0.9766\n",
      "2024-06-05 16:26:59,-389299207 | INFO | 396205 - epoch = 33 ---> loss = 0.3293\t accuracy = 0.8984\n",
      "2024-06-05 16:26:59,-389299167 | INFO | 396205 - epoch = 34 ---> loss = 0.2691\t accuracy = 0.9766\n",
      "2024-06-05 16:26:59,-389299127 | INFO | 396205 - epoch = 35 ---> loss = 0.2894\t accuracy = 0.9297\n",
      "2024-06-05 16:26:59,-389299083 | INFO | 396205 - epoch = 36 ---> loss = 0.2472\t accuracy = 0.9844\n",
      "2024-06-05 16:26:59,-389299035 | INFO | 396205 - epoch = 37 ---> loss = 0.2273\t accuracy = 0.9688\n",
      "2024-06-05 16:26:59,-389298994 | INFO | 396205 - epoch = 38 ---> loss = 0.2227\t accuracy = 0.9688\n",
      "2024-06-05 16:26:59,-389298955 | INFO | 396205 - epoch = 39 ---> loss = 0.2263\t accuracy = 0.9297\n",
      "2024-06-05 16:26:59,-389298914 | INFO | 396205 - epoch = 40 ---> loss = 0.2079\t accuracy = 0.9766\n",
      "2024-06-05 16:26:59,-389298874 | INFO | 396205 - epoch = 41 ---> loss = 0.2043\t accuracy = 0.9688\n",
      "2024-06-05 16:26:59,-389298832 | INFO | 396205 - epoch = 42 ---> loss = 0.2306\t accuracy = 0.9453\n",
      "2024-06-05 16:26:59,-389298792 | INFO | 396205 - epoch = 43 ---> loss = 0.1955\t accuracy = 0.9688\n",
      "2024-06-05 16:26:59,-389298752 | INFO | 396205 - epoch = 44 ---> loss = 0.1662\t accuracy = 0.9844\n",
      "2024-06-05 16:26:59,-389298711 | INFO | 396205 - epoch = 45 ---> loss = 0.1785\t accuracy = 0.9844\n",
      "2024-06-05 16:26:59,-389298671 | INFO | 396205 - epoch = 46 ---> loss = 0.1552\t accuracy = 0.9609\n",
      "2024-06-05 16:26:59,-389298630 | INFO | 396205 - epoch = 47 ---> loss = 0.1568\t accuracy = 0.9766\n",
      "2024-06-05 16:26:59,-389298589 | INFO | 396205 - epoch = 48 ---> loss = 0.1611\t accuracy = 0.9844\n",
      "2024-06-05 16:26:59,-389298549 | INFO | 396205 - epoch = 49 ---> loss = 0.1859\t accuracy = 0.9531\n",
      "2024-06-05 16:26:59,-389298508 | INFO | 396205 - epoch = 50 ---> loss = 0.1380\t accuracy = 0.9766\n",
      "2024-06-05 16:26:59,-389298468 | INFO | 396205 - epoch = 51 ---> loss = 0.1292\t accuracy = 0.9844\n",
      "2024-06-05 16:26:59,-389298433 | INFO | 396205 - epoch = 52 ---> loss = 0.1300\t accuracy = 0.9844\n",
      "2024-06-05 16:27:00,-389298398 | INFO | 396205 - epoch = 53 ---> loss = 0.1161\t accuracy = 0.9922\n",
      "2024-06-05 16:27:00,-389298364 | INFO | 396205 - epoch = 54 ---> loss = 0.1385\t accuracy = 0.9609\n",
      "2024-06-05 16:27:00,-389298329 | INFO | 396205 - epoch = 55 ---> loss = 0.1227\t accuracy = 0.9922\n",
      "2024-06-05 16:27:00,-389298293 | INFO | 396205 - epoch = 56 ---> loss = 0.1092\t accuracy = 0.9844\n",
      "2024-06-05 16:27:00,-389298259 | INFO | 396205 - epoch = 57 ---> loss = 0.1112\t accuracy = 0.9766\n",
      "2024-06-05 16:27:00,-389298214 | INFO | 396205 - epoch = 58 ---> loss = 0.1058\t accuracy = 0.9844\n",
      "2024-06-05 16:27:00,-389298174 | INFO | 396205 - epoch = 59 ---> loss = 0.1025\t accuracy = 0.9922\n",
      "2024-06-05 16:27:00,-389298134 | INFO | 396205 - epoch = 60 ---> loss = 0.1170\t accuracy = 0.9844\n",
      "2024-06-05 16:27:00,-389298094 | INFO | 396205 - epoch = 61 ---> loss = 0.1019\t accuracy = 0.9844\n",
      "2024-06-05 16:27:00,-389298061 | INFO | 396205 - epoch = 62 ---> loss = 0.1018\t accuracy = 0.9844\n",
      "2024-06-05 16:27:00,-389298028 | INFO | 396205 - epoch = 63 ---> loss = 0.1089\t accuracy = 0.9844\n",
      "2024-06-05 16:27:00,-389297995 | INFO | 396205 - epoch = 64 ---> loss = 0.0927\t accuracy = 0.9922\n",
      "2024-06-05 16:27:00,-389297963 | INFO | 396205 - epoch = 65 ---> loss = 0.0985\t accuracy = 0.9844\n",
      "2024-06-05 16:27:00,-389297930 | INFO | 396205 - epoch = 66 ---> loss = 0.1091\t accuracy = 0.9688\n",
      "2024-06-05 16:27:00,-389297898 | INFO | 396205 - epoch = 67 ---> loss = 0.0927\t accuracy = 0.9844\n",
      "2024-06-05 16:27:00,-389297866 | INFO | 396205 - epoch = 68 ---> loss = 0.0862\t accuracy = 0.9922\n",
      "2024-06-05 16:27:00,-389297834 | INFO | 396205 - epoch = 69 ---> loss = 0.0866\t accuracy = 0.9922\n",
      "2024-06-05 16:27:00,-389297801 | INFO | 396205 - epoch = 70 ---> loss = 0.0920\t accuracy = 0.9844\n",
      "2024-06-05 16:27:00,-389297768 | INFO | 396205 - epoch = 71 ---> loss = 0.0885\t accuracy = 0.9922\n",
      "2024-06-05 16:27:00,-389297736 | INFO | 396205 - epoch = 72 ---> loss = 0.0986\t accuracy = 0.9844\n",
      "2024-06-05 16:27:00,-389297703 | INFO | 396205 - epoch = 73 ---> loss = 0.0932\t accuracy = 0.9844\n",
      "2024-06-05 16:27:00,-389297670 | INFO | 396205 - epoch = 74 ---> loss = 0.0844\t accuracy = 0.9844\n",
      "2024-06-05 16:27:00,-389297638 | INFO | 396205 - epoch = 75 ---> loss = 0.1123\t accuracy = 0.9766\n",
      "2024-06-05 16:27:00,-389297604 | INFO | 396205 - epoch = 76 ---> loss = 0.0786\t accuracy = 0.9844\n",
      "2024-06-05 16:27:00,-389297571 | INFO | 396205 - epoch = 77 ---> loss = 0.0844\t accuracy = 0.9922\n",
      "2024-06-05 16:27:00,-389297535 | INFO | 396205 - epoch = 78 ---> loss = 0.0804\t accuracy = 0.9844\n",
      "2024-06-05 16:27:00,-389297458 | INFO | 396205 - epoch = 79 ---> loss = 0.0890\t accuracy = 0.9844\n",
      "2024-06-05 16:27:00,-389297422 | INFO | 396205 - epoch = 80 ---> loss = 0.0805\t accuracy = 0.9922\n",
      "2024-06-05 16:27:01,-389297386 | INFO | 396205 - epoch = 81 ---> loss = 0.0730\t accuracy = 0.9844\n",
      "2024-06-05 16:27:01,-389297348 | INFO | 396205 - epoch = 82 ---> loss = 0.0718\t accuracy = 0.9844\n",
      "2024-06-05 16:27:01,-389297309 | INFO | 396205 - epoch = 83 ---> loss = 0.0870\t accuracy = 0.9766\n",
      "2024-06-05 16:27:01,-389297275 | INFO | 396205 - epoch = 84 ---> loss = 0.0718\t accuracy = 0.9844\n",
      "2024-06-05 16:27:01,-389297240 | INFO | 396205 - epoch = 85 ---> loss = 0.0804\t accuracy = 0.9844\n",
      "2024-06-05 16:27:01,-389297205 | INFO | 396205 - epoch = 86 ---> loss = 0.0987\t accuracy = 0.9844\n",
      "2024-06-05 16:27:01,-389297168 | INFO | 396205 - epoch = 87 ---> loss = 0.0675\t accuracy = 0.9922\n",
      "2024-06-05 16:27:01,-389297132 | INFO | 396205 - epoch = 88 ---> loss = 0.0719\t accuracy = 0.9844\n",
      "2024-06-05 16:27:01,-389297097 | INFO | 396205 - epoch = 89 ---> loss = 0.0702\t accuracy = 0.9922\n",
      "2024-06-05 16:27:01,-389297062 | INFO | 396205 - epoch = 90 ---> loss = 0.0689\t accuracy = 0.9844\n",
      "2024-06-05 16:27:01,-389297027 | INFO | 396205 - epoch = 91 ---> loss = 0.0801\t accuracy = 0.9922\n",
      "2024-06-05 16:27:01,-389296991 | INFO | 396205 - epoch = 92 ---> loss = 0.0741\t accuracy = 0.9844\n",
      "2024-06-05 16:27:01,-389296951 | INFO | 396205 - epoch = 93 ---> loss = 0.0669\t accuracy = 0.9922\n",
      "2024-06-05 16:27:01,-389296918 | INFO | 396205 - epoch = 94 ---> loss = 0.0674\t accuracy = 0.9922\n",
      "2024-06-05 16:27:01,-389296884 | INFO | 396205 - epoch = 95 ---> loss = 0.0753\t accuracy = 0.9844\n",
      "2024-06-05 16:27:01,-389296851 | INFO | 396205 - epoch = 96 ---> loss = 0.0734\t accuracy = 0.9844\n",
      "2024-06-05 16:27:01,-389296814 | INFO | 396205 - epoch = 97 ---> loss = 0.0647\t accuracy = 0.9922\n",
      "2024-06-05 16:27:01,-389296778 | INFO | 396205 - epoch = 98 ---> loss = 0.0609\t accuracy = 0.9844\n",
      "2024-06-05 16:27:01,-389296743 | INFO | 396205 - epoch = 99 ---> loss = 0.0609\t accuracy = 0.9922\n",
      "2024-06-05 16:27:01,-389296705 | INFO | 396205 - Test accuracy = 0.9844\n",
      "2024-06-05 16:27:01,-389296696 | INFO | 396205 - OracleTorch trained on cpu in: 5.045926570892334 secs\n",
      "2024-06-05 16:27:01,-389296680 | INFO | 396205 - Saved: OracleTorch-737382b5cd5d41796e7e81d9005aba02\n",
      "2024-06-05 16:27:01,-389296669 | INFO | 396205 - Created: OracleTorch-737382b5cd5d41796e7e81d9005aba02\n",
      "2024-06-05 16:27:01,-389296663 | INFO | 396205 - Instantiating: src.explainer.ensemble.aggregators.top_select.ExplanationTopSelect\n",
      "2024-06-05 16:27:01,-389296566 | INFO | 396205 - Instantiating: src.explainer.ensemble.aggregators.nodes.base.NodeFeatureAggregator\n",
      "2024-06-05 16:27:01,-389296565 | INFO | 396205 - Instantiating: src.explainer.ensemble.aggregators.filters.correctness.CorrectnessFilter\n",
      "2024-06-05 16:27:01,-389296564 | INFO | 396205 - Instantiating: src.utils.metrics.ged.GraphEditDistanceMetric\n",
      "2024-06-05 16:27:01,-389296564 | INFO | 396205 - Instantiating: src.explainer.search.dces.DCESExplainer\n",
      "2024-06-05 16:27:01,-389296542 | INFO | 396205 - Instantiating: src.utils.metrics.ged.GraphEditDistanceMetric\n",
      "2024-06-05 16:27:01,-389296541 | INFO | 396205 - Instantiating: src.explainer.heuristic.obs.ObliviousBidirectionalSearchExplainer\n",
      "2024-06-05 16:27:01,-389296512 | INFO | 396205 - Instantiating: src.explainer.heuristic.obs_dist.ObliviousBidirectionalDistance\n",
      "2024-06-05 16:27:01,-389296512 | INFO | 396205 - Instantiating: src.explainer.search.i_rand.IRandExplainer\n",
      "2024-06-05 16:27:01,-389296500 | INFO | 396205 - Instantiating: src.explainer.generative.rsgg.RSGG\n",
      "2024-06-05 16:27:01,-389296447 | INFO | 396205 - Instantiating: src.explainer.generative.gans.graph.model.GAN\n",
      "2024-06-05 16:27:02,-389296387 | INFO | 396205 - Instantiating: src.explainer.generative.gans.graph.res_gen.ResGenerator\n",
      "2024-06-05 16:27:02,-389296385 | INFO | 396205 - Instantiating: torch.optim.SGD\n",
      "2024-06-05 16:27:02,-389296374 | INFO | 396205 - Instantiating: src.explainer.generative.gans.graph.discriminators.SimpleDiscriminator\n",
      "2024-06-05 16:27:02,-389296373 | INFO | 396205 - Instantiating: torch.optim.SGD\n",
      "2024-06-05 16:27:02,-389296372 | INFO | 396205 - Instantiating: torch.nn.BCELoss\n",
      "2024-06-05 16:27:02,-389296343 | INFO | 396205 - Loading: GAN-807bd798c706633fe4935a015fe0a90d\n",
      "2024-06-05 16:27:02,-389296331 | INFO | 396205 - Instantiating: src.explainer.generative.gans.graph.model.GAN\n",
      "2024-06-05 16:27:02,-389296330 | INFO | 396205 - Instantiating: src.explainer.generative.gans.graph.res_gen.ResGenerator\n",
      "2024-06-05 16:27:02,-389296328 | INFO | 396205 - Instantiating: torch.optim.SGD\n",
      "2024-06-05 16:27:02,-389296327 | INFO | 396205 - Instantiating: src.explainer.generative.gans.graph.discriminators.SimpleDiscriminator\n",
      "2024-06-05 16:27:02,-389296326 | INFO | 396205 - Instantiating: torch.optim.SGD\n",
      "2024-06-05 16:27:02,-389296325 | INFO | 396205 - Instantiating: torch.nn.BCELoss\n",
      "2024-06-05 16:27:02,-389296292 | INFO | 396205 - Loading: GAN-4264416413e852d2685c0e4aa794098c\n",
      "2024-06-05 16:27:02,-389296258 | INFO | 396205 - Instantiating: src.utils.samplers.partial_order_samplers.PositiveAndNegativeEdgeSampler\n",
      "2024-06-05 16:27:02,-389296241 | INFO | 396205 - Creating: RSGG-ac602378aea6ffde93da4ac783e7aaab\n",
      "2024-06-05 16:27:02,-389296232 | INFO | 396205 - RSGG trained on cpu in: 0.00808572769165039 secs\n",
      "2024-06-05 16:27:02,-389296223 | INFO | 396205 - Saved: RSGG-ac602378aea6ffde93da4ac783e7aaab\n",
      "2024-06-05 16:27:02,-389296182 | INFO | 396205 - Creating: ExplanationTopSelect-9a1eb5ee97027a4e822e25bebac44056\n",
      "2024-06-05 16:27:02,-389296174 | INFO | 396205 - ExplainerEnsemble trained in: 0.007947683334350586 secs\n",
      "2024-06-05 16:27:02,-389296162 | INFO | 396205 - Saved: ExplanationTopSelect-9a1eb5ee97027a4e822e25bebac44056\n",
      "2024-06-05 16:27:02,-389296145 | INFO | 396205 - Created: ExplanationTopSelect-9a1eb5ee97027a4e822e25bebac44056\n",
      "2024-06-05 16:27:02,-389296136 | INFO | 396205 - Evaluating the explainers.............................................................\n",
      "2024-06-05 16:27:02,-389296135 | INFO | 396205 - Evaluating instance with id 0\n",
      "2024-06-05 16:27:02,-389295808 | INFO | 396205 - evaluated instance with id 0\n",
      "2024-06-05 16:27:02,-389295807 | INFO | 396205 - Evaluating instance with id 1\n"
     ]
    },
    {
     "name": "stderr",
     "output_type": "stream",
     "text": [
      "/NFSHOME/mprado/AIIM/GRETEL/silver/GRETEL/src/explainer/generative/gans/graph/res_gen.py:61: UserWarning: The use of `x.T` on tensors of dimension other than 2 to reverse their shape is deprecated and it will throw an error in a future release. Consider `x.mT` to transpose batches of matrices or `x.permute(*torch.arange(x.ndim - 1, -1, -1))` to reverse the dimensions of a tensor. (Triggered internally at ../aten/src/ATen/native/TensorShape.cpp:3571.)\n",
      "  edge_probabilities += rebuild_adj_matrix(len(node_features), edge_list, edge_attr.T,self.device)\n"
     ]
    },
    {
     "name": "stdout",
     "output_type": "stream",
     "text": [
      "2024-06-05 16:27:02,-389295527 | INFO | 396205 - evaluated instance with id 1\n",
      "2024-06-05 16:27:02,-389295526 | INFO | 396205 - Evaluating instance with id 2\n",
      "2024-06-05 16:27:03,-389295334 | INFO | 396205 - evaluated instance with id 2\n",
      "2024-06-05 16:27:03,-389295332 | INFO | 396205 - Evaluating instance with id 3\n",
      "2024-06-05 16:27:03,-389294499 | INFO | 396205 - evaluated instance with id 3\n",
      "2024-06-05 16:27:03,-389294498 | INFO | 396205 - Evaluating instance with id 4\n",
      "2024-06-05 16:27:04,-389293658 | INFO | 396205 - evaluated instance with id 4\n",
      "2024-06-05 16:27:04,-389293657 | INFO | 396205 - Evaluating instance with id 5\n",
      "2024-06-05 16:27:04,-389293443 | INFO | 396205 - evaluated instance with id 5\n",
      "2024-06-05 16:27:04,-389293442 | INFO | 396205 - Evaluating instance with id 6\n",
      "2024-06-05 16:27:05,-389292854 | INFO | 396205 - evaluated instance with id 6\n",
      "2024-06-05 16:27:05,-389292853 | INFO | 396205 - Evaluating instance with id 7\n",
      "2024-06-05 16:27:06,-389291939 | INFO | 396205 - evaluated instance with id 7\n",
      "2024-06-05 16:27:06,-389291938 | INFO | 396205 - Evaluating instance with id 8\n",
      "2024-06-05 16:27:07,-389291049 | INFO | 396205 - evaluated instance with id 8\n",
      "2024-06-05 16:27:07,-389291047 | INFO | 396205 - Evaluating instance with id 9\n",
      "2024-06-05 16:27:07,-389290840 | INFO | 396205 - evaluated instance with id 9\n",
      "2024-06-05 16:27:07,-389290839 | INFO | 396205 - Evaluating instance with id 10\n",
      "2024-06-05 16:27:08,-389289971 | INFO | 396205 - evaluated instance with id 10\n",
      "2024-06-05 16:27:08,-389289970 | INFO | 396205 - Evaluating instance with id 11\n",
      "2024-06-05 16:27:08,-389289676 | INFO | 396205 - evaluated instance with id 11\n",
      "2024-06-05 16:27:08,-389289675 | INFO | 396205 - Evaluating instance with id 12\n",
      "2024-06-05 16:27:09,-389288737 | INFO | 396205 - evaluated instance with id 12\n",
      "2024-06-05 16:27:09,-389288735 | INFO | 396205 - Evaluating instance with id 13\n",
      "2024-06-05 16:27:09,-389288476 | INFO | 396205 - evaluated instance with id 13\n",
      "2024-06-05 16:27:09,-389288475 | INFO | 396205 - Evaluating instance with id 14\n",
      "2024-06-05 16:27:10,-389288263 | INFO | 396205 - evaluated instance with id 14\n",
      "2024-06-05 16:27:10,-389288262 | INFO | 396205 - Evaluating instance with id 15\n",
      "2024-06-05 16:27:11,-389287142 | INFO | 396205 - evaluated instance with id 15\n",
      "2024-06-05 16:27:11,-389287140 | INFO | 396205 - Evaluating instance with id 16\n",
      "2024-06-05 16:27:12,-389286301 | INFO | 396205 - evaluated instance with id 16\n",
      "2024-06-05 16:27:12,-389286301 | INFO | 396205 - Evaluating instance with id 17\n",
      "2024-06-05 16:27:13,-389285365 | INFO | 396205 - evaluated instance with id 17\n",
      "2024-06-05 16:27:13,-389285364 | INFO | 396205 - Evaluating instance with id 18\n",
      "2024-06-05 16:27:13,-389284483 | INFO | 396205 - evaluated instance with id 18\n",
      "2024-06-05 16:27:13,-389284482 | INFO | 396205 - Evaluating instance with id 19\n",
      "2024-06-05 16:27:14,-389283622 | INFO | 396205 - evaluated instance with id 19\n",
      "2024-06-05 16:27:14,-389283621 | INFO | 396205 - Evaluating instance with id 20\n",
      "2024-06-05 16:27:15,-389282767 | INFO | 396205 - evaluated instance with id 20\n",
      "2024-06-05 16:27:15,-389282766 | INFO | 396205 - Evaluating instance with id 21\n",
      "2024-06-05 16:27:16,-389281898 | INFO | 396205 - evaluated instance with id 21\n",
      "2024-06-05 16:27:16,-389281897 | INFO | 396205 - Evaluating instance with id 22\n",
      "2024-06-05 16:27:16,-389281576 | INFO | 396205 - evaluated instance with id 22\n",
      "2024-06-05 16:27:16,-389281576 | INFO | 396205 - Evaluating instance with id 23\n",
      "2024-06-05 16:27:17,-389280743 | INFO | 396205 - evaluated instance with id 23\n",
      "2024-06-05 16:27:17,-389280743 | INFO | 396205 - Evaluating instance with id 24\n",
      "2024-06-05 16:27:18,-389279882 | INFO | 396205 - evaluated instance with id 24\n",
      "2024-06-05 16:27:18,-389279881 | INFO | 396205 - Evaluating instance with id 25\n",
      "2024-06-05 16:27:19,-389278931 | INFO | 396205 - evaluated instance with id 25\n",
      "2024-06-05 16:27:19,-389278929 | INFO | 396205 - Evaluating instance with id 26\n",
      "2024-06-05 16:27:19,-389278696 | INFO | 396205 - evaluated instance with id 26\n",
      "2024-06-05 16:27:19,-389278696 | INFO | 396205 - Evaluating instance with id 27\n",
      "2024-06-05 16:27:20,-389278377 | INFO | 396205 - evaluated instance with id 27\n",
      "2024-06-05 16:27:20,-389278377 | INFO | 396205 - Evaluating instance with id 28\n",
      "2024-06-05 16:27:21,-389276505 | INFO | 396205 - evaluated instance with id 28\n",
      "2024-06-05 16:27:21,-389276504 | INFO | 396205 - Evaluating instance with id 29\n",
      "2024-06-05 16:27:22,-389276255 | INFO | 396205 - evaluated instance with id 29\n",
      "2024-06-05 16:27:22,-389276254 | INFO | 396205 - Evaluating instance with id 30\n",
      "2024-06-05 16:27:22,-389275409 | INFO | 396205 - evaluated instance with id 30\n",
      "2024-06-05 16:27:22,-389275408 | INFO | 396205 - Evaluating instance with id 31\n",
      "2024-06-05 16:27:23,-389274572 | INFO | 396205 - evaluated instance with id 31\n",
      "2024-06-05 16:27:23,-389274571 | INFO | 396205 - Evaluating instance with id 32\n",
      "2024-06-05 16:27:24,-389273678 | INFO | 396205 - evaluated instance with id 32\n",
      "2024-06-05 16:27:24,-389273678 | INFO | 396205 - Evaluating instance with id 33\n",
      "2024-06-05 16:27:25,-389272797 | INFO | 396205 - evaluated instance with id 33\n",
      "2024-06-05 16:27:25,-389272796 | INFO | 396205 - Evaluating instance with id 34\n",
      "2024-06-05 16:27:26,-389271978 | INFO | 396205 - evaluated instance with id 34\n",
      "2024-06-05 16:27:26,-389271977 | INFO | 396205 - Evaluating instance with id 35\n",
      "2024-06-05 16:27:27,-389271123 | INFO | 396205 - evaluated instance with id 35\n",
      "2024-06-05 16:27:27,-389271122 | INFO | 396205 - Evaluating instance with id 36\n",
      "2024-06-05 16:27:28,-389270262 | INFO | 396205 - evaluated instance with id 36\n",
      "2024-06-05 16:27:28,-389270261 | INFO | 396205 - Evaluating instance with id 37\n",
      "2024-06-05 16:27:29,-389269390 | INFO | 396205 - evaluated instance with id 37\n",
      "2024-06-05 16:27:29,-389269389 | INFO | 396205 - Evaluating instance with id 38\n",
      "2024-06-05 16:27:29,-389268507 | INFO | 396205 - evaluated instance with id 38\n",
      "2024-06-05 16:27:29,-389268506 | INFO | 396205 - Evaluating instance with id 39\n",
      "2024-06-05 16:27:30,-389268231 | INFO | 396205 - evaluated instance with id 39\n",
      "2024-06-05 16:27:30,-389268230 | INFO | 396205 - Evaluating instance with id 40\n",
      "2024-06-05 16:27:31,-389267136 | INFO | 396205 - evaluated instance with id 40\n",
      "2024-06-05 16:27:31,-389267135 | INFO | 396205 - Evaluating instance with id 41\n",
      "2024-06-05 16:27:31,-389266890 | INFO | 396205 - evaluated instance with id 41\n",
      "2024-06-05 16:27:31,-389266889 | INFO | 396205 - Evaluating instance with id 42\n",
      "2024-06-05 16:27:32,-389266057 | INFO | 396205 - evaluated instance with id 42\n",
      "2024-06-05 16:27:32,-389266056 | INFO | 396205 - Evaluating instance with id 43\n",
      "2024-06-05 16:27:32,-389265684 | INFO | 396205 - evaluated instance with id 43\n",
      "2024-06-05 16:27:32,-389265683 | INFO | 396205 - Evaluating instance with id 44\n",
      "2024-06-05 16:27:33,-389264789 | INFO | 396205 - evaluated instance with id 44\n",
      "2024-06-05 16:27:33,-389264788 | INFO | 396205 - Evaluating instance with id 45\n",
      "2024-06-05 16:27:33,-389264537 | INFO | 396205 - evaluated instance with id 45\n",
      "2024-06-05 16:27:33,-389264536 | INFO | 396205 - Evaluating instance with id 46\n",
      "2024-06-05 16:27:34,-389264255 | INFO | 396205 - evaluated instance with id 46\n",
      "2024-06-05 16:27:34,-389264254 | INFO | 396205 - Evaluating instance with id 47\n",
      "2024-06-05 16:27:35,-389263388 | INFO | 396205 - evaluated instance with id 47\n",
      "2024-06-05 16:27:35,-389263386 | INFO | 396205 - Evaluating instance with id 48\n",
      "2024-06-05 16:27:35,-389263165 | INFO | 396205 - evaluated instance with id 48\n",
      "2024-06-05 16:27:35,-389263164 | INFO | 396205 - Evaluating instance with id 49\n",
      "2024-06-05 16:27:35,-389262939 | INFO | 396205 - evaluated instance with id 49\n",
      "2024-06-05 16:27:35,-389262939 | INFO | 396205 - Evaluating instance with id 50\n",
      "2024-06-05 16:27:36,-389262072 | INFO | 396205 - evaluated instance with id 50\n",
      "2024-06-05 16:27:36,-389262071 | INFO | 396205 - Evaluating instance with id 51\n",
      "2024-06-05 16:27:37,-389261077 | INFO | 396205 - evaluated instance with id 51\n",
      "2024-06-05 16:27:37,-389261076 | INFO | 396205 - Evaluating instance with id 52\n",
      "2024-06-05 16:27:38,-389260229 | INFO | 396205 - evaluated instance with id 52\n",
      "2024-06-05 16:27:38,-389260228 | INFO | 396205 - Evaluating instance with id 53\n",
      "2024-06-05 16:27:39,-389259337 | INFO | 396205 - evaluated instance with id 53\n",
      "2024-06-05 16:27:39,-389259336 | INFO | 396205 - Evaluating instance with id 54\n",
      "2024-06-05 16:27:39,-389258486 | INFO | 396205 - evaluated instance with id 54\n",
      "2024-06-05 16:27:39,-389258484 | INFO | 396205 - Evaluating instance with id 55\n",
      "2024-06-05 16:27:40,-389258176 | INFO | 396205 - evaluated instance with id 55\n",
      "2024-06-05 16:27:40,-389258175 | INFO | 396205 - Evaluating instance with id 56\n",
      "2024-06-05 16:27:41,-389257296 | INFO | 396205 - evaluated instance with id 56\n",
      "2024-06-05 16:27:41,-389257295 | INFO | 396205 - Evaluating instance with id 57\n",
      "2024-06-05 16:27:41,-389256416 | INFO | 396205 - evaluated instance with id 57\n",
      "2024-06-05 16:27:41,-389256415 | INFO | 396205 - Evaluating instance with id 58\n",
      "2024-06-05 16:27:42,-389256209 | INFO | 396205 - evaluated instance with id 58\n",
      "2024-06-05 16:27:42,-389256208 | INFO | 396205 - Evaluating instance with id 59\n",
      "2024-06-05 16:27:43,-389255380 | INFO | 396205 - evaluated instance with id 59\n",
      "2024-06-05 16:27:43,-389255378 | INFO | 396205 - Evaluating instance with id 60\n",
      "2024-06-05 16:27:43,-389255111 | INFO | 396205 - evaluated instance with id 60\n",
      "2024-06-05 16:27:43,-389255110 | INFO | 396205 - Evaluating instance with id 61\n",
      "2024-06-05 16:27:44,-389254246 | INFO | 396205 - evaluated instance with id 61\n",
      "2024-06-05 16:27:44,-389254245 | INFO | 396205 - Evaluating instance with id 62\n",
      "2024-06-05 16:27:45,-389253372 | INFO | 396205 - evaluated instance with id 62\n",
      "2024-06-05 16:27:45,-389253372 | INFO | 396205 - Evaluating instance with id 63\n",
      "2024-06-05 16:27:45,-389252557 | INFO | 396205 - evaluated instance with id 63\n",
      "2024-06-05 16:27:45,-389252556 | INFO | 396205 - Evaluating instance with id 64\n",
      "2024-06-05 16:27:46,-389252325 | INFO | 396205 - evaluated instance with id 64\n",
      "2024-06-05 16:27:46,-389252324 | INFO | 396205 - Evaluating instance with id 65\n",
      "2024-06-05 16:27:46,-389252085 | INFO | 396205 - evaluated instance with id 65\n",
      "2024-06-05 16:27:46,-389252085 | INFO | 396205 - Evaluating instance with id 66\n",
      "2024-06-05 16:27:47,-389251209 | INFO | 396205 - evaluated instance with id 66\n",
      "2024-06-05 16:27:47,-389251208 | INFO | 396205 - Evaluating instance with id 67\n",
      "2024-06-05 16:27:47,-389250794 | INFO | 396205 - evaluated instance with id 67\n",
      "2024-06-05 16:27:47,-389250793 | INFO | 396205 - Evaluating instance with id 68\n",
      "2024-06-05 16:27:47,-389250553 | INFO | 396205 - evaluated instance with id 68\n",
      "2024-06-05 16:27:47,-389250553 | INFO | 396205 - Evaluating instance with id 69\n",
      "2024-06-05 16:27:48,-389249650 | INFO | 396205 - evaluated instance with id 69\n",
      "2024-06-05 16:27:48,-389249649 | INFO | 396205 - Evaluating instance with id 70\n",
      "2024-06-05 16:27:48,-389249440 | INFO | 396205 - evaluated instance with id 70\n",
      "2024-06-05 16:27:48,-389249440 | INFO | 396205 - Evaluating instance with id 71\n",
      "2024-06-05 16:27:49,-389248976 | INFO | 396205 - evaluated instance with id 71\n",
      "2024-06-05 16:27:49,-389248976 | INFO | 396205 - Evaluating instance with id 72\n",
      "2024-06-05 16:27:49,-389248540 | INFO | 396205 - evaluated instance with id 72\n",
      "2024-06-05 16:27:49,-389248539 | INFO | 396205 - Evaluating instance with id 73\n",
      "2024-06-05 16:27:50,-389247649 | INFO | 396205 - evaluated instance with id 73\n",
      "2024-06-05 16:27:50,-389247648 | INFO | 396205 - Evaluating instance with id 74\n",
      "2024-06-05 16:27:51,-389246743 | INFO | 396205 - evaluated instance with id 74\n",
      "2024-06-05 16:27:51,-389246742 | INFO | 396205 - Evaluating instance with id 75\n",
      "2024-06-05 16:27:51,-389246492 | INFO | 396205 - evaluated instance with id 75\n",
      "2024-06-05 16:27:51,-389246491 | INFO | 396205 - Evaluating instance with id 76\n",
      "2024-06-05 16:27:52,-389245630 | INFO | 396205 - evaluated instance with id 76\n",
      "2024-06-05 16:27:52,-389245629 | INFO | 396205 - Evaluating instance with id 77\n",
      "2024-06-05 16:27:52,-389245420 | INFO | 396205 - evaluated instance with id 77\n",
      "2024-06-05 16:27:52,-389245419 | INFO | 396205 - Evaluating instance with id 78\n",
      "2024-06-05 16:27:53,-389244592 | INFO | 396205 - evaluated instance with id 78\n",
      "2024-06-05 16:27:53,-389244591 | INFO | 396205 - Evaluating instance with id 79\n",
      "2024-06-05 16:27:54,-389244334 | INFO | 396205 - evaluated instance with id 79\n",
      "2024-06-05 16:27:54,-389244333 | INFO | 396205 - Evaluating instance with id 80\n",
      "2024-06-05 16:27:54,-389244137 | INFO | 396205 - evaluated instance with id 80\n",
      "2024-06-05 16:27:54,-389244136 | INFO | 396205 - Evaluating instance with id 81\n",
      "2024-06-05 16:27:55,-389243091 | INFO | 396205 - evaluated instance with id 81\n",
      "2024-06-05 16:27:55,-389243090 | INFO | 396205 - Evaluating instance with id 82\n",
      "2024-06-05 16:27:56,-389242232 | INFO | 396205 - evaluated instance with id 82\n",
      "2024-06-05 16:27:56,-389242231 | INFO | 396205 - Evaluating instance with id 83\n",
      "2024-06-05 16:27:56,-389241870 | INFO | 396205 - evaluated instance with id 83\n",
      "2024-06-05 16:27:56,-389241869 | INFO | 396205 - Evaluating instance with id 84\n",
      "2024-06-05 16:27:56,-389241640 | INFO | 396205 - evaluated instance with id 84\n",
      "2024-06-05 16:27:56,-389241640 | INFO | 396205 - Evaluating instance with id 85\n",
      "2024-06-05 16:27:57,-389240754 | INFO | 396205 - evaluated instance with id 85\n",
      "2024-06-05 16:27:57,-389240753 | INFO | 396205 - Evaluating instance with id 86\n",
      "2024-06-05 16:27:58,-389239901 | INFO | 396205 - evaluated instance with id 86\n",
      "2024-06-05 16:27:58,-389239900 | INFO | 396205 - Evaluating instance with id 87\n",
      "2024-06-05 16:27:59,-389239060 | INFO | 396205 - evaluated instance with id 87\n",
      "2024-06-05 16:27:59,-389239059 | INFO | 396205 - Evaluating instance with id 88\n",
      "2024-06-05 16:28:00,-389238208 | INFO | 396205 - evaluated instance with id 88\n",
      "2024-06-05 16:28:00,-389238207 | INFO | 396205 - Evaluating instance with id 89\n",
      "2024-06-05 16:28:01,-389237389 | INFO | 396205 - evaluated instance with id 89\n",
      "2024-06-05 16:28:01,-389237388 | INFO | 396205 - Evaluating instance with id 90\n",
      "2024-06-05 16:28:01,-389236556 | INFO | 396205 - evaluated instance with id 90\n",
      "2024-06-05 16:28:01,-389236554 | INFO | 396205 - Evaluating instance with id 91\n",
      "2024-06-05 16:28:02,-389235702 | INFO | 396205 - evaluated instance with id 91\n",
      "2024-06-05 16:28:02,-389235701 | INFO | 396205 - Evaluating instance with id 92\n",
      "2024-06-05 16:28:03,-389234810 | INFO | 396205 - evaluated instance with id 92\n",
      "2024-06-05 16:28:03,-389234809 | INFO | 396205 - Evaluating instance with id 93\n",
      "2024-06-05 16:28:04,-389233707 | INFO | 396205 - evaluated instance with id 93\n",
      "2024-06-05 16:28:04,-389233706 | INFO | 396205 - Evaluating instance with id 94\n",
      "2024-06-05 16:28:05,-389232850 | INFO | 396205 - evaluated instance with id 94\n",
      "2024-06-05 16:28:05,-389232848 | INFO | 396205 - Evaluating instance with id 95\n",
      "2024-06-05 16:28:06,-389232011 | INFO | 396205 - evaluated instance with id 95\n",
      "2024-06-05 16:28:06,-389232010 | INFO | 396205 - Evaluating instance with id 96\n",
      "2024-06-05 16:28:06,-389231602 | INFO | 396205 - evaluated instance with id 96\n",
      "2024-06-05 16:28:06,-389231601 | INFO | 396205 - Evaluating instance with id 97\n",
      "2024-06-05 16:28:06,-389231412 | INFO | 396205 - evaluated instance with id 97\n",
      "2024-06-05 16:28:06,-389231412 | INFO | 396205 - Evaluating instance with id 98\n",
      "2024-06-05 16:28:07,-389230512 | INFO | 396205 - evaluated instance with id 98\n",
      "2024-06-05 16:28:07,-389230511 | INFO | 396205 - Evaluating instance with id 99\n",
      "2024-06-05 16:28:08,-389230229 | INFO | 396205 - evaluated instance with id 99\n",
      "2024-06-05 16:28:08,-389230229 | INFO | 396205 - Evaluating instance with id 100\n",
      "2024-06-05 16:28:08,-389229982 | INFO | 396205 - evaluated instance with id 100\n",
      "2024-06-05 16:28:08,-389229981 | INFO | 396205 - Evaluating instance with id 101\n",
      "2024-06-05 16:28:09,-389229126 | INFO | 396205 - evaluated instance with id 101\n",
      "2024-06-05 16:28:09,-389229124 | INFO | 396205 - Evaluating instance with id 102\n",
      "2024-06-05 16:28:10,-389228219 | INFO | 396205 - evaluated instance with id 102\n",
      "2024-06-05 16:28:10,-389228219 | INFO | 396205 - Evaluating instance with id 103\n",
      "2024-06-05 16:28:11,-389227380 | INFO | 396205 - evaluated instance with id 103\n",
      "2024-06-05 16:28:11,-389227379 | INFO | 396205 - Evaluating instance with id 104\n",
      "2024-06-05 16:28:11,-389227139 | INFO | 396205 - evaluated instance with id 104\n",
      "2024-06-05 16:28:11,-389227138 | INFO | 396205 - Evaluating instance with id 105\n",
      "2024-06-05 16:28:11,-389226942 | INFO | 396205 - evaluated instance with id 105\n",
      "2024-06-05 16:28:11,-389226941 | INFO | 396205 - Evaluating instance with id 106\n",
      "2024-06-05 16:28:12,-389226103 | INFO | 396205 - evaluated instance with id 106\n",
      "2024-06-05 16:28:12,-389226102 | INFO | 396205 - Evaluating instance with id 107\n",
      "2024-06-05 16:28:13,-389225276 | INFO | 396205 - evaluated instance with id 107\n",
      "2024-06-05 16:28:13,-389225275 | INFO | 396205 - Evaluating instance with id 108\n",
      "2024-06-05 16:28:13,-389225044 | INFO | 396205 - evaluated instance with id 108\n",
      "2024-06-05 16:28:13,-389225043 | INFO | 396205 - Evaluating instance with id 109\n",
      "2024-06-05 16:28:13,-389224769 | INFO | 396205 - evaluated instance with id 109\n",
      "2024-06-05 16:28:13,-389224768 | INFO | 396205 - Evaluating instance with id 110\n",
      "2024-06-05 16:28:14,-389223929 | INFO | 396205 - evaluated instance with id 110\n",
      "2024-06-05 16:28:14,-389223929 | INFO | 396205 - Evaluating instance with id 111\n",
      "2024-06-05 16:28:15,-389223108 | INFO | 396205 - evaluated instance with id 111\n",
      "2024-06-05 16:28:15,-389223107 | INFO | 396205 - Evaluating instance with id 112\n",
      "2024-06-05 16:28:16,-389222275 | INFO | 396205 - evaluated instance with id 112\n",
      "2024-06-05 16:28:16,-389222274 | INFO | 396205 - Evaluating instance with id 113\n",
      "2024-06-05 16:28:16,-389221838 | INFO | 396205 - evaluated instance with id 113\n",
      "2024-06-05 16:28:16,-389221838 | INFO | 396205 - Evaluating instance with id 114\n",
      "2024-06-05 16:28:17,-389221011 | INFO | 396205 - evaluated instance with id 114\n",
      "2024-06-05 16:28:17,-389221011 | INFO | 396205 - Evaluating instance with id 115\n",
      "2024-06-05 16:28:17,-389220773 | INFO | 396205 - evaluated instance with id 115\n",
      "2024-06-05 16:28:17,-389220773 | INFO | 396205 - Evaluating instance with id 116\n",
      "2024-06-05 16:28:18,-389219934 | INFO | 396205 - evaluated instance with id 116\n",
      "2024-06-05 16:28:18,-389219933 | INFO | 396205 - Evaluating instance with id 117\n",
      "2024-06-05 16:28:19,-389218614 | INFO | 396205 - evaluated instance with id 117\n",
      "2024-06-05 16:28:19,-389218613 | INFO | 396205 - Evaluating instance with id 118\n",
      "2024-06-05 16:28:19,-389218405 | INFO | 396205 - evaluated instance with id 118\n",
      "2024-06-05 16:28:19,-389218404 | INFO | 396205 - Evaluating instance with id 119\n",
      "2024-06-05 16:28:20,-389218166 | INFO | 396205 - evaluated instance with id 119\n",
      "2024-06-05 16:28:20,-389218165 | INFO | 396205 - Evaluating instance with id 120\n",
      "2024-06-05 16:28:21,-389217307 | INFO | 396205 - evaluated instance with id 120\n",
      "2024-06-05 16:28:21,-389217306 | INFO | 396205 - Evaluating instance with id 121\n",
      "2024-06-05 16:28:21,-389216471 | INFO | 396205 - evaluated instance with id 121\n",
      "2024-06-05 16:28:21,-389216471 | INFO | 396205 - Evaluating instance with id 122\n",
      "2024-06-05 16:28:22,-389215550 | INFO | 396205 - evaluated instance with id 122\n",
      "2024-06-05 16:28:22,-389215549 | INFO | 396205 - Evaluating instance with id 123\n",
      "2024-06-05 16:28:23,-389215325 | INFO | 396205 - evaluated instance with id 123\n",
      "2024-06-05 16:28:23,-389215324 | INFO | 396205 - Evaluating instance with id 124\n",
      "2024-06-05 16:28:23,-389215089 | INFO | 396205 - evaluated instance with id 124\n",
      "2024-06-05 16:28:23,-389215089 | INFO | 396205 - Evaluating instance with id 125\n",
      "2024-06-05 16:28:24,-389214215 | INFO | 396205 - evaluated instance with id 125\n",
      "2024-06-05 16:28:24,-389214214 | INFO | 396205 - Evaluating instance with id 126\n",
      "2024-06-05 16:28:24,-389213659 | INFO | 396205 - evaluated instance with id 126\n",
      "2024-06-05 16:28:24,-389213657 | INFO | 396205 - Evaluating instance with id 127\n",
      "2024-06-05 16:28:24,-389213434 | INFO | 396205 - evaluated instance with id 127\n",
      "2024-06-05 16:28:24,-389213433 | INFO | 396205 - {'src.evaluation.metrics.runtime.RuntimeMetric': [{'id': '0', 'value': 0.3192627429962158}, {'id': '1', 'value': 0.2730712890625}, {'id': '2', 'value': 0.18397736549377441}, {'id': '3', 'value': 0.8258652687072754}, {'id': '4', 'value': 0.8322467803955078}, {'id': '5', 'value': 0.20615696907043457}, {'id': '6', 'value': 0.5797305107116699}, {'id': '7', 'value': 0.9070589542388916}, {'id': '8', 'value': 0.8814120292663574}, {'id': '9', 'value': 0.1998729705810547}, {'id': '10', 'value': 0.8609368801116943}, {'id': '11', 'value': 0.28658270835876465}, {'id': '12', 'value': 0.9304506778717041}, {'id': '13', 'value': 0.2518608570098877}, {'id': '14', 'value': 0.20485568046569824}, {'id': '15', 'value': 1.1130902767181396}, {'id': '16', 'value': 0.830054521560669}, {'id': '17', 'value': 0.9226062297821045}, {'id': '18', 'value': 0.8672754764556885}, {'id': '19', 'value': 0.8434815406799316}, {'id': '20', 'value': 0.835397481918335}, {'id': '21', 'value': 0.8607809543609619}, {'id': '22', 'value': 0.30511903762817383}, {'id': '23', 'value': 0.814009428024292}, {'id': '24', 'value': 0.8432888984680176}, {'id': '25', 'value': 0.942051887512207}, {'id': '26', 'value': 0.22552728652954102}, {'id': '27', 'value': 0.3110635280609131}, {'id': '28', 'value': 1.8646771907806396}, {'id': '29', 'value': 0.24204349517822266}, {'id': '30', 'value': 0.8372561931610107}, {'id': '31', 'value': 0.8281140327453613}, {'id': '32', 'value': 0.8805081844329834}, {'id': '33', 'value': 0.8730237483978271}, {'id': '34', 'value': 0.8103129863739014}, {'id': '35', 'value': 0.8369989395141602}, {'id': '36', 'value': 0.8525493144989014}, {'id': '37', 'value': 0.8638246059417725}, {'id': '38', 'value': 0.8742971420288086}, {'id': '39', 'value': 0.2679007053375244}, {'id': '40', 'value': 1.0863292217254639}, {'id': '41', 'value': 0.23833322525024414}, {'id': '42', 'value': 0.8242368698120117}, {'id': '43', 'value': 0.3544325828552246}, {'id': '44', 'value': 0.8743588924407959}, {'id': '45', 'value': 0.24409747123718262}, {'id': '46', 'value': 0.2624063491821289}, {'id': '47', 'value': 0.8482382297515869}, {'id': '48', 'value': 0.20306038856506348}, {'id': '49', 'value': 0.2178974151611328}, {'id': '50', 'value': 0.8472702503204346}, {'id': '51', 'value': 0.9875533580780029}, {'id': '52', 'value': 0.8383593559265137}, {'id': '53', 'value': 0.8845813274383545}, {'id': '54', 'value': 0.8428430557250977}, {'id': '55', 'value': 0.3009817600250244}, {'id': '56', 'value': 0.8666138648986816}, {'id': '57', 'value': 0.8719933032989502}, {'id': '58', 'value': 0.1985766887664795}, {'id': '59', 'value': 0.8203742504119873}, {'id': '60', 'value': 0.2597775459289551}, {'id': '61', 'value': 0.8571174144744873}, {'id': '62', 'value': 0.864647388458252}, {'id': '63', 'value': 0.8075041770935059}, {'id': '64', 'value': 0.2223198413848877}, {'id': '65', 'value': 0.23148441314697266}, {'id': '66', 'value': 0.8679349422454834}, {'id': '67', 'value': 0.4000730514526367}, {'id': '68', 'value': 0.2195737361907959}, {'id': '69', 'value': 0.8954148292541504}, {'id': '70', 'value': 0.1913764476776123}, {'id': '71', 'value': 0.4434528350830078}, {'id': '72', 'value': 0.4156200885772705}, {'id': '73', 'value': 0.8819983005523682}, {'id': '74', 'value': 0.886634349822998}, {'id': '75', 'value': 0.2424914836883545}, {'id': '76', 'value': 0.8537967205047607}, {'id': '77', 'value': 0.20226550102233887}, {'id': '78', 'value': 0.819258451461792}, {'id': '79', 'value': 0.24985027313232422}, {'id': '80', 'value': 0.18892645835876465}, {'id': '81', 'value': 1.0374951362609863}, {'id': '82', 'value': 0.851172685623169}, {'id': '83', 'value': 0.35277867317199707}, {'id': '84', 'value': 0.22188663482666016}, {'id': '85', 'value': 0.8783292770385742}, {'id': '86', 'value': 0.8444211483001709}, {'id': '87', 'value': 0.8319580554962158}, {'id': '88', 'value': 0.8438816070556641}, {'id': '89', 'value': 0.8101718425750732}, {'id': '90', 'value': 0.8250055313110352}, {'id': '91', 'value': 0.8449385166168213}, {'id': '92', 'value': 0.8824725151062012}, {'id': '93', 'value': 1.0951340198516846}, {'id': '94', 'value': 0.8398470878601074}, {'id': '95', 'value': 0.8172585964202881}, {'id': '96', 'value': 0.3900725841522217}, {'id': '97', 'value': 0.18101835250854492}, {'id': '98', 'value': 0.8911821842193604}, {'id': '99', 'value': 0.2629964351654053}, {'id': '100', 'value': 0.22859406471252441}, {'id': '101', 'value': 0.8371684551239014}, {'id': '102', 'value': 0.8975565433502197}, {'id': '103', 'value': 0.8315141201019287}, {'id': '104', 'value': 0.23195147514343262}, {'id': '105', 'value': 0.1885383129119873}, {'id': '106', 'value': 0.8300833702087402}, {'id': '107', 'value': 0.818932056427002}, {'id': '108', 'value': 0.22358012199401855}, {'id': '109', 'value': 0.26607561111450195}, {'id': '110', 'value': 0.8313448429107666}, {'id': '111', 'value': 0.8134851455688477}, {'id': '112', 'value': 0.8245232105255127}, {'id': '113', 'value': 0.428516149520874}, {'id': '114', 'value': 0.818387508392334}, {'id': '115', 'value': 0.22989821434020996}, {'id': '116', 'value': 0.8313543796539307}, {'id': '117', 'value': 1.3121163845062256}, {'id': '118', 'value': 0.2009716033935547}, {'id': '119', 'value': 0.2301652431488037}, {'id': '120', 'value': 0.8376996517181396}, {'id': '121', 'value': 0.8160064220428467}, {'id': '122', 'value': 0.9008505344390869}, {'id': '123', 'value': 0.21727323532104492}, {'id': '124', 'value': 0.2159442901611328}, {'id': '125', 'value': 0.8663516044616699}, {'id': '126', 'value': 0.5347583293914795}, {'id': '127', 'value': 0.21618127822875977}], 'src.evaluation.metrics.ged.GraphEditDistanceMetric': [{'id': '0', 'value': 4.0}, {'id': '1', 'value': 8.0}, {'id': '2', 'value': 3.0}, {'id': '3', 'value': 3.0}, {'id': '4', 'value': 3.0}, {'id': '5', 'value': 1.0}, {'id': '6', 'value': 7.0}, {'id': '7', 'value': 11.0}, {'id': '8', 'value': 8.0}, {'id': '9', 'value': 5.0}, {'id': '10', 'value': 6.0}, {'id': '11', 'value': 7.0}, {'id': '12', 'value': 19.0}, {'id': '13', 'value': 5.0}, {'id': '14', 'value': 4.0}, {'id': '15', 'value': 6.0}, {'id': '16', 'value': 5.0}, {'id': '17', 'value': 14.0}, {'id': '18', 'value': 11.0}, {'id': '19', 'value': 4.0}, {'id': '20', 'value': 4.0}, {'id': '21', 'value': 9.0}, {'id': '22', 'value': 7.0}, {'id': '23', 'value': 1.0}, {'id': '24', 'value': 3.0}, {'id': '25', 'value': 8.0}, {'id': '26', 'value': 11.0}, {'id': '27', 'value': 2.0}, {'id': '28', 'value': 4.0}, {'id': '29', 'value': 8.0}, {'id': '30', 'value': 3.0}, {'id': '31', 'value': 1.0}, {'id': '32', 'value': 8.0}, {'id': '33', 'value': 4.0}, {'id': '34', 'value': 2.0}, {'id': '35', 'value': 3.0}, {'id': '36', 'value': 3.0}, {'id': '37', 'value': 3.0}, {'id': '38', 'value': 5.0}, {'id': '39', 'value': 3.0}, {'id': '40', 'value': 19.0}, {'id': '41', 'value': 5.0}, {'id': '42', 'value': 5.0}, {'id': '43', 'value': 1.0}, {'id': '44', 'value': 13.0}, {'id': '45', 'value': 5.0}, {'id': '46', 'value': 5.0}, {'id': '47', 'value': 3.0}, {'id': '48', 'value': 4.0}, {'id': '49', 'value': 10.0}, {'id': '50', 'value': 7.0}, {'id': '51', 'value': 11.0}, {'id': '52', 'value': 3.0}, {'id': '53', 'value': 10.0}, {'id': '54', 'value': 2.0}, {'id': '55', 'value': 6.0}, {'id': '56', 'value': 4.0}, {'id': '57', 'value': 9.0}, {'id': '58', 'value': 1.0}, {'id': '59', 'value': 4.0}, {'id': '60', 'value': 5.0}, {'id': '61', 'value': 8.0}, {'id': '62', 'value': 10.0}, {'id': '63', 'value': 2.0}, {'id': '64', 'value': 2.0}, {'id': '65', 'value': 2.0}, {'id': '66', 'value': 12.0}, {'id': '67', 'value': 12.0}, {'id': '68', 'value': 6.0}, {'id': '69', 'value': 11.0}, {'id': '70', 'value': 3.0}, {'id': '71', 'value': 3.0}, {'id': '72', 'value': 1.0}, {'id': '73', 'value': 8.0}, {'id': '74', 'value': 10.0}, {'id': '75', 'value': 2.0}, {'id': '76', 'value': 4.0}, {'id': '77', 'value': 4.0}, {'id': '78', 'value': 4.0}, {'id': '79', 'value': 5.0}, {'id': '80', 'value': 5.0}, {'id': '81', 'value': 17.0}, {'id': '82', 'value': 4.0}, {'id': '83', 'value': 5.0}, {'id': '84', 'value': 7.0}, {'id': '85', 'value': 11.0}, {'id': '86', 'value': 6.0}, {'id': '87', 'value': 5.0}, {'id': '88', 'value': 3.0}, {'id': '89', 'value': 2.0}, {'id': '90', 'value': 3.0}, {'id': '91', 'value': 3.0}, {'id': '92', 'value': 9.0}, {'id': '93', 'value': 10.0}, {'id': '94', 'value': 4.0}, {'id': '95', 'value': 3.0}, {'id': '96', 'value': 3.0}, {'id': '97', 'value': 2.0}, {'id': '98', 'value': 12.0}, {'id': '99', 'value': 4.0}, {'id': '100', 'value': 4.0}, {'id': '101', 'value': 2.0}, {'id': '102', 'value': 14.0}, {'id': '103', 'value': 3.0}, {'id': '104', 'value': 8.0}, {'id': '105', 'value': 3.0}, {'id': '106', 'value': 4.0}, {'id': '107', 'value': 3.0}, {'id': '108', 'value': 2.0}, {'id': '109', 'value': 3.0}, {'id': '110', 'value': 3.0}, {'id': '111', 'value': 2.0}, {'id': '112', 'value': 2.0}, {'id': '113', 'value': 10.0}, {'id': '114', 'value': 3.0}, {'id': '115', 'value': 5.0}, {'id': '116', 'value': 3.0}, {'id': '117', 'value': 4.0}, {'id': '118', 'value': 2.0}, {'id': '119', 'value': 3.0}, {'id': '120', 'value': 7.0}, {'id': '121', 'value': 2.0}, {'id': '122', 'value': 13.0}, {'id': '123', 'value': 4.0}, {'id': '124', 'value': 5.0}, {'id': '125', 'value': 9.0}, {'id': '126', 'value': 4.0}, {'id': '127', 'value': 3.0}], 'src.evaluation.metrics.correctness.CorrectnessMetric': [{'id': '0', 'value': 1.0}, {'id': '1', 'value': 1.0}, {'id': '2', 'value': 1.0}, {'id': '3', 'value': 1.0}, {'id': '4', 'value': 1.0}, {'id': '5', 'value': 1.0}, {'id': '6', 'value': 1.0}, {'id': '7', 'value': 1.0}, {'id': '8', 'value': 1.0}, {'id': '9', 'value': 1.0}, {'id': '10', 'value': 1.0}, {'id': '11', 'value': 1.0}, {'id': '12', 'value': 1.0}, {'id': '13', 'value': 1.0}, {'id': '14', 'value': 1.0}, {'id': '15', 'value': 1.0}, {'id': '16', 'value': 1.0}, {'id': '17', 'value': 1.0}, {'id': '18', 'value': 1.0}, {'id': '19', 'value': 1.0}, {'id': '20', 'value': 1.0}, {'id': '21', 'value': 1.0}, {'id': '22', 'value': 1.0}, {'id': '23', 'value': 1.0}, {'id': '24', 'value': 1.0}, {'id': '25', 'value': 1.0}, {'id': '26', 'value': 1.0}, {'id': '27', 'value': 1.0}, {'id': '28', 'value': 1.0}, {'id': '29', 'value': 1.0}, {'id': '30', 'value': 1.0}, {'id': '31', 'value': 1.0}, {'id': '32', 'value': 1.0}, {'id': '33', 'value': 1.0}, {'id': '34', 'value': 1.0}, {'id': '35', 'value': 1.0}, {'id': '36', 'value': 1.0}, {'id': '37', 'value': 1.0}, {'id': '38', 'value': 1.0}, {'id': '39', 'value': 1.0}, {'id': '40', 'value': 1.0}, {'id': '41', 'value': 1.0}, {'id': '42', 'value': 1.0}, {'id': '43', 'value': 1.0}, {'id': '44', 'value': 1.0}, {'id': '45', 'value': 1.0}, {'id': '46', 'value': 1.0}, {'id': '47', 'value': 1.0}, {'id': '48', 'value': 1.0}, {'id': '49', 'value': 1.0}, {'id': '50', 'value': 1.0}, {'id': '51', 'value': 1.0}, {'id': '52', 'value': 1.0}, {'id': '53', 'value': 1.0}, {'id': '54', 'value': 1.0}, {'id': '55', 'value': 1.0}, {'id': '56', 'value': 1.0}, {'id': '57', 'value': 1.0}, {'id': '58', 'value': 1.0}, {'id': '59', 'value': 1.0}, {'id': '60', 'value': 1.0}, {'id': '61', 'value': 1.0}, {'id': '62', 'value': 1.0}, {'id': '63', 'value': 1.0}, {'id': '64', 'value': 1.0}, {'id': '65', 'value': 1.0}, {'id': '66', 'value': 1.0}, {'id': '67', 'value': 1.0}, {'id': '68', 'value': 1.0}, {'id': '69', 'value': 1.0}, {'id': '70', 'value': 1.0}, {'id': '71', 'value': 1.0}, {'id': '72', 'value': 1.0}, {'id': '73', 'value': 1.0}, {'id': '74', 'value': 1.0}, {'id': '75', 'value': 1.0}, {'id': '76', 'value': 1.0}, {'id': '77', 'value': 1.0}, {'id': '78', 'value': 1.0}, {'id': '79', 'value': 1.0}, {'id': '80', 'value': 1.0}, {'id': '81', 'value': 1.0}, {'id': '82', 'value': 1.0}, {'id': '83', 'value': 1.0}, {'id': '84', 'value': 1.0}, {'id': '85', 'value': 1.0}, {'id': '86', 'value': 1.0}, {'id': '87', 'value': 1.0}, {'id': '88', 'value': 1.0}, {'id': '89', 'value': 1.0}, {'id': '90', 'value': 1.0}, {'id': '91', 'value': 1.0}, {'id': '92', 'value': 1.0}, {'id': '93', 'value': 1.0}, {'id': '94', 'value': 1.0}, {'id': '95', 'value': 1.0}, {'id': '96', 'value': 1.0}, {'id': '97', 'value': 1.0}, {'id': '98', 'value': 1.0}, {'id': '99', 'value': 1.0}, {'id': '100', 'value': 1.0}, {'id': '101', 'value': 1.0}, {'id': '102', 'value': 1.0}, {'id': '103', 'value': 1.0}, {'id': '104', 'value': 1.0}, {'id': '105', 'value': 1.0}, {'id': '106', 'value': 1.0}, {'id': '107', 'value': 1.0}, {'id': '108', 'value': 1.0}, {'id': '109', 'value': 1.0}, {'id': '110', 'value': 1.0}, {'id': '111', 'value': 1.0}, {'id': '112', 'value': 1.0}, {'id': '113', 'value': 1.0}, {'id': '114', 'value': 1.0}, {'id': '115', 'value': 1.0}, {'id': '116', 'value': 1.0}, {'id': '117', 'value': 1.0}, {'id': '118', 'value': 1.0}, {'id': '119', 'value': 1.0}, {'id': '120', 'value': 1.0}, {'id': '121', 'value': 1.0}, {'id': '122', 'value': 1.0}, {'id': '123', 'value': 1.0}, {'id': '124', 'value': 1.0}, {'id': '125', 'value': 1.0}, {'id': '126', 'value': 1.0}, {'id': '127', 'value': 1.0}], 'src.evaluation.metrics.oracle_calls.OracleCallsMetric': [{'id': '0', 'value': 188}, {'id': '1', 'value': 264}, {'id': '2', 'value': 170}, {'id': '3', 'value': 676}, {'id': '4', 'value': 682}, {'id': '5', 'value': 196}, {'id': '6', 'value': 593}, {'id': '7', 'value': 739}, {'id': '8', 'value': 729}, {'id': '9', 'value': 180}, {'id': '10', 'value': 696}, {'id': '11', 'value': 279}, {'id': '12', 'value': 763}, {'id': '13', 'value': 242}, {'id': '14', 'value': 197}, {'id': '15', 'value': 1157}, {'id': '16', 'value': 683}, {'id': '17', 'value': 752}, {'id': '18', 'value': 719}, {'id': '19', 'value': 681}, {'id': '20', 'value': 675}, {'id': '21', 'value': 711}, {'id': '22', 'value': 299}, {'id': '23', 'value': 668}, {'id': '24', 'value': 690}, {'id': '25', 'value': 785}, {'id': '26', 'value': 218}, {'id': '27', 'value': 312}, {'id': '28', 'value': 1932}, {'id': '29', 'value': 231}, {'id': '30', 'value': 694}, {'id': '31', 'value': 683}, {'id': '32', 'value': 728}, {'id': '33', 'value': 709}, {'id': '34', 'value': 663}, {'id': '35', 'value': 674}, {'id': '36', 'value': 686}, {'id': '37', 'value': 695}, {'id': '38', 'value': 681}, {'id': '39', 'value': 264}, {'id': '40', 'value': 944}, {'id': '41', 'value': 222}, {'id': '42', 'value': 682}, {'id': '43', 'value': 362}, {'id': '44', 'value': 736}, {'id': '45', 'value': 242}, {'id': '46', 'value': 260}, {'id': '47', 'value': 679}, {'id': '48', 'value': 194}, {'id': '49', 'value': 211}, {'id': '50', 'value': 709}, {'id': '51', 'value': 854}, {'id': '52', 'value': 680}, {'id': '53', 'value': 739}, {'id': '54', 'value': 673}, {'id': '55', 'value': 283}, {'id': '56', 'value': 691}, {'id': '57', 'value': 728}, {'id': '58', 'value': 191}, {'id': '59', 'value': 676}, {'id': '60', 'value': 249}, {'id': '61', 'value': 707}, {'id': '62', 'value': 705}, {'id': '63', 'value': 659}, {'id': '64', 'value': 180}, {'id': '65', 'value': 220}, {'id': '66', 'value': 726}, {'id': '67', 'value': 397}, {'id': '68', 'value': 209}, {'id': '69', 'value': 718}, {'id': '70', 'value': 185}, {'id': '71', 'value': 457}, {'id': '72', 'value': 425}, {'id': '73', 'value': 725}, {'id': '74', 'value': 729}, {'id': '75', 'value': 232}, {'id': '76', 'value': 696}, {'id': '77', 'value': 194}, {'id': '78', 'value': 678}, {'id': '79', 'value': 244}, {'id': '80', 'value': 181}, {'id': '81', 'value': 878}, {'id': '82', 'value': 689}, {'id': '83', 'value': 359}, {'id': '84', 'value': 214}, {'id': '85', 'value': 740}, {'id': '86', 'value': 694}, {'id': '87', 'value': 687}, {'id': '88', 'value': 702}, {'id': '89', 'value': 668}, {'id': '90', 'value': 677}, {'id': '91', 'value': 704}, {'id': '92', 'value': 738}, {'id': '93', 'value': 976}, {'id': '94', 'value': 851}, {'id': '95', 'value': 681}, {'id': '96', 'value': 402}, {'id': '97', 'value': 176}, {'id': '98', 'value': 727}, {'id': '99', 'value': 260}, {'id': '100', 'value': 225}, {'id': '101', 'value': 671}, {'id': '102', 'value': 742}, {'id': '103', 'value': 681}, {'id': '104', 'value': 225}, {'id': '105', 'value': 181}, {'id': '106', 'value': 679}, {'id': '107', 'value': 681}, {'id': '108', 'value': 198}, {'id': '109', 'value': 248}, {'id': '110', 'value': 677}, {'id': '111', 'value': 667}, {'id': '112', 'value': 668}, {'id': '113', 'value': 434}, {'id': '114', 'value': 681}, {'id': '115', 'value': 224}, {'id': '116', 'value': 697}, {'id': '117', 'value': 1352}, {'id': '118', 'value': 192}, {'id': '119', 'value': 223}, {'id': '120', 'value': 684}, {'id': '121', 'value': 673}, {'id': '122', 'value': 744}, {'id': '123', 'value': 211}, {'id': '124', 'value': 209}, {'id': '125', 'value': 712}, {'id': '126', 'value': 546}, {'id': '127', 'value': 200}], 'src.evaluation.metrics.oracle_accuracy.OracleAccuracyMetric': [{'id': '0', 'value': 1}, {'id': '1', 'value': 1}, {'id': '2', 'value': 1}, {'id': '3', 'value': 1}, {'id': '4', 'value': 1}, {'id': '5', 'value': 1}, {'id': '6', 'value': 1}, {'id': '7', 'value': 1}, {'id': '8', 'value': 1}, {'id': '9', 'value': 1}, {'id': '10', 'value': 1}, {'id': '11', 'value': 1}, {'id': '12', 'value': 1}, {'id': '13', 'value': 1}, {'id': '14', 'value': 1}, {'id': '15', 'value': 1}, {'id': '16', 'value': 1}, {'id': '17', 'value': 1}, {'id': '18', 'value': 1}, {'id': '19', 'value': 1}, {'id': '20', 'value': 1}, {'id': '21', 'value': 1}, {'id': '22', 'value': 1}, {'id': '23', 'value': 1}, {'id': '24', 'value': 1}, {'id': '25', 'value': 1}, {'id': '26', 'value': 1}, {'id': '27', 'value': 1}, {'id': '28', 'value': 1}, {'id': '29', 'value': 1}, {'id': '30', 'value': 1}, {'id': '31', 'value': 0}, {'id': '32', 'value': 1}, {'id': '33', 'value': 1}, {'id': '34', 'value': 1}, {'id': '35', 'value': 1}, {'id': '36', 'value': 1}, {'id': '37', 'value': 1}, {'id': '38', 'value': 1}, {'id': '39', 'value': 1}, {'id': '40', 'value': 1}, {'id': '41', 'value': 1}, {'id': '42', 'value': 1}, {'id': '43', 'value': 1}, {'id': '44', 'value': 1}, {'id': '45', 'value': 1}, {'id': '46', 'value': 1}, {'id': '47', 'value': 1}, {'id': '48', 'value': 1}, {'id': '49', 'value': 1}, {'id': '50', 'value': 1}, {'id': '51', 'value': 1}, {'id': '52', 'value': 1}, {'id': '53', 'value': 1}, {'id': '54', 'value': 1}, {'id': '55', 'value': 1}, {'id': '56', 'value': 1}, {'id': '57', 'value': 1}, {'id': '58', 'value': 1}, {'id': '59', 'value': 1}, {'id': '60', 'value': 1}, {'id': '61', 'value': 1}, {'id': '62', 'value': 1}, {'id': '63', 'value': 1}, {'id': '64', 'value': 1}, {'id': '65', 'value': 1}, {'id': '66', 'value': 1}, {'id': '67', 'value': 1}, {'id': '68', 'value': 1}, {'id': '69', 'value': 1}, {'id': '70', 'value': 1}, {'id': '71', 'value': 1}, {'id': '72', 'value': 1}, {'id': '73', 'value': 1}, {'id': '74', 'value': 1}, {'id': '75', 'value': 1}, {'id': '76', 'value': 1}, {'id': '77', 'value': 1}, {'id': '78', 'value': 1}, {'id': '79', 'value': 1}, {'id': '80', 'value': 1}, {'id': '81', 'value': 1}, {'id': '82', 'value': 1}, {'id': '83', 'value': 1}, {'id': '84', 'value': 1}, {'id': '85', 'value': 1}, {'id': '86', 'value': 1}, {'id': '87', 'value': 1}, {'id': '88', 'value': 1}, {'id': '89', 'value': 1}, {'id': '90', 'value': 1}, {'id': '91', 'value': 1}, {'id': '92', 'value': 1}, {'id': '93', 'value': 1}, {'id': '94', 'value': 1}, {'id': '95', 'value': 1}, {'id': '96', 'value': 1}, {'id': '97', 'value': 1}, {'id': '98', 'value': 1}, {'id': '99', 'value': 1}, {'id': '100', 'value': 1}, {'id': '101', 'value': 1}, {'id': '102', 'value': 1}, {'id': '103', 'value': 1}, {'id': '104', 'value': 1}, {'id': '105', 'value': 1}, {'id': '106', 'value': 1}, {'id': '107', 'value': 1}, {'id': '108', 'value': 1}, {'id': '109', 'value': 1}, {'id': '110', 'value': 1}, {'id': '111', 'value': 1}, {'id': '112', 'value': 0}, {'id': '113', 'value': 1}, {'id': '114', 'value': 1}, {'id': '115', 'value': 1}, {'id': '116', 'value': 1}, {'id': '117', 'value': 1}, {'id': '118', 'value': 1}, {'id': '119', 'value': 1}, {'id': '120', 'value': 1}, {'id': '121', 'value': 1}, {'id': '122', 'value': 1}, {'id': '123', 'value': 1}, {'id': '124', 'value': 1}, {'id': '125', 'value': 1}, {'id': '126', 'value': 1}, {'id': '127', 'value': 1}], 'src.evaluation.metrics.sparsity.SparsityMetric': [{'id': '0', 'value': 0.0784313725490196}, {'id': '1', 'value': 0.16326530612244897}, {'id': '2', 'value': 0.057692307692307696}, {'id': '3', 'value': 0.05084745762711865}, {'id': '4', 'value': 0.05084745762711865}, {'id': '5', 'value': 0.018518518518518517}, {'id': '6', 'value': 0.14583333333333334}, {'id': '7', 'value': 0.171875}, {'id': '8', 'value': 0.13559322033898305}, {'id': '9', 'value': 0.09615384615384616}, {'id': '10', 'value': 0.1}, {'id': '11', 'value': 0.14583333333333334}, {'id': '12', 'value': 0.3064516129032258}, {'id': '13', 'value': 0.1}, {'id': '14', 'value': 0.0784313725490196}, {'id': '15', 'value': 0.12244897959183673}, {'id': '16', 'value': 0.0847457627118644}, {'id': '17', 'value': 0.22950819672131148}, {'id': '18', 'value': 0.18333333333333332}, {'id': '19', 'value': 0.06896551724137931}, {'id': '20', 'value': 0.06666666666666667}, {'id': '21', 'value': 0.14516129032258066}, {'id': '22', 'value': 0.14583333333333334}, {'id': '23', 'value': 0.017543859649122806}, {'id': '24', 'value': 0.05084745762711865}, {'id': '25', 'value': 0.13114754098360656}, {'id': '26', 'value': 0.25}, {'id': '27', 'value': 0.03773584905660377}, {'id': '28', 'value': 0.0784313725490196}, {'id': '29', 'value': 0.1702127659574468}, {'id': '30', 'value': 0.05263157894736842}, {'id': '31', 'value': 0.017857142857142856}, {'id': '32', 'value': 0.13559322033898305}, {'id': '33', 'value': 0.06666666666666667}, {'id': '34', 'value': 0.034482758620689655}, {'id': '35', 'value': 0.05084745762711865}, {'id': '36', 'value': 0.05263157894736842}, {'id': '37', 'value': 0.05084745762711865}, {'id': '38', 'value': 0.08771929824561403}, {'id': '39', 'value': 0.057692307692307696}, {'id': '40', 'value': 0.296875}, {'id': '41', 'value': 0.1}, {'id': '42', 'value': 0.0847457627118644}, {'id': '43', 'value': 0.018518518518518517}, {'id': '44', 'value': 0.21666666666666667}, {'id': '45', 'value': 0.1}, {'id': '46', 'value': 0.1}, {'id': '47', 'value': 0.05084745762711865}, {'id': '48', 'value': 0.0784313725490196}, {'id': '49', 'value': 0.2222222222222222}, {'id': '50', 'value': 0.11290322580645161}, {'id': '51', 'value': 0.19642857142857142}, {'id': '52', 'value': 0.05263157894736842}, {'id': '53', 'value': 0.15873015873015872}, {'id': '54', 'value': 0.034482758620689655}, {'id': '55', 'value': 0.11764705882352941}, {'id': '56', 'value': 0.07142857142857142}, {'id': '57', 'value': 0.15517241379310345}, {'id': '58', 'value': 0.018518518518518517}, {'id': '59', 'value': 0.06666666666666667}, {'id': '60', 'value': 0.09615384615384616}, {'id': '61', 'value': 0.13333333333333333}, {'id': '62', 'value': 0.16393442622950818}, {'id': '63', 'value': 0.03571428571428571}, {'id': '64', 'value': 0.03773584905660377}, {'id': '65', 'value': 0.03773584905660377}, {'id': '66', 'value': 0.19672131147540983}, {'id': '67', 'value': 0.24489795918367346}, {'id': '68', 'value': 0.12244897959183673}, {'id': '69', 'value': 0.16666666666666666}, {'id': '70', 'value': 0.057692307692307696}, {'id': '71', 'value': 0.057692307692307696}, {'id': '72', 'value': 0.018518518518518517}, {'id': '73', 'value': 0.12698412698412698}, {'id': '74', 'value': 0.15873015873015872}, {'id': '75', 'value': 0.03773584905660377}, {'id': '76', 'value': 0.06896551724137931}, {'id': '77', 'value': 0.0784313725490196}, {'id': '78', 'value': 0.06896551724137931}, {'id': '79', 'value': 0.1}, {'id': '80', 'value': 0.1}, {'id': '81', 'value': 0.265625}, {'id': '82', 'value': 0.06666666666666667}, {'id': '83', 'value': 0.09615384615384616}, {'id': '84', 'value': 0.14}, {'id': '85', 'value': 0.1774193548387097}, {'id': '86', 'value': 0.10344827586206896}, {'id': '87', 'value': 0.0847457627118644}, {'id': '88', 'value': 0.05263157894736842}, {'id': '89', 'value': 0.03571428571428571}, {'id': '90', 'value': 0.05084745762711865}, {'id': '91', 'value': 0.05263157894736842}, {'id': '92', 'value': 0.15}, {'id': '93', 'value': 0.15873015873015872}, {'id': '94', 'value': 0.0784313725490196}, {'id': '95', 'value': 0.05084745762711865}, {'id': '96', 'value': 0.057692307692307696}, {'id': '97', 'value': 0.03773584905660377}, {'id': '98', 'value': 0.19047619047619047}, {'id': '99', 'value': 0.0784313725490196}, {'id': '100', 'value': 0.0784313725490196}, {'id': '101', 'value': 0.034482758620689655}, {'id': '102', 'value': 0.2153846153846154}, {'id': '103', 'value': 0.05263157894736842}, {'id': '104', 'value': 0.1702127659574468}, {'id': '105', 'value': 0.057692307692307696}, {'id': '106', 'value': 0.06896551724137931}, {'id': '107', 'value': 0.05084745762711865}, {'id': '108', 'value': 0.03773584905660377}, {'id': '109', 'value': 0.057692307692307696}, {'id': '110', 'value': 0.05084745762711865}, {'id': '111', 'value': 0.03571428571428571}, {'id': '112', 'value': 0.03636363636363636}, {'id': '113', 'value': 0.2127659574468085}, {'id': '114', 'value': 0.05263157894736842}, {'id': '115', 'value': 0.1}, {'id': '116', 'value': 0.05084745762711865}, {'id': '117', 'value': 0.0784313725490196}, {'id': '118', 'value': 0.03773584905660377}, {'id': '119', 'value': 0.057692307692307696}, {'id': '120', 'value': 0.1206896551724138}, {'id': '121', 'value': 0.034482758620689655}, {'id': '122', 'value': 0.20967741935483872}, {'id': '123', 'value': 0.0784313725490196}, {'id': '124', 'value': 0.1}, {'id': '125', 'value': 0.14516129032258066}, {'id': '126', 'value': 0.0784313725490196}, {'id': '127', 'value': 0.057692307692307696}], 'src.evaluation.metrics.fidelity.FidelityMetric': [{'id': '0', 'value': 1.0}, {'id': '1', 'value': 1.0}, {'id': '2', 'value': 1.0}, {'id': '3', 'value': 1.0}, {'id': '4', 'value': 1.0}, {'id': '5', 'value': 1.0}, {'id': '6', 'value': 1.0}, {'id': '7', 'value': 1.0}, {'id': '8', 'value': 1.0}, {'id': '9', 'value': 1.0}, {'id': '10', 'value': 1.0}, {'id': '11', 'value': 1.0}, {'id': '12', 'value': 1.0}, {'id': '13', 'value': 1.0}, {'id': '14', 'value': 1.0}, {'id': '15', 'value': 1.0}, {'id': '16', 'value': 1.0}, {'id': '17', 'value': 1.0}, {'id': '18', 'value': 1.0}, {'id': '19', 'value': 1.0}, {'id': '20', 'value': 1.0}, {'id': '21', 'value': 1.0}, {'id': '22', 'value': 1.0}, {'id': '23', 'value': 1.0}, {'id': '24', 'value': 1.0}, {'id': '25', 'value': 1.0}, {'id': '26', 'value': 1.0}, {'id': '27', 'value': 1.0}, {'id': '28', 'value': 1.0}, {'id': '29', 'value': 1.0}, {'id': '30', 'value': 1.0}, {'id': '31', 'value': -1.0}, {'id': '32', 'value': 1.0}, {'id': '33', 'value': 1.0}, {'id': '34', 'value': 1.0}, {'id': '35', 'value': 1.0}, {'id': '36', 'value': 1.0}, {'id': '37', 'value': 1.0}, {'id': '38', 'value': 1.0}, {'id': '39', 'value': 1.0}, {'id': '40', 'value': 1.0}, {'id': '41', 'value': 1.0}, {'id': '42', 'value': 1.0}, {'id': '43', 'value': 1.0}, {'id': '44', 'value': 1.0}, {'id': '45', 'value': 1.0}, {'id': '46', 'value': 1.0}, {'id': '47', 'value': 1.0}, {'id': '48', 'value': 1.0}, {'id': '49', 'value': 1.0}, {'id': '50', 'value': 1.0}, {'id': '51', 'value': 1.0}, {'id': '52', 'value': 1.0}, {'id': '53', 'value': 1.0}, {'id': '54', 'value': 1.0}, {'id': '55', 'value': 1.0}, {'id': '56', 'value': 1.0}, {'id': '57', 'value': 1.0}, {'id': '58', 'value': 1.0}, {'id': '59', 'value': 1.0}, {'id': '60', 'value': 1.0}, {'id': '61', 'value': 1.0}, {'id': '62', 'value': 1.0}, {'id': '63', 'value': 1.0}, {'id': '64', 'value': 1.0}, {'id': '65', 'value': 1.0}, {'id': '66', 'value': 1.0}, {'id': '67', 'value': 1.0}, {'id': '68', 'value': 1.0}, {'id': '69', 'value': 1.0}, {'id': '70', 'value': 1.0}, {'id': '71', 'value': 1.0}, {'id': '72', 'value': 1.0}, {'id': '73', 'value': 1.0}, {'id': '74', 'value': 1.0}, {'id': '75', 'value': 1.0}, {'id': '76', 'value': 1.0}, {'id': '77', 'value': 1.0}, {'id': '78', 'value': 1.0}, {'id': '79', 'value': 1.0}, {'id': '80', 'value': 1.0}, {'id': '81', 'value': 1.0}, {'id': '82', 'value': 1.0}, {'id': '83', 'value': 1.0}, {'id': '84', 'value': 1.0}, {'id': '85', 'value': 1.0}, {'id': '86', 'value': 1.0}, {'id': '87', 'value': 1.0}, {'id': '88', 'value': 1.0}, {'id': '89', 'value': 1.0}, {'id': '90', 'value': 1.0}, {'id': '91', 'value': 1.0}, {'id': '92', 'value': 1.0}, {'id': '93', 'value': 1.0}, {'id': '94', 'value': 1.0}, {'id': '95', 'value': 1.0}, {'id': '96', 'value': 1.0}, {'id': '97', 'value': 1.0}, {'id': '98', 'value': 1.0}, {'id': '99', 'value': 1.0}, {'id': '100', 'value': 1.0}, {'id': '101', 'value': 1.0}, {'id': '102', 'value': 1.0}, {'id': '103', 'value': 1.0}, {'id': '104', 'value': 1.0}, {'id': '105', 'value': 1.0}, {'id': '106', 'value': 1.0}, {'id': '107', 'value': 1.0}, {'id': '108', 'value': 1.0}, {'id': '109', 'value': 1.0}, {'id': '110', 'value': 1.0}, {'id': '111', 'value': 1.0}, {'id': '112', 'value': -1.0}, {'id': '113', 'value': 1.0}, {'id': '114', 'value': 1.0}, {'id': '115', 'value': 1.0}, {'id': '116', 'value': 1.0}, {'id': '117', 'value': 1.0}, {'id': '118', 'value': 1.0}, {'id': '119', 'value': 1.0}, {'id': '120', 'value': 1.0}, {'id': '121', 'value': 1.0}, {'id': '122', 'value': 1.0}, {'id': '123', 'value': 1.0}, {'id': '124', 'value': 1.0}, {'id': '125', 'value': 1.0}, {'id': '126', 'value': 1.0}, {'id': '127', 'value': 1.0}]}\n"
     ]
    }
   ],
   "source": [
    "config_path = os.path.join(module_path, 'lab', 'config', config_f_name)\n",
    "runno = 2\n",
    "    \n",
    "print(f\"Generating context for: {config_path}\")\n",
    "context = Context.get_context(config_path)\n",
    "context.run_number = runno\n",
    "\n",
    "context.logger.info(f\"Executing: {context.config_file} Run: {context.run_number}\")\n",
    "context.logger.info(\"Creating the evaluation manager....................................\")\n",
    "\n",
    "\n",
    "if 'do-pairs' in context.conf:\n",
    "    context.logger.info(\"Creating the paired  evaluators.....................................\")\n",
    "    eval_manager = PairedEvaluatorManager(context)\n",
    "else:\n",
    "    context.logger.info(\"Creating the evaluators......................................................\")\n",
    "    eval_manager = EvaluatorManager(context)\n",
    "\n",
    "context.logger.info(\n",
    "    \"Evaluating the explainers.............................................................\"\n",
    ")\n",
    "eval_manager.evaluate()\n"
   ]
  },
  {
   "cell_type": "markdown",
   "metadata": {},
   "source": [
    "### Aggregating the stats"
   ]
  },
  {
   "cell_type": "code",
   "execution_count": 8,
   "metadata": {},
   "outputs": [
    {
     "name": "stdout",
     "output_type": "stream",
     "text": [
      "2024-06-05 14:54:56,-394822279 | INFO | 377723 - Instantiating: src.evaluation.metrics.runtime.RuntimeMetric\n"
     ]
    },
    {
     "ename": "TypeError",
     "evalue": "__init__() missing 2 required positional arguments: 'context' and 'local_config'",
     "output_type": "error",
     "traceback": [
      "\u001b[0;31m---------------------------------------------------------------------------\u001b[0m",
      "\u001b[0;31mTypeError\u001b[0m                                 Traceback (most recent call last)",
      "Cell \u001b[0;32mIn[8], line 3\u001b[0m\n\u001b[1;32m      1\u001b[0m results_path \u001b[38;5;241m=\u001b[39m os\u001b[38;5;241m.\u001b[39mpath\u001b[38;5;241m.\u001b[39mjoin(module_path, \u001b[38;5;124m'\u001b[39m\u001b[38;5;124mlab\u001b[39m\u001b[38;5;124m'\u001b[39m, \u001b[38;5;124m'\u001b[39m\u001b[38;5;124moutput\u001b[39m\u001b[38;5;124m'\u001b[39m, \u001b[38;5;124m'\u001b[39m\u001b[38;5;124mresults\u001b[39m\u001b[38;5;124m'\u001b[39m)\n\u001b[1;32m      2\u001b[0m stats_file_path \u001b[38;5;241m=\u001b[39m os\u001b[38;5;241m.\u001b[39mpath\u001b[38;5;241m.\u001b[39mjoin(module_path, \u001b[38;5;124m'\u001b[39m\u001b[38;5;124mlab\u001b[39m\u001b[38;5;124m'\u001b[39m, \u001b[38;5;124m'\u001b[39m\u001b[38;5;124mstats\u001b[39m\u001b[38;5;124m'\u001b[39m, \u001b[38;5;124m'\u001b[39m\u001b[38;5;124mresults.csv\u001b[39m\u001b[38;5;124m'\u001b[39m)\n\u001b[0;32m----> 3\u001b[0m res \u001b[38;5;241m=\u001b[39m \u001b[43mdata_analyzer\u001b[49m\u001b[38;5;241;43m.\u001b[39;49m\u001b[43mcreate_aggregated_dataframe\u001b[49m\u001b[43m(\u001b[49m\u001b[43mresults_path\u001b[49m\u001b[43m)\u001b[49m\n\u001b[1;32m      4\u001b[0m res\u001b[38;5;241m.\u001b[39mto_csv(stats_file_path)\n\u001b[1;32m      5\u001b[0m res\n",
      "File \u001b[0;32m~/AIIM/GRETEL/silver/GRETEL/src/data_analysis/data_analyzer.py:87\u001b[0m, in \u001b[0;36mDataAnalyzer.create_aggregated_dataframe\u001b[0;34m(cls, results_folder_path)\u001b[0m\n\u001b[1;32m     84\u001b[0m \u001b[38;5;28;01mif\u001b[39;00m first_iteration: \u001b[38;5;66;03m# The metric names are only needed the first time\u001b[39;00m\n\u001b[1;32m     85\u001b[0m      metric_names\u001b[38;5;241m.\u001b[39mappend(metric_name)\n\u001b[0;32m---> 87\u001b[0m metric \u001b[38;5;241m=\u001b[39m \u001b[43mget_instance_kvargs\u001b[49m\u001b[43m(\u001b[49m\u001b[43mkls\u001b[49m\u001b[38;5;241;43m=\u001b[39;49m\u001b[43mm_class\u001b[49m\u001b[43m,\u001b[49m\u001b[43m \u001b[49m\u001b[43mparam\u001b[49m\u001b[38;5;241;43m=\u001b[39;49m\u001b[43m{\u001b[49m\u001b[43m}\u001b[49m\u001b[43m)\u001b[49m\n\u001b[1;32m     88\u001b[0m vals \u001b[38;5;241m=\u001b[39m [x[\u001b[38;5;124m'\u001b[39m\u001b[38;5;124mvalue\u001b[39m\u001b[38;5;124m'\u001b[39m] \u001b[38;5;28;01mfor\u001b[39;00m x \u001b[38;5;129;01min\u001b[39;00m m_value]\n\u001b[1;32m     89\u001b[0m agg_values, agg_std \u001b[38;5;241m=\u001b[39m metric\u001b[38;5;241m.\u001b[39maggregate(vals, correctness_vals)\n",
      "File \u001b[0;32m~/AIIM/GRETEL/silver/GRETEL/src/core/factory_base.py:19\u001b[0m, in \u001b[0;36mget_instance_kvargs\u001b[0;34m(kls, param)\u001b[0m\n\u001b[1;32m     17\u001b[0m \u001b[38;5;28;01mdef\u001b[39;00m \u001b[38;5;21mget_instance_kvargs\u001b[39m(kls, param):\n\u001b[1;32m     18\u001b[0m     GLogger\u001b[38;5;241m.\u001b[39mgetLogger()\u001b[38;5;241m.\u001b[39minfo(\u001b[38;5;124m\"\u001b[39m\u001b[38;5;124mInstantiating: \u001b[39m\u001b[38;5;124m\"\u001b[39m\u001b[38;5;241m+\u001b[39mkls)\n\u001b[0;32m---> 19\u001b[0m     \u001b[38;5;28;01mreturn\u001b[39;00m  \u001b[43mget_class\u001b[49m\u001b[43m(\u001b[49m\u001b[43mkls\u001b[49m\u001b[43m)\u001b[49m\u001b[43m(\u001b[49m\u001b[38;5;241;43m*\u001b[39;49m\u001b[38;5;241;43m*\u001b[39;49m\u001b[43mparam\u001b[49m\u001b[43m)\u001b[49m\n",
      "\u001b[0;31mTypeError\u001b[0m: __init__() missing 2 required positional arguments: 'context' and 'local_config'"
     ]
    }
   ],
   "source": [
    "results_path = os.path.join(module_path, 'lab', 'output', 'results')\n",
    "stats_file_path = os.path.join(module_path, 'lab', 'stats', 'results.csv')\n",
    "res = data_analyzer.create_aggregated_dataframe(results_path)\n",
    "res.to_csv(stats_file_path)\n",
    "res"
   ]
  },
  {
   "cell_type": "markdown",
   "metadata": {},
   "source": [
    "### Visualizing individual instances"
   ]
  },
  {
   "cell_type": "code",
   "execution_count": 9,
   "metadata": {},
   "outputs": [
    {
     "data": {
      "text/plain": [
       "<src.evaluation.evaluator_base.Evaluator at 0x7f8ade195040>"
      ]
     },
     "execution_count": 9,
     "metadata": {},
     "output_type": "execute_result"
    }
   ],
   "source": [
    "evaluator = eval_manager.evaluators[0]\n",
    "evaluator"
   ]
  },
  {
   "cell_type": "code",
   "execution_count": 10,
   "metadata": {},
   "outputs": [],
   "source": [
    "exp = evaluator.explanations[2]\n",
    "og_inst = exp.input_instance\n",
    "cf_inst = exp.counterfactual_instances[0]"
   ]
  },
  {
   "cell_type": "code",
   "execution_count": 12,
   "metadata": {},
   "outputs": [],
   "source": [
    "changes = data_analyzer.get_cf_changes(og_inst, cf_inst, False)"
   ]
  },
  {
   "cell_type": "code",
   "execution_count": 13,
   "metadata": {},
   "outputs": [
    {
     "name": "stdout",
     "output_type": "stream",
     "text": [
      "added edges: []\n",
      "removed_edges: [(6, 25), (16, 25)]\n",
      "added nodes: []\n",
      "removed nodes: []\n"
     ]
    }
   ],
   "source": [
    "common_edges = changes['common edges']\n",
    "added_edges = changes['added edges']\n",
    "removed_edges = changes['removed edges']\n",
    "common_nodes = changes['common nodes']\n",
    "added_nodes = changes['added nodes']\n",
    "removed_nodes = changes['removed nodes']\n",
    "\n",
    "print(f'added edges: {added_edges}')\n",
    "print(f'removed_edges: {removed_edges}')\n",
    "print(f'added nodes: {added_nodes}')\n",
    "print(f'removed nodes: {removed_nodes}')"
   ]
  },
  {
   "cell_type": "code",
   "execution_count": 14,
   "metadata": {},
   "outputs": [
    {
     "data": {
      "image/png": "[encoded data removed]",
      "text/plain": [
       "<Figure size 640x480 with 1 Axes>"
      ]
     },
     "metadata": {},
     "output_type": "display_data"
    }
   ],
   "source": [
    "pos = data_analyzer.draw_graph(og_inst)"
   ]
  },
  {
   "cell_type": "code",
   "execution_count": 15,
   "metadata": {},
   "outputs": [
    {
     "data": {
      "image/png": "[encoded data removed]",
      "text/plain": [
       "<Figure size 640x480 with 1 Axes>"
      ]
     },
     "metadata": {},
     "output_type": "display_data"
    }
   ],
   "source": [
    "data_analyzer.draw_counterfactual_actions(og_inst, cf_inst, position=pos)"
   ]
  },
  {
   "cell_type": "code",
   "execution_count": 18,
   "metadata": {},
   "outputs": [
    {
     "data": {
      "text/plain": [
       "'ExplanationUnion-550f26dea9a975ab43a0a7601ff14e3b'"
      ]
     },
     "execution_count": 18,
     "metadata": {},
     "output_type": "execute_result"
    }
   ],
   "source": [
    "exp.explainer.name"
   ]
  }
 ],
 "metadata": {
  "kernelspec": {
   "display_name": "XAI39",
   "language": "python",
   "name": "python3"
  },
  "language_info": {
   "codemirror_mode": {
    "name": "ipython",
    "version": 3
   },
   "file_extension": ".py",
   "mimetype": "text/x-python",
   "name": "python",
   "nbconvert_exporter": "python",
   "pygments_lexer": "ipython3",
   "version": "3.9.17"
  }
 },
 "nbformat": 4,
 "nbformat_minor": 2
}
